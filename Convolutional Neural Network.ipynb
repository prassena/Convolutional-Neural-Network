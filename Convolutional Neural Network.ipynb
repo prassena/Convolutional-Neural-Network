{
 "cells": [
  {
   "cell_type": "code",
   "execution_count": 0,
   "metadata": {
    "colab": {
     "base_uri": "https://localhost:8080/",
     "height": 34
    },
    "colab_type": "code",
    "executionInfo": {
     "elapsed": 2928,
     "status": "ok",
     "timestamp": 1568892773296,
     "user": {
      "displayName": "Prassena Kannan",
      "photoUrl": "https://lh3.googleusercontent.com/-wdXb0DL2Ohg/AAAAAAAAAAI/AAAAAAAAAtk/gU50EgBa5uo/s64/photo.jpg",
      "userId": "11395127353489346000"
     },
     "user_tz": -330
    },
    "id": "H9EU0e8yzFOm",
    "outputId": "24401aa9-8cc6-47f5-c239-4b3ec24e641c"
   },
   "outputs": [
    {
     "name": "stderr",
     "output_type": "stream",
     "text": [
      "Using TensorFlow backend.\n"
     ]
    }
   ],
   "source": [
    "# Credits: https://github.com/keras-team/keras/blob/master/examples/mnist_cnn.py\n",
    "\n",
    "from __future__ import print_function\n",
    "import keras\n",
    "from keras.datasets import mnist\n",
    "from keras.models import Sequential\n",
    "from keras.layers import Dense, Dropout, Flatten\n",
    "from keras.layers import Conv2D, MaxPooling2D,BatchNormalization\n",
    "from keras import backend as K\n",
    "import matplotlib.pyplot as plt\n",
    "from keras.initializers import glorot_normal , he_normal\n",
    "\n",
    "batch_size = 128\n",
    "num_classes = 10\n",
    "epochs = 12\n",
    "\n",
    "# input image dimensions\n",
    "img_rows, img_cols = 28, 28\n",
    "\n",
    "# the data, split between train and test sets"
   ]
  },
  {
   "cell_type": "code",
   "execution_count": 0,
   "metadata": {
    "colab": {},
    "colab_type": "code",
    "id": "abJshbiEwlF_"
   },
   "outputs": [],
   "source": [
    "%matplotlib notebook\n",
    "%matplotlib inline\n",
    "import matplotlib.pyplot as plt\n",
    "import numpy as np\n",
    "import time\n",
    "# https://gist.github.com/greydanus/f6eee59eaf1d90fcb3b534a25362cea4\n",
    "# https://stackoverflow.com/a/14434334\n",
    "# this function is used to update the plots for each epoch and error\n",
    "def plt_dynamic(x, vy, ty, ax, colors=['b']):\n",
    "    ax.plot(x, vy, 'b', label=\"Validation Loss\")\n",
    "    ax.plot(x, ty, 'r', label=\"Train Loss\")\n",
    "    plt.legend()\n",
    "    plt.grid()\n",
    "    fig.canvas.draw()"
   ]
  },
  {
   "cell_type": "code",
   "execution_count": 0,
   "metadata": {
    "colab": {
     "base_uri": "https://localhost:8080/",
     "height": 52
    },
    "colab_type": "code",
    "executionInfo": {
     "elapsed": 3836,
     "status": "ok",
     "timestamp": 1568892774236,
     "user": {
      "displayName": "Prassena Kannan",
      "photoUrl": "https://lh3.googleusercontent.com/-wdXb0DL2Ohg/AAAAAAAAAAI/AAAAAAAAAtk/gU50EgBa5uo/s64/photo.jpg",
      "userId": "11395127353489346000"
     },
     "user_tz": -330
    },
    "id": "9ll8LXc6-Vm9",
    "outputId": "64950b51-efb6-45fe-b383-69d7c69e6c68"
   },
   "outputs": [
    {
     "name": "stdout",
     "output_type": "stream",
     "text": [
      "Downloading data from https://s3.amazonaws.com/img-datasets/mnist.npz\n",
      "11493376/11490434 [==============================] - 1s 0us/step\n"
     ]
    }
   ],
   "source": [
    "(x_train, y_train), (x_test, y_test) = mnist.load_data()\n",
    "if K.image_data_format() == 'channels_first':\n",
    "    x_train = x_train.reshape(x_train.shape[0], 1, img_rows, img_cols)\n",
    "    x_test = x_test.reshape(x_test.shape[0], 1, img_rows, img_cols)\n",
    "    input_shape = (1, img_rows, img_cols)\n",
    "else:\n",
    "    x_train = x_train.reshape(x_train.shape[0], img_rows, img_cols, 1)\n",
    "    x_test = x_test.reshape(x_test.shape[0], img_rows, img_cols, 1)\n",
    "    input_shape = (img_rows, img_cols, 1)"
   ]
  },
  {
   "cell_type": "code",
   "execution_count": 0,
   "metadata": {
    "colab": {
     "base_uri": "https://localhost:8080/",
     "height": 70
    },
    "colab_type": "code",
    "executionInfo": {
     "elapsed": 4365,
     "status": "ok",
     "timestamp": 1568892774792,
     "user": {
      "displayName": "Prassena Kannan",
      "photoUrl": "https://lh3.googleusercontent.com/-wdXb0DL2Ohg/AAAAAAAAAAI/AAAAAAAAAtk/gU50EgBa5uo/s64/photo.jpg",
      "userId": "11395127353489346000"
     },
     "user_tz": -330
    },
    "id": "k_H2PM65zlBq",
    "outputId": "908d95b8-9d80-43a5-ea5b-a36bfdfec913"
   },
   "outputs": [
    {
     "name": "stdout",
     "output_type": "stream",
     "text": [
      "x_train shape: (60000, 28, 28, 1)\n",
      "60000 train samples\n",
      "10000 test samples\n"
     ]
    }
   ],
   "source": [
    "x_train = x_train.astype('float32')\n",
    "x_test = x_test.astype('float32')\n",
    "x_train /= 255\n",
    "x_test /= 255\n",
    "print('x_train shape:', x_train.shape)\n",
    "print(x_train.shape[0], 'train samples')\n",
    "print(x_test.shape[0], 'test samples')\n",
    "\n",
    "# convert class vectors to binary class matrices\n",
    "y_train = keras.utils.to_categorical(y_train, num_classes)\n",
    "y_test = keras.utils.to_categorical(y_test, num_classes)"
   ]
  },
  {
   "cell_type": "markdown",
   "metadata": {
    "colab_type": "text",
    "id": "DwqDPvyxzlBs"
   },
   "source": [
    "<h2>1.0 Number of convolusion Layer 2 </2>"
   ]
  },
  {
   "cell_type": "markdown",
   "metadata": {
    "colab_type": "text",
    "id": "e__KqxLIzlBt"
   },
   "source": [
    "#### 1.1 Without droupout or Batch Normilization"
   ]
  },
  {
   "cell_type": "code",
   "execution_count": 0,
   "metadata": {
    "colab": {
     "base_uri": "https://localhost:8080/",
     "height": 776
    },
    "colab_type": "code",
    "executionInfo": {
     "elapsed": 84695,
     "status": "ok",
     "timestamp": 1568628303737,
     "user": {
      "displayName": "Prassena Kannan",
      "photoUrl": "https://lh3.googleusercontent.com/-wdXb0DL2Ohg/AAAAAAAAAAI/AAAAAAAAAtk/gU50EgBa5uo/s64/photo.jpg",
      "userId": "11395127353489346000"
     },
     "user_tz": -330
    },
    "id": "-x74v8na9XO-",
    "outputId": "39a054c3-c7f6-4357-acfe-962553c64483"
   },
   "outputs": [
    {
     "name": "stdout",
     "output_type": "stream",
     "text": [
      "WARNING:tensorflow:From /usr/local/lib/python3.6/dist-packages/keras/backend/tensorflow_backend.py:541: The name tf.placeholder is deprecated. Please use tf.compat.v1.placeholder instead.\n",
      "\n",
      "WARNING:tensorflow:From /usr/local/lib/python3.6/dist-packages/keras/backend/tensorflow_backend.py:4479: The name tf.truncated_normal is deprecated. Please use tf.random.truncated_normal instead.\n",
      "\n",
      "WARNING:tensorflow:From /usr/local/lib/python3.6/dist-packages/keras/backend/tensorflow_backend.py:4267: The name tf.nn.max_pool is deprecated. Please use tf.nn.max_pool2d instead.\n",
      "\n",
      "WARNING:tensorflow:From /usr/local/lib/python3.6/dist-packages/keras/backend/tensorflow_backend.py:4432: The name tf.random_uniform is deprecated. Please use tf.random.uniform instead.\n",
      "\n",
      "WARNING:tensorflow:From /usr/local/lib/python3.6/dist-packages/keras/optimizers.py:793: The name tf.train.Optimizer is deprecated. Please use tf.compat.v1.train.Optimizer instead.\n",
      "\n",
      "WARNING:tensorflow:From /usr/local/lib/python3.6/dist-packages/keras/backend/tensorflow_backend.py:3576: The name tf.log is deprecated. Please use tf.math.log instead.\n",
      "\n",
      "WARNING:tensorflow:From /usr/local/lib/python3.6/dist-packages/tensorflow/python/ops/math_grad.py:1250: add_dispatch_support.<locals>.wrapper (from tensorflow.python.ops.array_ops) is deprecated and will be removed in a future version.\n",
      "Instructions for updating:\n",
      "Use tf.where in 2.0, which has the same broadcast rule as np.where\n",
      "Train on 60000 samples, validate on 10000 samples\n",
      "Epoch 1/12\n",
      "60000/60000 [==============================] - 82s 1ms/step - loss: 0.1237 - acc: 0.9617 - val_loss: 0.0469 - val_acc: 0.9860\n",
      "Epoch 2/12\n",
      "60000/60000 [==============================] - 82s 1ms/step - loss: 0.0350 - acc: 0.9893 - val_loss: 0.0358 - val_acc: 0.9875\n",
      "Epoch 3/12\n",
      "60000/60000 [==============================] - 82s 1ms/step - loss: 0.0230 - acc: 0.9925 - val_loss: 0.0358 - val_acc: 0.9881\n",
      "Epoch 4/12\n",
      "60000/60000 [==============================] - 81s 1ms/step - loss: 0.0149 - acc: 0.9951 - val_loss: 0.0333 - val_acc: 0.9893\n",
      "Epoch 5/12\n",
      "60000/60000 [==============================] - 82s 1ms/step - loss: 0.0110 - acc: 0.9964 - val_loss: 0.0417 - val_acc: 0.9874\n",
      "Epoch 6/12\n",
      "60000/60000 [==============================] - 80s 1ms/step - loss: 0.0075 - acc: 0.9975 - val_loss: 0.0386 - val_acc: 0.9884\n",
      "Epoch 7/12\n",
      "60000/60000 [==============================] - 81s 1ms/step - loss: 0.0075 - acc: 0.9975 - val_loss: 0.0424 - val_acc: 0.9894\n",
      "Epoch 8/12\n",
      "60000/60000 [==============================] - 81s 1ms/step - loss: 0.0073 - acc: 0.9976 - val_loss: 0.0372 - val_acc: 0.9893\n",
      "Epoch 9/12\n",
      "60000/60000 [==============================] - 81s 1ms/step - loss: 0.0059 - acc: 0.9981 - val_loss: 0.0489 - val_acc: 0.9878\n",
      "Epoch 10/12\n",
      "60000/60000 [==============================] - 82s 1ms/step - loss: 0.0049 - acc: 0.9985 - val_loss: 0.0563 - val_acc: 0.9872\n",
      "Epoch 11/12\n",
      "60000/60000 [==============================] - 81s 1ms/step - loss: 0.0043 - acc: 0.9987 - val_loss: 0.0536 - val_acc: 0.9873\n",
      "Epoch 12/12\n",
      "60000/60000 [==============================] - 84s 1ms/step - loss: 0.0056 - acc: 0.9981 - val_loss: 0.0547 - val_acc: 0.9876\n",
      "Test loss: 0.05468372709260511\n",
      "Test accuracy: 0.9876\n"
     ]
    }
   ],
   "source": [
    "model1 = Sequential()\n",
    "#conv_layer one\n",
    "model1.add(Conv2D(32, kernel_size=(3, 3),activation='relu',input_shape=input_shape,padding ='same',kernel_initializer= he_normal()))\n",
    "model1.add(MaxPooling2D(pool_size=(2, 2)))   \n",
    "\n",
    "#conv_layer two\n",
    "model1.add(Conv2D(64, (3, 3), activation='relu',padding ='same'))\n",
    "\n",
    "#top layer\n",
    "model1.add(Flatten())\n",
    "model1.add(Dense(128, activation='relu'))\n",
    "model1.add(Dense(num_classes, activation='softmax'))\n",
    "\n",
    "model1.compile(loss=\"categorical_crossentropy\",\n",
    "              optimizer=\"adam\",\n",
    "              metrics=['accuracy'])\n",
    "\n",
    "history = model1.fit(x_train, y_train,\n",
    "          batch_size=batch_size,\n",
    "          epochs=epochs,\n",
    "          verbose=1,\n",
    "          validation_data=(x_test, y_test))\n",
    "score = model1.evaluate(x_test, y_test, verbose=0)\n",
    "print('Test loss:', score[0])\n",
    "print('Test accuracy:', score[1])\n"
   ]
  },
  {
   "cell_type": "code",
   "execution_count": 0,
   "metadata": {
    "colab": {
     "base_uri": "https://localhost:8080/",
     "height": 283
    },
    "colab_type": "code",
    "executionInfo": {
     "elapsed": 1232,
     "status": "ok",
     "timestamp": 1568615395661,
     "user": {
      "displayName": "Prassena Kannan",
      "photoUrl": "https://lh3.googleusercontent.com/-wdXb0DL2Ohg/AAAAAAAAAAI/AAAAAAAAAtk/gU50EgBa5uo/s64/photo.jpg",
      "userId": "11395127353489346000"
     },
     "user_tz": -330
    },
    "id": "3ki7r-Qk5h47",
    "outputId": "adb4c12b-7783-4a4b-cbef-a04488a65f0a"
   },
   "outputs": [
    {
     "data": {
      "image/png": "[encoded data removed]",
      "text/plain": [
       "<Figure size 432x288 with 1 Axes>"
      ]
     },
     "metadata": {
      "tags": []
     },
     "output_type": "display_data"
    }
   ],
   "source": [
    "fig,ax = plt.subplots(1,1)\n",
    "ax.set_xlabel('epoch') ; ax.set_ylabel('Categorical Crossentropy Loss')\n",
    "\n",
    "# list of epoch numbers\n",
    "x = list(range(1,epochs+1))\n",
    "\n",
    "# print(history.history.keys())\n",
    "# dict_keys(['val_loss', 'val_acc', 'loss', 'acc'])\n",
    "# history = model_drop.fit(X_train, Y_train, batch_size=batch_size, epochs=nb_epoch, verbose=1, validation_data=(X_test, Y_test))\n",
    "\n",
    "# we will get val_loss and val_acc only when you pass the paramter validation_data\n",
    "# val_loss : validation loss\n",
    "# val_acc : validation accuracy\n",
    "\n",
    "# loss : training loss\n",
    "# acc : train accuracy\n",
    "# for each key in histrory.histrory we will have a list of length equal to number of epochs\n",
    "\n",
    "vy = history.history['val_loss']\n",
    "ty = history.history['loss']\n",
    "plt_dynamic(x, vy, ty, ax)"
   ]
  },
  {
   "cell_type": "markdown",
   "metadata": {
    "colab_type": "text",
    "id": "ED-DHa8azlBx"
   },
   "source": [
    "### 1.2 With Droupout's"
   ]
  },
  {
   "cell_type": "code",
   "execution_count": 0,
   "metadata": {
    "colab": {
     "base_uri": "https://localhost:8080/",
     "height": 565
    },
    "colab_type": "code",
    "executionInfo": {
     "elapsed": 1164539,
     "status": "ok",
     "timestamp": 1568629489125,
     "user": {
      "displayName": "Prassena Kannan",
      "photoUrl": "https://lh3.googleusercontent.com/-wdXb0DL2Ohg/AAAAAAAAAAI/AAAAAAAAAtk/gU50EgBa5uo/s64/photo.jpg",
      "userId": "11395127353489346000"
     },
     "user_tz": -330
    },
    "id": "cN2T7bdaNbRJ",
    "outputId": "e707f99c-3f27-4967-8a9c-5058f48d0d61"
   },
   "outputs": [
    {
     "name": "stdout",
     "output_type": "stream",
     "text": [
      "WARNING:tensorflow:From /usr/local/lib/python3.6/dist-packages/keras/backend/tensorflow_backend.py:3733: calling dropout (from tensorflow.python.ops.nn_ops) with keep_prob is deprecated and will be removed in a future version.\n",
      "Instructions for updating:\n",
      "Please use `rate` instead of `keep_prob`. Rate should be set to `rate = 1 - keep_prob`.\n",
      "Train on 60000 samples, validate on 10000 samples\n",
      "Epoch 1/12\n",
      "60000/60000 [==============================] - 97s 2ms/step - loss: 0.2666 - acc: 0.9176 - val_loss: 0.0585 - val_acc: 0.9810\n",
      "Epoch 2/12\n",
      "60000/60000 [==============================] - 96s 2ms/step - loss: 0.0995 - acc: 0.9705 - val_loss: 0.0408 - val_acc: 0.9851\n",
      "Epoch 3/12\n",
      "60000/60000 [==============================] - 96s 2ms/step - loss: 0.0757 - acc: 0.9765 - val_loss: 0.0371 - val_acc: 0.9865\n",
      "Epoch 4/12\n",
      "60000/60000 [==============================] - 96s 2ms/step - loss: 0.0612 - acc: 0.9814 - val_loss: 0.0323 - val_acc: 0.9897\n",
      "Epoch 5/12\n",
      "60000/60000 [==============================] - 96s 2ms/step - loss: 0.0511 - acc: 0.9847 - val_loss: 0.0300 - val_acc: 0.9896\n",
      "Epoch 6/12\n",
      "60000/60000 [==============================] - 98s 2ms/step - loss: 0.0449 - acc: 0.9853 - val_loss: 0.0296 - val_acc: 0.9900\n",
      "Epoch 7/12\n",
      "60000/60000 [==============================] - 98s 2ms/step - loss: 0.0405 - acc: 0.9878 - val_loss: 0.0256 - val_acc: 0.9921\n",
      "Epoch 8/12\n",
      "60000/60000 [==============================] - 97s 2ms/step - loss: 0.0362 - acc: 0.9887 - val_loss: 0.0270 - val_acc: 0.9913\n",
      "Epoch 9/12\n",
      "60000/60000 [==============================] - 96s 2ms/step - loss: 0.0339 - acc: 0.9890 - val_loss: 0.0259 - val_acc: 0.9919\n",
      "Epoch 10/12\n",
      "60000/60000 [==============================] - 97s 2ms/step - loss: 0.0311 - acc: 0.9902 - val_loss: 0.0258 - val_acc: 0.9923\n",
      "Epoch 11/12\n",
      "60000/60000 [==============================] - 96s 2ms/step - loss: 0.0300 - acc: 0.9901 - val_loss: 0.0265 - val_acc: 0.9927\n",
      "Epoch 12/12\n",
      "60000/60000 [==============================] - 96s 2ms/step - loss: 0.0269 - acc: 0.9910 - val_loss: 0.0260 - val_acc: 0.9926\n",
      "Test loss: 0.025968923277251497\n",
      "Test accuracy: 0.9926\n"
     ]
    }
   ],
   "source": [
    "model2 = Sequential()\n",
    "#conv_layer one\n",
    "model2.add(Conv2D(32, kernel_size=(3, 3),activation='relu',input_shape=input_shape,padding ='same'))\n",
    "model2.add(MaxPooling2D(pool_size=(2, 2)))\n",
    "model2.add(Dropout(0.25))\n",
    "\n",
    "#conv_layer two\n",
    "model2.add(Conv2D(64, (3, 3), activation='relu',padding ='same'))\n",
    "model2.add(Dropout(0.25))\n",
    "\n",
    "#top layer\n",
    "model2.add(Flatten())\n",
    "model2.add(Dense(128, activation='relu'))\n",
    "model2.add(Dropout(0.5))\n",
    "model2.add(Dense(num_classes, activation='softmax'))\n",
    "\n",
    "model2.compile(loss=\"categorical_crossentropy\",\n",
    "              optimizer=\"adam\",\n",
    "              metrics=['accuracy'])\n",
    "\n",
    "history = model2.fit(x_train, y_train,\n",
    "          batch_size=batch_size,\n",
    "          epochs=epochs,\n",
    "          verbose=1,\n",
    "          validation_data=(x_test, y_test))\n",
    "score = model2.evaluate(x_test, y_test, verbose=0)\n",
    "print('Test loss:', score[0])\n",
    "print('Test accuracy:', score[1])"
   ]
  },
  {
   "cell_type": "code",
   "execution_count": 0,
   "metadata": {
    "colab": {
     "base_uri": "https://localhost:8080/",
     "height": 283
    },
    "colab_type": "code",
    "executionInfo": {
     "elapsed": 1164358,
     "status": "ok",
     "timestamp": 1568629489130,
     "user": {
      "displayName": "Prassena Kannan",
      "photoUrl": "https://lh3.googleusercontent.com/-wdXb0DL2Ohg/AAAAAAAAAAI/AAAAAAAAAtk/gU50EgBa5uo/s64/photo.jpg",
      "userId": "11395127353489346000"
     },
     "user_tz": -330
    },
    "id": "qH1ZFGKbfyF9",
    "outputId": "3e8ce2d4-42ce-4f1a-c608-777d7777391a"
   },
   "outputs": [
    {
     "data": {
      "image/png": "[encoded data removed]",
      "text/plain": [
       "<Figure size 432x288 with 1 Axes>"
      ]
     },
     "metadata": {
      "tags": []
     },
     "output_type": "display_data"
    }
   ],
   "source": [
    "fig,ax = plt.subplots(1,1)\n",
    "ax.set_xlabel('epoch') ; ax.set_ylabel('Categorical Crossentropy Loss')\n",
    "\n",
    "# list of epoch numbers\n",
    "x = list(range(1,epochs+1))\n",
    "\n",
    "# print(history.history.keys())\n",
    "# dict_keys(['val_loss', 'val_acc', 'loss', 'acc'])\n",
    "# history = model_drop.fit(X_train, Y_train, batch_size=batch_size, epochs=nb_epoch, verbose=1, validation_data=(X_test, Y_test))\n",
    "\n",
    "# we will get val_loss and val_acc only when you pass the paramter validation_data\n",
    "# val_loss : validation loss\n",
    "# val_acc : validation accuracy\n",
    "\n",
    "# loss : training loss\n",
    "# acc : train accuracy\n",
    "# for each key in histrory.histrory we will have a list of length equal to number of epochs\n",
    "\n",
    "vy = history.history['val_loss']\n",
    "ty = history.history['loss']\n",
    "plt_dynamic(x, vy, ty, ax)"
   ]
  },
  {
   "cell_type": "markdown",
   "metadata": {
    "colab_type": "text",
    "id": "2674HXy1zlB0"
   },
   "source": [
    "### 1.3 With only Batch Normilization "
   ]
  },
  {
   "cell_type": "code",
   "execution_count": 0,
   "metadata": {
    "colab": {
     "base_uri": "https://localhost:8080/",
     "height": 547
    },
    "colab_type": "code",
    "executionInfo": {
     "elapsed": 2602881,
     "status": "ok",
     "timestamp": 1568630928161,
     "user": {
      "displayName": "Prassena Kannan",
      "photoUrl": "https://lh3.googleusercontent.com/-wdXb0DL2Ohg/AAAAAAAAAAI/AAAAAAAAAtk/gU50EgBa5uo/s64/photo.jpg",
      "userId": "11395127353489346000"
     },
     "user_tz": -330
    },
    "id": "rA96DJquzlB0",
    "outputId": "61d0989b-dea4-42e7-9d3d-1763ee6f0a5b"
   },
   "outputs": [
    {
     "name": "stdout",
     "output_type": "stream",
     "text": [
      "WARNING:tensorflow:From /usr/local/lib/python3.6/dist-packages/keras/backend/tensorflow_backend.py:2041: The name tf.nn.fused_batch_norm is deprecated. Please use tf.compat.v1.nn.fused_batch_norm instead.\n",
      "\n",
      "Train on 60000 samples, validate on 10000 samples\n",
      "Epoch 1/12\n",
      "60000/60000 [==============================] - 120s 2ms/step - loss: 0.1081 - acc: 0.9680 - val_loss: 0.0882 - val_acc: 0.9706\n",
      "Epoch 2/12\n",
      "60000/60000 [==============================] - 118s 2ms/step - loss: 0.0323 - acc: 0.9901 - val_loss: 0.0454 - val_acc: 0.9849\n",
      "Epoch 3/12\n",
      "60000/60000 [==============================] - 118s 2ms/step - loss: 0.0182 - acc: 0.9944 - val_loss: 0.0601 - val_acc: 0.9824\n",
      "Epoch 4/12\n",
      "60000/60000 [==============================] - 120s 2ms/step - loss: 0.0132 - acc: 0.9957 - val_loss: 0.0534 - val_acc: 0.9857\n",
      "Epoch 5/12\n",
      "60000/60000 [==============================] - 119s 2ms/step - loss: 0.0097 - acc: 0.9972 - val_loss: 0.0522 - val_acc: 0.9848\n",
      "Epoch 6/12\n",
      "60000/60000 [==============================] - 119s 2ms/step - loss: 0.0101 - acc: 0.9966 - val_loss: 0.0432 - val_acc: 0.9880\n",
      "Epoch 7/12\n",
      "60000/60000 [==============================] - 120s 2ms/step - loss: 0.0073 - acc: 0.9976 - val_loss: 0.0452 - val_acc: 0.9875\n",
      "Epoch 8/12\n",
      "60000/60000 [==============================] - 120s 2ms/step - loss: 0.0062 - acc: 0.9981 - val_loss: 0.0560 - val_acc: 0.9841\n",
      "Epoch 9/12\n",
      "60000/60000 [==============================] - 121s 2ms/step - loss: 0.0076 - acc: 0.9973 - val_loss: 0.0511 - val_acc: 0.9868\n",
      "Epoch 10/12\n",
      "60000/60000 [==============================] - 119s 2ms/step - loss: 0.0043 - acc: 0.9987 - val_loss: 0.0403 - val_acc: 0.9886\n",
      "Epoch 11/12\n",
      "60000/60000 [==============================] - 119s 2ms/step - loss: 0.0024 - acc: 0.9994 - val_loss: 0.0574 - val_acc: 0.9843\n",
      "Epoch 12/12\n",
      "60000/60000 [==============================] - 119s 2ms/step - loss: 0.0044 - acc: 0.9986 - val_loss: 0.0577 - val_acc: 0.9836\n",
      "Test loss: 0.05772444270907145\n",
      "Test accuracy: 0.9836\n"
     ]
    }
   ],
   "source": [
    "model3 = Sequential()\n",
    "\n",
    "#conv_layer one\n",
    "model3.add(Conv2D(32, kernel_size=(3, 3),activation='relu',input_shape=input_shape,padding ='same'))\n",
    "model3.add(MaxPooling2D(pool_size=(2, 2)))\n",
    "\n",
    "\n",
    "#conv_layer two\n",
    "model3.add(Conv2D(64, (3, 3), activation='relu',padding ='same'))\n",
    "model3.add(BatchNormalization())\n",
    "\n",
    "#top layer\n",
    "model3.add(Flatten())\n",
    "model3.add(BatchNormalization())\n",
    "\n",
    "model3.add(Dense(128, activation='relu'))\n",
    "model3.add(BatchNormalization())\n",
    "\n",
    "model3.add(Dense(num_classes, activation='softmax'))\n",
    "\n",
    "model3.compile(loss=\"categorical_crossentropy\",\n",
    "              optimizer=\"adam\",\n",
    "              metrics=['accuracy'])\n",
    "\n",
    "history = model3.fit(x_train, y_train,\n",
    "          batch_size=batch_size,\n",
    "          epochs=epochs,\n",
    "          verbose=1,\n",
    "          validation_data=(x_test, y_test))\n",
    "score = model3.evaluate(x_test, y_test, verbose=0)\n",
    "print('Test loss:', score[0])\n",
    "print('Test accuracy:', score[1])"
   ]
  },
  {
   "cell_type": "code",
   "execution_count": 0,
   "metadata": {
    "colab": {
     "base_uri": "https://localhost:8080/",
     "height": 283
    },
    "colab_type": "code",
    "executionInfo": {
     "elapsed": 1145,
     "status": "ok",
     "timestamp": 1568631242110,
     "user": {
      "displayName": "Prassena Kannan",
      "photoUrl": "https://lh3.googleusercontent.com/-wdXb0DL2Ohg/AAAAAAAAAAI/AAAAAAAAAtk/gU50EgBa5uo/s64/photo.jpg",
      "userId": "11395127353489346000"
     },
     "user_tz": -330
    },
    "id": "iCJ5SHtx6GAB",
    "outputId": "2d4b67fb-beab-4134-898f-4b397473d341"
   },
   "outputs": [
    {
     "data": {
      "image/png": "[encoded data removed]",
      "text/plain": [
       "<Figure size 432x288 with 1 Axes>"
      ]
     },
     "metadata": {
      "tags": []
     },
     "output_type": "display_data"
    }
   ],
   "source": [
    "fig,ax = plt.subplots(1,1)\n",
    "ax.set_xlabel('epoch') ; ax.set_ylabel('Categorical Crossentropy Loss')\n",
    "\n",
    "# list of epoch numbers\n",
    "x = list(range(1,epochs+1))\n",
    "\n",
    "# print(history.history.keys())\n",
    "# dict_keys(['val_loss', 'val_acc', 'loss', 'acc'])\n",
    "# history = model_drop.fit(X_train, Y_train, batch_size=batch_size, epochs=nb_epoch, verbose=1, validation_data=(X_test, Y_test))\n",
    "\n",
    "# we will get val_loss and val_acc only when you pass the paramter validation_data\n",
    "# val_loss : validation loss\n",
    "# val_acc : validation accuracy\n",
    "\n",
    "# loss : training loss\n",
    "# acc : train accuracy\n",
    "# for each key in histrory.histrory we will have a list of length equal to number of epochs\n",
    "\n",
    "vy = history.history['val_loss']\n",
    "ty = history.history['loss']\n",
    "plt_dynamic(x, vy, ty, ax)"
   ]
  },
  {
   "cell_type": "markdown",
   "metadata": {
    "colab_type": "text",
    "id": "BxeJ15S_-VOd"
   },
   "source": [
    "### 1.4 With Droupout's and Batch Normilization "
   ]
  },
  {
   "cell_type": "code",
   "execution_count": 0,
   "metadata": {
    "colab": {
     "base_uri": "https://localhost:8080/",
     "height": 512
    },
    "colab_type": "code",
    "executionInfo": {
     "elapsed": 1740531,
     "status": "ok",
     "timestamp": 1568647949991,
     "user": {
      "displayName": "Prassena Kannan",
      "photoUrl": "https://lh3.googleusercontent.com/-wdXb0DL2Ohg/AAAAAAAAAAI/AAAAAAAAAtk/gU50EgBa5uo/s64/photo.jpg",
      "userId": "11395127353489346000"
     },
     "user_tz": -330
    },
    "id": "xwqxt_3_-VOm",
    "outputId": "32d9ee19-1657-4aa2-f8d1-76fa1d67e8e5"
   },
   "outputs": [
    {
     "name": "stdout",
     "output_type": "stream",
     "text": [
      "Train on 60000 samples, validate on 10000 samples\n",
      "Epoch 1/12\n",
      "60000/60000 [==============================] - 149s 2ms/step - loss: 0.3016 - acc: 0.9090 - val_loss: 0.0683 - val_acc: 0.9782\n",
      "Epoch 2/12\n",
      "60000/60000 [==============================] - 146s 2ms/step - loss: 0.1188 - acc: 0.9631 - val_loss: 0.0455 - val_acc: 0.9854\n",
      "Epoch 3/12\n",
      "60000/60000 [==============================] - 147s 2ms/step - loss: 0.0883 - acc: 0.9725 - val_loss: 0.0393 - val_acc: 0.9874\n",
      "Epoch 4/12\n",
      "60000/60000 [==============================] - 144s 2ms/step - loss: 0.0730 - acc: 0.9768 - val_loss: 0.0327 - val_acc: 0.9888\n",
      "Epoch 5/12\n",
      "60000/60000 [==============================] - 143s 2ms/step - loss: 0.0650 - acc: 0.9795 - val_loss: 0.0292 - val_acc: 0.9907\n",
      "Epoch 6/12\n",
      "60000/60000 [==============================] - 143s 2ms/step - loss: 0.0595 - acc: 0.9809 - val_loss: 0.0260 - val_acc: 0.9918\n",
      "Epoch 7/12\n",
      "60000/60000 [==============================] - 144s 2ms/step - loss: 0.0557 - acc: 0.9823 - val_loss: 0.0314 - val_acc: 0.9886\n",
      "Epoch 8/12\n",
      "60000/60000 [==============================] - 143s 2ms/step - loss: 0.0507 - acc: 0.9839 - val_loss: 0.0244 - val_acc: 0.9909\n",
      "Epoch 9/12\n",
      "60000/60000 [==============================] - 143s 2ms/step - loss: 0.0472 - acc: 0.9849 - val_loss: 0.0246 - val_acc: 0.9924\n",
      "Epoch 10/12\n",
      "60000/60000 [==============================] - 144s 2ms/step - loss: 0.0441 - acc: 0.9865 - val_loss: 0.0260 - val_acc: 0.9915\n",
      "Epoch 11/12\n",
      "60000/60000 [==============================] - 143s 2ms/step - loss: 0.0437 - acc: 0.9863 - val_loss: 0.0255 - val_acc: 0.9913\n",
      "Epoch 12/12\n",
      "60000/60000 [==============================] - 143s 2ms/step - loss: 0.0413 - acc: 0.9868 - val_loss: 0.0230 - val_acc: 0.9915\n",
      "Test loss: 0.022980597754969495\n",
      "Test accuracy: 0.9915\n"
     ]
    }
   ],
   "source": [
    "model4 = Sequential()\n",
    "\n",
    "#conv_layer one\n",
    "model4.add(Conv2D(32, kernel_size=(3, 3),activation='relu',input_shape=input_shape,padding ='same',kernel_initializer= he_normal(seed=None)))\n",
    "model4.add(MaxPooling2D(pool_size=(2, 2)))\n",
    "model4.add(Dropout(0.25))\n",
    "\n",
    "#conv_layer two\n",
    "model4.add(Conv2D(64, (3, 3), activation='relu',padding ='same',kernel_initializer= he_normal(seed=None)))\n",
    "model4.add(BatchNormalization())\n",
    "model4.add(Dropout(0.25))\n",
    "\n",
    "#top layer\n",
    "model4.add(Flatten())\n",
    "model4.add(BatchNormalization())\n",
    "model4.add(Dropout(0.5))\n",
    "\n",
    "model4.add(Dense(128, activation='relu',kernel_initializer= he_normal(seed=None)))\n",
    "model4.add(BatchNormalization())\n",
    "model4.add(Dropout(0.5))\n",
    "\n",
    "model4.add(Dense(num_classes, activation='softmax'))\n",
    "\n",
    "model4.compile(loss=\"categorical_crossentropy\",\n",
    "              optimizer=\"adam\",\n",
    "              metrics=['accuracy'])\n",
    "\n",
    "history = model4.fit(x_train, y_train,\n",
    "          batch_size=batch_size,\n",
    "          epochs=epochs,\n",
    "          verbose=1,\n",
    "          validation_data=(x_test, y_test))\n",
    "score = model4.evaluate(x_test, y_test, verbose=0)\n",
    "print('Test loss:', score[0])\n",
    "print('Test accuracy:', score[1])"
   ]
  },
  {
   "cell_type": "code",
   "execution_count": 0,
   "metadata": {
    "colab": {
     "base_uri": "https://localhost:8080/",
     "height": 283
    },
    "colab_type": "code",
    "executionInfo": {
     "elapsed": 1734618,
     "status": "ok",
     "timestamp": 1568647949992,
     "user": {
      "displayName": "Prassena Kannan",
      "photoUrl": "https://lh3.googleusercontent.com/-wdXb0DL2Ohg/AAAAAAAAAAI/AAAAAAAAAtk/gU50EgBa5uo/s64/photo.jpg",
      "userId": "11395127353489346000"
     },
     "user_tz": -330
    },
    "id": "Ckhhw1gk-VO1",
    "outputId": "fc962ded-f09b-4865-cb62-61f492d84505"
   },
   "outputs": [
    {
     "data": {
      "image/png": "[encoded data removed]",
      "text/plain": [
       "<Figure size 432x288 with 1 Axes>"
      ]
     },
     "metadata": {
      "tags": []
     },
     "output_type": "display_data"
    }
   ],
   "source": [
    "fig,ax = plt.subplots(1,1)\n",
    "ax.set_xlabel('epoch') ; ax.set_ylabel('Categorical Crossentropy Loss')\n",
    "\n",
    "# list of epoch numbers\n",
    "x = list(range(1,epochs+1))\n",
    "\n",
    "# print(history.history.keys())\n",
    "# dict_keys(['val_loss', 'val_acc', 'loss', 'acc'])\n",
    "# history = model_drop.fit(X_train, Y_train, batch_size=batch_size, epochs=nb_epoch, verbose=1, validation_data=(X_test, Y_test))\n",
    "\n",
    "# we will get val_loss and val_acc only when you pass the paramter validation_data\n",
    "# val_loss : validation loss\n",
    "# val_acc : validation accuracy\n",
    "\n",
    "# loss : training loss\n",
    "# acc : train accuracy\n",
    "# for each key in histrory.histrory we will have a list of length equal to number of epochs\n",
    "\n",
    "vy = history.history['val_loss']\n",
    "ty = history.history['loss']\n",
    "plt_dynamic(x, vy, ty, ax)"
   ]
  },
  {
   "cell_type": "markdown",
   "metadata": {
    "colab_type": "text",
    "id": "t22nSoyFzlB3"
   },
   "source": [
    "### 1.5 With Droupout's and Batch Normilization and with different Kernel size"
   ]
  },
  {
   "cell_type": "code",
   "execution_count": 0,
   "metadata": {
    "colab": {
     "base_uri": "https://localhost:8080/",
     "height": 512
    },
    "colab_type": "code",
    "executionInfo": {
     "elapsed": 2529810,
     "status": "ok",
     "timestamp": 1568633799121,
     "user": {
      "displayName": "Prassena Kannan",
      "photoUrl": "https://lh3.googleusercontent.com/-wdXb0DL2Ohg/AAAAAAAAAAI/AAAAAAAAAtk/gU50EgBa5uo/s64/photo.jpg",
      "userId": "11395127353489346000"
     },
     "user_tz": -330
    },
    "id": "n-XgYDJRzlB3",
    "outputId": "fc805b13-751a-4cbf-c9ec-ec7903ea5e83"
   },
   "outputs": [
    {
     "name": "stdout",
     "output_type": "stream",
     "text": [
      "Train on 60000 samples, validate on 10000 samples\n",
      "Epoch 1/12\n",
      "60000/60000 [==============================] - 211s 4ms/step - loss: 0.2609 - acc: 0.9211 - val_loss: 0.0613 - val_acc: 0.9797\n",
      "Epoch 2/12\n",
      "60000/60000 [==============================] - 209s 3ms/step - loss: 0.0987 - acc: 0.9705 - val_loss: 0.0366 - val_acc: 0.9872\n",
      "Epoch 3/12\n",
      "60000/60000 [==============================] - 209s 3ms/step - loss: 0.0750 - acc: 0.9770 - val_loss: 0.0320 - val_acc: 0.9896\n",
      "Epoch 4/12\n",
      "60000/60000 [==============================] - 209s 3ms/step - loss: 0.0621 - acc: 0.9809 - val_loss: 0.0286 - val_acc: 0.9912\n",
      "Epoch 5/12\n",
      "60000/60000 [==============================] - 209s 3ms/step - loss: 0.0555 - acc: 0.9823 - val_loss: 0.0262 - val_acc: 0.9911\n",
      "Epoch 6/12\n",
      "60000/60000 [==============================] - 211s 4ms/step - loss: 0.0522 - acc: 0.9835 - val_loss: 0.0252 - val_acc: 0.9916\n",
      "Epoch 7/12\n",
      "60000/60000 [==============================] - 211s 4ms/step - loss: 0.0455 - acc: 0.9859 - val_loss: 0.0235 - val_acc: 0.9924\n",
      "Epoch 8/12\n",
      "60000/60000 [==============================] - 211s 4ms/step - loss: 0.0427 - acc: 0.9866 - val_loss: 0.0242 - val_acc: 0.9916\n",
      "Epoch 9/12\n",
      "60000/60000 [==============================] - 210s 4ms/step - loss: 0.0401 - acc: 0.9875 - val_loss: 0.0215 - val_acc: 0.9927\n",
      "Epoch 10/12\n",
      "60000/60000 [==============================] - 210s 3ms/step - loss: 0.0386 - acc: 0.9878 - val_loss: 0.0244 - val_acc: 0.9912\n",
      "Epoch 11/12\n",
      "60000/60000 [==============================] - 210s 3ms/step - loss: 0.0350 - acc: 0.9890 - val_loss: 0.0201 - val_acc: 0.9925\n",
      "Epoch 12/12\n",
      "60000/60000 [==============================] - 210s 3ms/step - loss: 0.0370 - acc: 0.9880 - val_loss: 0.0195 - val_acc: 0.9930\n",
      "Test loss: 0.01951224961380358\n",
      "Test accuracy: 0.993\n"
     ]
    }
   ],
   "source": [
    "model5 = Sequential()\n",
    "#conv_layer one\n",
    "model5.add(Conv2D(32, kernel_size=(3, 3),activation='relu',input_shape=input_shape,padding ='same',kernel_initializer= he_normal(seed=None)))\n",
    "model5.add(MaxPooling2D(pool_size=(2, 2)))\n",
    "model5.add(Dropout(0.25))\n",
    "\n",
    "#conv_layer two\n",
    "model5.add(Conv2D(64, (5, 5), activation='relu',padding ='same'))\n",
    "model5.add(BatchNormalization())\n",
    "model5.add(Dropout(0.25))\n",
    "\n",
    "#top layer\n",
    "model5.add(Flatten())\n",
    "model5.add(BatchNormalization())\n",
    "model5.add(Dropout(0.5))\n",
    "\n",
    "model5.add(Dense(128, activation='relu'))\n",
    "model5.add(BatchNormalization())\n",
    "model5.add(Dropout(0.5))\n",
    "\n",
    "model5.add(Dense(num_classes, activation='softmax'))\n",
    "\n",
    "model5.compile(loss=\"categorical_crossentropy\",\n",
    "              optimizer=\"adam\",\n",
    "              metrics=['accuracy'])\n",
    "\n",
    "history = model5.fit(x_train, y_train,\n",
    "          batch_size=batch_size,\n",
    "          epochs=epochs,\n",
    "          verbose=1,\n",
    "          validation_data=(x_test, y_test))\n",
    "score = model5.evaluate(x_test, y_test, verbose=0)\n",
    "print('Test loss:', score[0])\n",
    "print('Test accuracy:', score[1])"
   ]
  },
  {
   "cell_type": "code",
   "execution_count": 0,
   "metadata": {
    "colab": {
     "base_uri": "https://localhost:8080/",
     "height": 283
    },
    "colab_type": "code",
    "executionInfo": {
     "elapsed": 2529108,
     "status": "ok",
     "timestamp": 1568633800023,
     "user": {
      "displayName": "Prassena Kannan",
      "photoUrl": "https://lh3.googleusercontent.com/-wdXb0DL2Ohg/AAAAAAAAAAI/AAAAAAAAAtk/gU50EgBa5uo/s64/photo.jpg",
      "userId": "11395127353489346000"
     },
     "user_tz": -330
    },
    "id": "2cyyz6LD6Kgv",
    "outputId": "e049c64f-559a-4f89-9f49-645544d5889c"
   },
   "outputs": [
    {
     "data": {
      "image/png": "[encoded data removed]",
      "text/plain": [
       "<Figure size 432x288 with 1 Axes>"
      ]
     },
     "metadata": {
      "tags": []
     },
     "output_type": "display_data"
    }
   ],
   "source": [
    "fig,ax = plt.subplots(1,1)\n",
    "ax.set_xlabel('epoch') ; ax.set_ylabel('Categorical Crossentropy Loss')\n",
    "\n",
    "# list of epoch numbers\n",
    "x = list(range(1,epochs+1))\n",
    "\n",
    "# print(history.history.keys())\n",
    "# dict_keys(['val_loss', 'val_acc', 'loss', 'acc'])\n",
    "# history = model_drop.fit(X_train, Y_train, batch_size=batch_size, epochs=nb_epoch, verbose=1, validation_data=(X_test, Y_test))\n",
    "\n",
    "# we will get val_loss and val_acc only when you pass the paramter validation_data\n",
    "# val_loss : validation loss\n",
    "# val_acc : validation accuracy\n",
    "\n",
    "# loss : training loss\n",
    "# acc : train accuracy\n",
    "# for each key in histrory.histrory we will have a list of length equal to number of epochs\n",
    "\n",
    "vy = history.history['val_loss']\n",
    "ty = history.history['loss']\n",
    "plt_dynamic(x, vy, ty, ax)"
   ]
  },
  {
   "cell_type": "markdown",
   "metadata": {
    "colab_type": "text",
    "id": "7J4XUCHn_OGi"
   },
   "source": [
    "### 1.6 With Droupout's and Batch Normilization where activation sigmoid and weight initilized"
   ]
  },
  {
   "cell_type": "code",
   "execution_count": 0,
   "metadata": {
    "colab": {
     "base_uri": "https://localhost:8080/",
     "height": 512
    },
    "colab_type": "code",
    "executionInfo": {
     "elapsed": 1738265,
     "status": "ok",
     "timestamp": 1568637682668,
     "user": {
      "displayName": "Prassena Kannan",
      "photoUrl": "https://lh3.googleusercontent.com/-wdXb0DL2Ohg/AAAAAAAAAAI/AAAAAAAAAtk/gU50EgBa5uo/s64/photo.jpg",
      "userId": "11395127353489346000"
     },
     "user_tz": -330
    },
    "id": "cVlfh9dr_OGn",
    "outputId": "76bb705d-f674-4979-83f7-f6909b835c3d"
   },
   "outputs": [
    {
     "name": "stdout",
     "output_type": "stream",
     "text": [
      "Train on 60000 samples, validate on 10000 samples\n",
      "Epoch 1/12\n",
      "60000/60000 [==============================] - 220s 4ms/step - loss: 0.9734 - acc: 0.7112 - val_loss: 0.2837 - val_acc: 0.9157\n",
      "Epoch 2/12\n",
      "60000/60000 [==============================] - 215s 4ms/step - loss: 0.4309 - acc: 0.8682 - val_loss: 0.2226 - val_acc: 0.9328\n",
      "Epoch 3/12\n",
      "60000/60000 [==============================] - 215s 4ms/step - loss: 0.3466 - acc: 0.8935 - val_loss: 0.1855 - val_acc: 0.9405\n",
      "Epoch 4/12\n",
      "60000/60000 [==============================] - 209s 3ms/step - loss: 0.2905 - acc: 0.9105 - val_loss: 0.1426 - val_acc: 0.9571\n",
      "Epoch 5/12\n",
      "60000/60000 [==============================] - 211s 4ms/step - loss: 0.2400 - acc: 0.9271 - val_loss: 0.1187 - val_acc: 0.9623\n",
      "Epoch 6/12\n",
      "60000/60000 [==============================] - 208s 3ms/step - loss: 0.2067 - acc: 0.9367 - val_loss: 0.0928 - val_acc: 0.9702\n",
      "Epoch 7/12\n",
      "60000/60000 [==============================] - 208s 3ms/step - loss: 0.1774 - acc: 0.9452 - val_loss: 0.0815 - val_acc: 0.9732\n",
      "Epoch 8/12\n",
      "60000/60000 [==============================] - 207s 3ms/step - loss: 0.1632 - acc: 0.9496 - val_loss: 0.0694 - val_acc: 0.9782\n",
      "Epoch 9/12\n",
      "60000/60000 [==============================] - 207s 3ms/step - loss: 0.1506 - acc: 0.9533 - val_loss: 0.0650 - val_acc: 0.9794\n",
      "Epoch 10/12\n",
      "60000/60000 [==============================] - 208s 3ms/step - loss: 0.1391 - acc: 0.9574 - val_loss: 0.0655 - val_acc: 0.9785\n",
      "Epoch 11/12\n",
      "60000/60000 [==============================] - 208s 3ms/step - loss: 0.1340 - acc: 0.9589 - val_loss: 0.0651 - val_acc: 0.9784\n",
      "Epoch 12/12\n",
      "60000/60000 [==============================] - 208s 3ms/step - loss: 0.1284 - acc: 0.9603 - val_loss: 0.0572 - val_acc: 0.9807\n",
      "Test loss: 0.0572495207356289\n",
      "Test accuracy: 0.9807\n"
     ]
    }
   ],
   "source": [
    "model6 = Sequential()\n",
    "#conv_layer one\n",
    "model6.add(Conv2D(32, kernel_size=(3, 3),activation='sigmoid',input_shape=input_shape,padding ='same',kernel_initializer = glorot_normal()))\n",
    "model6.add(MaxPooling2D(pool_size=(2, 2)))\n",
    "model6.add(Dropout(0.25))\n",
    "\n",
    "#conv_layer two\n",
    "model6.add(Conv2D(64, (5, 5), activation='sigmoid',padding ='same',kernel_initializer = glorot_normal()))\n",
    "model6.add(BatchNormalization())\n",
    "model6.add(Dropout(0.25))\n",
    "\n",
    "#top layer\n",
    "model6.add(Flatten())\n",
    "model6.add(BatchNormalization())\n",
    "model6.add(Dropout(0.5))\n",
    "\n",
    "model6.add(Dense(128, activation='sigmoid',kernel_initializer= glorot_normal()))\n",
    "model6.add(BatchNormalization())\n",
    "model6.add(Dropout(0.5))\n",
    "\n",
    "model6.add(Dense(num_classes, activation='softmax'))\n",
    "\n",
    "model6.compile(loss=\"categorical_crossentropy\",\n",
    "              optimizer=\"adam\",\n",
    "              metrics=['accuracy'])\n",
    "\n",
    "history = model6.fit(x_train, y_train,\n",
    "          batch_size=batch_size,\n",
    "          epochs=epochs,\n",
    "          verbose=1,\n",
    "          validation_data=(x_test, y_test))\n",
    "score = model6.evaluate(x_test, y_test, verbose=0)\n",
    "print('Test loss:', score[0])\n",
    "print('Test accuracy:', score[1])"
   ]
  },
  {
   "cell_type": "code",
   "execution_count": 0,
   "metadata": {
    "colab": {
     "base_uri": "https://localhost:8080/",
     "height": 283
    },
    "colab_type": "code",
    "executionInfo": {
     "elapsed": 1585,
     "status": "ok",
     "timestamp": 1568638319826,
     "user": {
      "displayName": "Prassena Kannan",
      "photoUrl": "https://lh3.googleusercontent.com/-wdXb0DL2Ohg/AAAAAAAAAAI/AAAAAAAAAtk/gU50EgBa5uo/s64/photo.jpg",
      "userId": "11395127353489346000"
     },
     "user_tz": -330
    },
    "id": "7Yjoxd-y_OGx",
    "outputId": "8b8cdd46-a294-49c1-90b7-69b1ea3933c6"
   },
   "outputs": [
    {
     "data": {
      "image/png": "[encoded data removed]",
      "text/plain": [
       "<Figure size 432x288 with 1 Axes>"
      ]
     },
     "metadata": {
      "tags": []
     },
     "output_type": "display_data"
    }
   ],
   "source": [
    "fig,ax = plt.subplots(1,1)\n",
    "ax.set_xlabel('epoch') ; ax.set_ylabel('Categorical Crossentropy Loss')\n",
    "\n",
    "# list of epoch numbers\n",
    "x = list(range(1,epochs+1))\n",
    "\n",
    "# print(history.history.keys())\n",
    "# dict_keys(['val_loss', 'val_acc', 'loss', 'acc'])\n",
    "# history = model_drop.fit(X_train, Y_train, batch_size=batch_size, epochs=nb_epoch, verbose=1, validation_data=(X_test, Y_test))\n",
    "\n",
    "# we will get val_loss and val_acc only when you pass the paramter validation_data\n",
    "# val_loss : validation loss\n",
    "# val_acc : validation accuracy\n",
    "\n",
    "# loss : training loss\n",
    "# acc : train accuracy\n",
    "# for each key in histrory.histrory we will have a list of length equal to number of epochs\n",
    "\n",
    "vy = history.history['val_loss']\n",
    "ty = history.history['loss']\n",
    "plt_dynamic(x, vy, ty, ax)"
   ]
  },
  {
   "cell_type": "markdown",
   "metadata": {
    "colab_type": "text",
    "id": "U6DmRz2NAcH2"
   },
   "source": [
    "### 1.7 With Droupout's and Batch Normilization where activation tanh and weight initilized"
   ]
  },
  {
   "cell_type": "code",
   "execution_count": 0,
   "metadata": {
    "colab": {
     "base_uri": "https://localhost:8080/",
     "height": 512
    },
    "colab_type": "code",
    "executionInfo": {
     "elapsed": 2533419,
     "status": "ok",
     "timestamp": 1568640912051,
     "user": {
      "displayName": "Prassena Kannan",
      "photoUrl": "https://lh3.googleusercontent.com/-wdXb0DL2Ohg/AAAAAAAAAAI/AAAAAAAAAtk/gU50EgBa5uo/s64/photo.jpg",
      "userId": "11395127353489346000"
     },
     "user_tz": -330
    },
    "id": "4qt8WbMVAcH6",
    "outputId": "3115c275-2806-4e90-a28a-0d9099faffd8"
   },
   "outputs": [
    {
     "name": "stdout",
     "output_type": "stream",
     "text": [
      "Train on 60000 samples, validate on 10000 samples\n",
      "Epoch 1/12\n",
      "60000/60000 [==============================] - 213s 4ms/step - loss: 0.3632 - acc: 0.8900 - val_loss: 0.1244 - val_acc: 0.9610\n",
      "Epoch 2/12\n",
      "60000/60000 [==============================] - 210s 4ms/step - loss: 0.1841 - acc: 0.9429 - val_loss: 0.0914 - val_acc: 0.9714\n",
      "Epoch 3/12\n",
      "60000/60000 [==============================] - 210s 4ms/step - loss: 0.1547 - acc: 0.9522 - val_loss: 0.1043 - val_acc: 0.9676\n",
      "Epoch 4/12\n",
      "60000/60000 [==============================] - 210s 3ms/step - loss: 0.1464 - acc: 0.9544 - val_loss: 0.0732 - val_acc: 0.9777\n",
      "Epoch 5/12\n",
      "60000/60000 [==============================] - 211s 4ms/step - loss: 0.1379 - acc: 0.9574 - val_loss: 0.0709 - val_acc: 0.9786\n",
      "Epoch 6/12\n",
      "60000/60000 [==============================] - 210s 3ms/step - loss: 0.1335 - acc: 0.9585 - val_loss: 0.0840 - val_acc: 0.9727\n",
      "Epoch 7/12\n",
      "60000/60000 [==============================] - 210s 3ms/step - loss: 0.1324 - acc: 0.9599 - val_loss: 0.0890 - val_acc: 0.9726\n",
      "Epoch 8/12\n",
      "60000/60000 [==============================] - 209s 3ms/step - loss: 0.1298 - acc: 0.9600 - val_loss: 0.0704 - val_acc: 0.9774\n",
      "Epoch 9/12\n",
      "60000/60000 [==============================] - 211s 4ms/step - loss: 0.1260 - acc: 0.9607 - val_loss: 0.0675 - val_acc: 0.9776\n",
      "Epoch 10/12\n",
      "60000/60000 [==============================] - 210s 3ms/step - loss: 0.1236 - acc: 0.9619 - val_loss: 0.0622 - val_acc: 0.9800\n",
      "Epoch 11/12\n",
      "60000/60000 [==============================] - 209s 3ms/step - loss: 0.1171 - acc: 0.9637 - val_loss: 0.0568 - val_acc: 0.9803\n",
      "Epoch 12/12\n",
      "60000/60000 [==============================] - 210s 4ms/step - loss: 0.1178 - acc: 0.9636 - val_loss: 0.0546 - val_acc: 0.9820\n",
      "Test loss: 0.05463716236492619\n",
      "Test accuracy: 0.982\n"
     ]
    }
   ],
   "source": [
    "model7 = Sequential()\n",
    "#conv_layer one\n",
    "model7.add(Conv2D(32, kernel_size=(3, 3),activation='tanh',input_shape=input_shape,padding ='same',kernel_initializer= glorot_normal()))\n",
    "model7.add(MaxPooling2D(pool_size=(2, 2)))\n",
    "model7.add(Dropout(0.25))\n",
    "\n",
    "#conv_layer two\n",
    "model7.add(Conv2D(64, (5, 5), activation='tanh',padding ='same',kernel_initializer= glorot_normal()))\n",
    "model7.add(BatchNormalization())\n",
    "model7.add(Dropout(0.25))\n",
    "\n",
    "#top layer\n",
    "model7.add(Flatten())\n",
    "model7.add(BatchNormalization())\n",
    "model7.add(Dropout(0.5))\n",
    "\n",
    "model7.add(Dense(128, activation='tanh',kernel_initializer= glorot_normal()))\n",
    "model7.add(BatchNormalization())\n",
    "model7.add(Dropout(0.5))\n",
    "\n",
    "model7.add(Dense(num_classes, activation='softmax'))\n",
    "\n",
    "model7.compile(loss=\"categorical_crossentropy\",\n",
    "              optimizer=\"adam\",\n",
    "              metrics=['accuracy'])\n",
    "\n",
    "history = model7.fit(x_train, y_train,\n",
    "          batch_size=batch_size,\n",
    "          epochs=epochs,\n",
    "          verbose=1,\n",
    "          validation_data=(x_test, y_test))\n",
    "score = model7.evaluate(x_test, y_test, verbose=0)\n",
    "print('Test loss:', score[0])\n",
    "print('Test accuracy:', score[1])"
   ]
  },
  {
   "cell_type": "code",
   "execution_count": 0,
   "metadata": {
    "colab": {
     "base_uri": "https://localhost:8080/",
     "height": 283
    },
    "colab_type": "code",
    "executionInfo": {
     "elapsed": 2525728,
     "status": "ok",
     "timestamp": 1568640912064,
     "user": {
      "displayName": "Prassena Kannan",
      "photoUrl": "https://lh3.googleusercontent.com/-wdXb0DL2Ohg/AAAAAAAAAAI/AAAAAAAAAtk/gU50EgBa5uo/s64/photo.jpg",
      "userId": "11395127353489346000"
     },
     "user_tz": -330
    },
    "id": "8j051qHqAcIF",
    "outputId": "8a26b586-38df-43dd-df83-26e54605436f"
   },
   "outputs": [
    {
     "data": {
      "image/png": "[encoded data removed]",
      "text/plain": [
       "<Figure size 432x288 with 1 Axes>"
      ]
     },
     "metadata": {
      "tags": []
     },
     "output_type": "display_data"
    }
   ],
   "source": [
    "fig,ax = plt.subplots(1,1)\n",
    "ax.set_xlabel('epoch') ; ax.set_ylabel('Categorical Crossentropy Loss')\n",
    "\n",
    "# list of epoch numbers\n",
    "x = list(range(1,epochs+1))\n",
    "\n",
    "# print(history.history.keys())\n",
    "# dict_keys(['val_loss', 'val_acc', 'loss', 'acc'])\n",
    "# history = model_drop.fit(X_train, Y_train, batch_size=batch_size, epochs=nb_epoch, verbose=1, validation_data=(X_test, Y_test))\n",
    "\n",
    "# we will get val_loss and val_acc only when you pass the paramter validation_data\n",
    "# val_loss : validation loss\n",
    "# val_acc : validation accuracy\n",
    "\n",
    "# loss : training loss\n",
    "# acc : train accuracy\n",
    "# for each key in histrory.histrory we will have a list of length equal to number of epochs\n",
    "\n",
    "vy = history.history['val_loss']\n",
    "ty = history.history['loss']\n",
    "plt_dynamic(x, vy, ty, ax)"
   ]
  },
  {
   "cell_type": "markdown",
   "metadata": {
    "colab_type": "text",
    "id": "wJuvUE7qBK-M"
   },
   "source": [
    "### 1.8 With Droupout's and Batch Normilization where optimizer as sdg"
   ]
  },
  {
   "cell_type": "code",
   "execution_count": 0,
   "metadata": {
    "colab": {
     "base_uri": "https://localhost:8080/",
     "height": 512
    },
    "colab_type": "code",
    "executionInfo": {
     "elapsed": 2499272,
     "status": "ok",
     "timestamp": 1568644069992,
     "user": {
      "displayName": "Prassena Kannan",
      "photoUrl": "https://lh3.googleusercontent.com/-wdXb0DL2Ohg/AAAAAAAAAAI/AAAAAAAAAtk/gU50EgBa5uo/s64/photo.jpg",
      "userId": "11395127353489346000"
     },
     "user_tz": -330
    },
    "id": "MIj51ZvXBK-R",
    "outputId": "6fb3ae2d-416c-4497-9c49-316b8d4eb74b"
   },
   "outputs": [
    {
     "name": "stdout",
     "output_type": "stream",
     "text": [
      "Train on 60000 samples, validate on 10000 samples\n",
      "Epoch 1/12\n",
      "60000/60000 [==============================] - 210s 3ms/step - loss: 0.6637 - acc: 0.7947 - val_loss: 0.1926 - val_acc: 0.9417\n",
      "Epoch 2/12\n",
      "60000/60000 [==============================] - 208s 3ms/step - loss: 0.3301 - acc: 0.8977 - val_loss: 0.1417 - val_acc: 0.9569\n",
      "Epoch 3/12\n",
      "60000/60000 [==============================] - 207s 3ms/step - loss: 0.2625 - acc: 0.9203 - val_loss: 0.1173 - val_acc: 0.9630\n",
      "Epoch 4/12\n",
      "60000/60000 [==============================] - 208s 3ms/step - loss: 0.2214 - acc: 0.9319 - val_loss: 0.0996 - val_acc: 0.9685\n",
      "Epoch 5/12\n",
      "60000/60000 [==============================] - 208s 3ms/step - loss: 0.1982 - acc: 0.9381 - val_loss: 0.0901 - val_acc: 0.9707\n",
      "Epoch 6/12\n",
      "60000/60000 [==============================] - 207s 3ms/step - loss: 0.1772 - acc: 0.9462 - val_loss: 0.0810 - val_acc: 0.9734\n",
      "Epoch 7/12\n",
      "60000/60000 [==============================] - 206s 3ms/step - loss: 0.1615 - acc: 0.9505 - val_loss: 0.0728 - val_acc: 0.9763\n",
      "Epoch 8/12\n",
      "60000/60000 [==============================] - 207s 3ms/step - loss: 0.1515 - acc: 0.9531 - val_loss: 0.0678 - val_acc: 0.9785\n",
      "Epoch 9/12\n",
      "60000/60000 [==============================] - 208s 3ms/step - loss: 0.1445 - acc: 0.9558 - val_loss: 0.0630 - val_acc: 0.9793\n",
      "Epoch 10/12\n",
      "60000/60000 [==============================] - 207s 3ms/step - loss: 0.1323 - acc: 0.9590 - val_loss: 0.0600 - val_acc: 0.9799\n",
      "Epoch 11/12\n",
      "60000/60000 [==============================] - 207s 3ms/step - loss: 0.1295 - acc: 0.9596 - val_loss: 0.0568 - val_acc: 0.9813\n",
      "Epoch 12/12\n",
      "60000/60000 [==============================] - 206s 3ms/step - loss: 0.1220 - acc: 0.9632 - val_loss: 0.0538 - val_acc: 0.9815\n",
      "Test loss: 0.05381020655902102\n",
      "Test accuracy: 0.9815\n"
     ]
    }
   ],
   "source": [
    "model8 = Sequential()\n",
    "#conv_layer one\n",
    "model8.add(Conv2D(32, kernel_size=(3, 3),activation='relu',input_shape=input_shape,padding ='same',kernel_initializer= he_normal(seed=None)))\n",
    "model8.add(MaxPooling2D(pool_size=(2, 2)))\n",
    "model8.add(Dropout(0.25))\n",
    "\n",
    "#conv_layer two\n",
    "model8.add(Conv2D(64, (5, 5), activation='relu',padding ='same',kernel_initializer= he_normal(seed=None)))\n",
    "model8.add(BatchNormalization())\n",
    "model8.add(Dropout(0.25))\n",
    "\n",
    "#top layer\n",
    "model8.add(Flatten())\n",
    "model8.add(BatchNormalization())\n",
    "model8.add(Dropout(0.5))\n",
    "\n",
    "model8.add(Dense(128, activation='relu',kernel_initializer= he_normal(seed=None)))\n",
    "model8.add(BatchNormalization())\n",
    "model8.add(Dropout(0.5))\n",
    "\n",
    "model8.add(Dense(num_classes, activation='softmax'))\n",
    "\n",
    "model8.compile(loss=\"categorical_crossentropy\",\n",
    "              optimizer=\"sgd\",\n",
    "              metrics=['accuracy'])\n",
    "\n",
    "history = model8.fit(x_train, y_train,\n",
    "          batch_size=batch_size,\n",
    "          epochs=epochs,\n",
    "          verbose=1,\n",
    "          validation_data=(x_test, y_test))\n",
    "score = model8.evaluate(x_test, y_test, verbose=0)\n",
    "print('Test loss:', score[0])\n",
    "print('Test accuracy:', score[1])"
   ]
  },
  {
   "cell_type": "code",
   "execution_count": 0,
   "metadata": {
    "colab": {
     "base_uri": "https://localhost:8080/",
     "height": 283
    },
    "colab_type": "code",
    "executionInfo": {
     "elapsed": 2491572,
     "status": "ok",
     "timestamp": 1568644069996,
     "user": {
      "displayName": "Prassena Kannan",
      "photoUrl": "https://lh3.googleusercontent.com/-wdXb0DL2Ohg/AAAAAAAAAAI/AAAAAAAAAtk/gU50EgBa5uo/s64/photo.jpg",
      "userId": "11395127353489346000"
     },
     "user_tz": -330
    },
    "id": "t9yuyAutBK-f",
    "outputId": "abe84ec6-03a6-40bb-a1ef-fda6dec16245"
   },
   "outputs": [
    {
     "data": {
      "image/png": "[encoded data removed]",
      "text/plain": [
       "<Figure size 432x288 with 1 Axes>"
      ]
     },
     "metadata": {
      "tags": []
     },
     "output_type": "display_data"
    }
   ],
   "source": [
    "fig,ax = plt.subplots(1,1)\n",
    "ax.set_xlabel('epoch') ; ax.set_ylabel('Categorical Crossentropy Loss')\n",
    "\n",
    "# list of epoch numbers\n",
    "x = list(range(1,epochs+1))\n",
    "\n",
    "# print(history.history.keys())\n",
    "# dict_keys(['val_loss', 'val_acc', 'loss', 'acc'])\n",
    "# history = model_drop.fit(X_train, Y_train, batch_size=batch_size, epochs=nb_epoch, verbose=1, validation_data=(X_test, Y_test))\n",
    "\n",
    "# we will get val_loss and val_acc only when you pass the paramter validation_data\n",
    "# val_loss : validation loss\n",
    "# val_acc : validation accuracy\n",
    "\n",
    "# loss : training loss\n",
    "# acc : train accuracy\n",
    "# for each key in histrory.histrory we will have a list of length equal to number of epochs\n",
    "\n",
    "vy = history.history['val_loss']\n",
    "ty = history.history['loss']\n",
    "plt_dynamic(x, vy, ty, ax)"
   ]
  },
  {
   "cell_type": "markdown",
   "metadata": {
    "colab_type": "text",
    "id": "g23SRE7NzlB6"
   },
   "source": [
    "<h2>2. Number of convolusion Layer 3 </2>"
   ]
  },
  {
   "cell_type": "markdown",
   "metadata": {
    "colab_type": "text",
    "id": "mB9pqFB7zlB7"
   },
   "source": [
    "#### 2.1 Without droupout or Batch Normilization"
   ]
  },
  {
   "cell_type": "code",
   "execution_count": 0,
   "metadata": {
    "colab": {
     "base_uri": "https://localhost:8080/",
     "height": 512
    },
    "colab_type": "code",
    "executionInfo": {
     "elapsed": 2166999,
     "status": "ok",
     "timestamp": 1568650502591,
     "user": {
      "displayName": "Prassena Kannan",
      "photoUrl": "https://lh3.googleusercontent.com/-wdXb0DL2Ohg/AAAAAAAAAAI/AAAAAAAAAtk/gU50EgBa5uo/s64/photo.jpg",
      "userId": "11395127353489346000"
     },
     "user_tz": -330
    },
    "id": "rolZZ99szlB8",
    "outputId": "00551ae5-6df2-4614-dade-a074e26be4bc"
   },
   "outputs": [
    {
     "name": "stdout",
     "output_type": "stream",
     "text": [
      "Train on 60000 samples, validate on 10000 samples\n",
      "Epoch 1/12\n",
      "60000/60000 [==============================] - 181s 3ms/step - loss: 0.2108 - acc: 0.9369 - val_loss: 0.0554 - val_acc: 0.9841\n",
      "Epoch 2/12\n",
      "60000/60000 [==============================] - 180s 3ms/step - loss: 0.0530 - acc: 0.9832 - val_loss: 0.0414 - val_acc: 0.9865\n",
      "Epoch 3/12\n",
      "60000/60000 [==============================] - 181s 3ms/step - loss: 0.0367 - acc: 0.9884 - val_loss: 0.0277 - val_acc: 0.9906\n",
      "Epoch 4/12\n",
      "60000/60000 [==============================] - 180s 3ms/step - loss: 0.0280 - acc: 0.9912 - val_loss: 0.0371 - val_acc: 0.9879\n",
      "Epoch 5/12\n",
      "60000/60000 [==============================] - 181s 3ms/step - loss: 0.0218 - acc: 0.9931 - val_loss: 0.0389 - val_acc: 0.9869\n",
      "Epoch 6/12\n",
      "60000/60000 [==============================] - 180s 3ms/step - loss: 0.0170 - acc: 0.9945 - val_loss: 0.0254 - val_acc: 0.9917\n",
      "Epoch 7/12\n",
      "60000/60000 [==============================] - 179s 3ms/step - loss: 0.0171 - acc: 0.9944 - val_loss: 0.0288 - val_acc: 0.9906\n",
      "Epoch 8/12\n",
      "60000/60000 [==============================] - 181s 3ms/step - loss: 0.0144 - acc: 0.9951 - val_loss: 0.0255 - val_acc: 0.9919\n",
      "Epoch 9/12\n",
      "60000/60000 [==============================] - 178s 3ms/step - loss: 0.0119 - acc: 0.9962 - val_loss: 0.0296 - val_acc: 0.9916\n",
      "Epoch 10/12\n",
      "60000/60000 [==============================] - 179s 3ms/step - loss: 0.0102 - acc: 0.9965 - val_loss: 0.0291 - val_acc: 0.9924\n",
      "Epoch 11/12\n",
      "60000/60000 [==============================] - 180s 3ms/step - loss: 0.0083 - acc: 0.9974 - val_loss: 0.0276 - val_acc: 0.9925\n",
      "Epoch 12/12\n",
      "60000/60000 [==============================] - 179s 3ms/step - loss: 0.0092 - acc: 0.9969 - val_loss: 0.0339 - val_acc: 0.9916\n",
      "Test loss: 0.03392939777176166\n",
      "Test accuracy: 0.9916\n"
     ]
    }
   ],
   "source": [
    "model1 = Sequential()\n",
    "#conv_layer one\n",
    "model1.add(Conv2D(32, kernel_size=(5,5),activation='relu',input_shape=input_shape,padding ='same'))\n",
    "model1.add(MaxPooling2D(pool_size=(2, 2)))   \n",
    "\n",
    "#conv_layer two\n",
    "model1.add(Conv2D(64, (5,5), activation='relu',padding ='same'))\n",
    "model1.add(MaxPooling2D(pool_size=(2, 2)))\n",
    "\n",
    "#conv_layer three\n",
    "model1.add(Conv2D(32, (5,5), activation='relu',padding ='same'))\n",
    "model1.add(MaxPooling2D(pool_size=(2, 2)))\n",
    "\n",
    "#top layer\n",
    "model1.add(Flatten())\n",
    "\n",
    "model1.add(Dense(124, activation='relu'))\n",
    "model1.add(Dense(num_classes, activation='softmax'))\n",
    "\n",
    "model1.compile(loss=\"categorical_crossentropy\",\n",
    "              optimizer=\"adam\",\n",
    "              metrics=['accuracy'])\n",
    "\n",
    "history = model1.fit(x_train, y_train,\n",
    "          batch_size=batch_size,\n",
    "          epochs=epochs,\n",
    "          verbose=1,\n",
    "          validation_data=(x_test, y_test))\n",
    "score = model1.evaluate(x_test, y_test, verbose=0)\n",
    "print('Test loss:', score[0])\n",
    "print('Test accuracy:', score[1])"
   ]
  },
  {
   "cell_type": "code",
   "execution_count": 0,
   "metadata": {
    "colab": {
     "base_uri": "https://localhost:8080/",
     "height": 283
    },
    "colab_type": "code",
    "executionInfo": {
     "elapsed": 2166493,
     "status": "ok",
     "timestamp": 1568650502594,
     "user": {
      "displayName": "Prassena Kannan",
      "photoUrl": "https://lh3.googleusercontent.com/-wdXb0DL2Ohg/AAAAAAAAAAI/AAAAAAAAAtk/gU50EgBa5uo/s64/photo.jpg",
      "userId": "11395127353489346000"
     },
     "user_tz": -330
    },
    "id": "ZIrFpEE06NKX",
    "outputId": "f0ae8965-37ab-408a-9fb6-a30855c18817"
   },
   "outputs": [
    {
     "data": {
      "image/png": "[encoded data removed]",
      "text/plain": [
       "<Figure size 432x288 with 1 Axes>"
      ]
     },
     "metadata": {
      "tags": []
     },
     "output_type": "display_data"
    }
   ],
   "source": [
    "fig,ax = plt.subplots(1,1)\n",
    "ax.set_xlabel('epoch') ; ax.set_ylabel('Categorical Crossentropy Loss')\n",
    "\n",
    "# list of epoch numbers\n",
    "x = list(range(1,epochs+1))\n",
    "\n",
    "# print(history.history.keys())\n",
    "# dict_keys(['val_loss', 'val_acc', 'loss', 'acc'])\n",
    "# history = model_drop.fit(X_train, Y_train, batch_size=batch_size, epochs=nb_epoch, verbose=1, validation_data=(X_test, Y_test))\n",
    "\n",
    "# we will get val_loss and val_acc only when you pass the paramter validation_data\n",
    "# val_loss : validation loss\n",
    "# val_acc : validation accuracy\n",
    "\n",
    "# loss : training loss\n",
    "# acc : train accuracy\n",
    "# for each key in histrory.histrory we will have a list of length equal to number of epochs\n",
    "\n",
    "vy = history.history['val_loss']\n",
    "ty = history.history['loss']\n",
    "plt_dynamic(x, vy, ty, ax)"
   ]
  },
  {
   "cell_type": "markdown",
   "metadata": {
    "colab_type": "text",
    "id": "V7gLFAFfzlB-"
   },
   "source": [
    "### 2.2 With Droupout's"
   ]
  },
  {
   "cell_type": "code",
   "execution_count": 0,
   "metadata": {
    "colab": {
     "base_uri": "https://localhost:8080/",
     "height": 512
    },
    "colab_type": "code",
    "executionInfo": {
     "elapsed": 4391552,
     "status": "ok",
     "timestamp": 1568652731187,
     "user": {
      "displayName": "Prassena Kannan",
      "photoUrl": "https://lh3.googleusercontent.com/-wdXb0DL2Ohg/AAAAAAAAAAI/AAAAAAAAAtk/gU50EgBa5uo/s64/photo.jpg",
      "userId": "11395127353489346000"
     },
     "user_tz": -330
    },
    "id": "Dmu08PEfzlB_",
    "outputId": "0db1efb0-3821-458a-eb51-5ded8262f474"
   },
   "outputs": [
    {
     "name": "stdout",
     "output_type": "stream",
     "text": [
      "Train on 60000 samples, validate on 10000 samples\n",
      "Epoch 1/12\n",
      "60000/60000 [==============================] - 195s 3ms/step - loss: 0.4295 - acc: 0.8595 - val_loss: 0.0569 - val_acc: 0.9808\n",
      "Epoch 2/12\n",
      "60000/60000 [==============================] - 188s 3ms/step - loss: 0.1168 - acc: 0.9664 - val_loss: 0.0367 - val_acc: 0.9881\n",
      "Epoch 3/12\n",
      "60000/60000 [==============================] - 186s 3ms/step - loss: 0.0812 - acc: 0.9758 - val_loss: 0.0302 - val_acc: 0.9902\n",
      "Epoch 4/12\n",
      "60000/60000 [==============================] - 183s 3ms/step - loss: 0.0673 - acc: 0.9804 - val_loss: 0.0264 - val_acc: 0.9906\n",
      "Epoch 5/12\n",
      "60000/60000 [==============================] - 183s 3ms/step - loss: 0.0564 - acc: 0.9835 - val_loss: 0.0234 - val_acc: 0.9919\n",
      "Epoch 6/12\n",
      "60000/60000 [==============================] - 184s 3ms/step - loss: 0.0512 - acc: 0.9848 - val_loss: 0.0241 - val_acc: 0.9916\n",
      "Epoch 7/12\n",
      "60000/60000 [==============================] - 183s 3ms/step - loss: 0.0470 - acc: 0.9859 - val_loss: 0.0210 - val_acc: 0.9926\n",
      "Epoch 8/12\n",
      "60000/60000 [==============================] - 184s 3ms/step - loss: 0.0411 - acc: 0.9876 - val_loss: 0.0213 - val_acc: 0.9922\n",
      "Epoch 9/12\n",
      "60000/60000 [==============================] - 183s 3ms/step - loss: 0.0410 - acc: 0.9880 - val_loss: 0.0215 - val_acc: 0.9930\n",
      "Epoch 10/12\n",
      "60000/60000 [==============================] - 183s 3ms/step - loss: 0.0382 - acc: 0.9884 - val_loss: 0.0186 - val_acc: 0.9937\n",
      "Epoch 11/12\n",
      "60000/60000 [==============================] - 184s 3ms/step - loss: 0.0368 - acc: 0.9890 - val_loss: 0.0187 - val_acc: 0.9933\n",
      "Epoch 12/12\n",
      "60000/60000 [==============================] - 183s 3ms/step - loss: 0.0365 - acc: 0.9893 - val_loss: 0.0170 - val_acc: 0.9941\n",
      "Test loss: 0.016978554821603393\n",
      "Test accuracy: 0.9941\n"
     ]
    }
   ],
   "source": [
    "model2 = Sequential()\n",
    "\n",
    "#conv_layer one\n",
    "model2.add(Conv2D(32, kernel_size=(5,5),activation='relu',input_shape=input_shape,padding ='same'))\n",
    "model2.add(MaxPooling2D(pool_size=(2, 2)))\n",
    "model2.add(Dropout(0.25))\n",
    "\n",
    "#conv_layer two\n",
    "model2.add(Conv2D(64, (5, 5), activation='relu',padding ='same'))\n",
    "model2.add(MaxPooling2D(pool_size=(2, 2)))\n",
    "model2.add(Dropout(0.25))\n",
    "\n",
    "#conv_layer three\n",
    "model2.add(Conv2D(32, (5,5), activation='relu',padding ='same'))\n",
    "model2.add(MaxPooling2D(pool_size=(2, 2)))\n",
    "model2.add(Dropout(0.25))\n",
    "\n",
    "#top layer\n",
    "model2.add(Flatten())\n",
    "\n",
    "model2.add(Dense(128, activation='relu'))\n",
    "model2.add(Dropout(0.5))\n",
    "\n",
    "model2.add(Dense(num_classes, activation='softmax'))\n",
    "\n",
    "model2.compile(loss=\"categorical_crossentropy\",\n",
    "              optimizer=\"adam\",\n",
    "              metrics=['accuracy'])\n",
    "\n",
    "history = model2.fit(x_train, y_train,\n",
    "          batch_size=batch_size,\n",
    "          epochs=epochs,\n",
    "          verbose=1,\n",
    "          validation_data=(x_test, y_test))\n",
    "score = model2.evaluate(x_test, y_test, verbose=0)\n",
    "print('Test loss:', score[0])\n",
    "print('Test accuracy:', score[1])"
   ]
  },
  {
   "cell_type": "code",
   "execution_count": 0,
   "metadata": {
    "colab": {
     "base_uri": "https://localhost:8080/",
     "height": 283
    },
    "colab_type": "code",
    "executionInfo": {
     "elapsed": 4391271,
     "status": "ok",
     "timestamp": 1568652731191,
     "user": {
      "displayName": "Prassena Kannan",
      "photoUrl": "https://lh3.googleusercontent.com/-wdXb0DL2Ohg/AAAAAAAAAAI/AAAAAAAAAtk/gU50EgBa5uo/s64/photo.jpg",
      "userId": "11395127353489346000"
     },
     "user_tz": -330
    },
    "id": "3LZ_BtZg6PfS",
    "outputId": "b9c06dfc-994e-45fe-b51f-45cba8a4940c"
   },
   "outputs": [
    {
     "data": {
      "image/png": "[encoded data removed]",
      "text/plain": [
       "<Figure size 432x288 with 1 Axes>"
      ]
     },
     "metadata": {
      "tags": []
     },
     "output_type": "display_data"
    }
   ],
   "source": [
    "fig,ax = plt.subplots(1,1)\n",
    "ax.set_xlabel('epoch') ; ax.set_ylabel('Categorical Crossentropy Loss')\n",
    "\n",
    "# list of epoch numbers\n",
    "x = list(range(1,epochs+1))\n",
    "\n",
    "# print(history.history.keys())\n",
    "# dict_keys(['val_loss', 'val_acc', 'loss', 'acc'])\n",
    "# history = model_drop.fit(X_train, Y_train, batch_size=batch_size, epochs=nb_epoch, verbose=1, validation_data=(X_test, Y_test))\n",
    "\n",
    "# we will get val_loss and val_acc only when you pass the paramter validation_data\n",
    "# val_loss : validation loss\n",
    "# val_acc : validation accuracy\n",
    "\n",
    "# loss : training loss\n",
    "# acc : train accuracy\n",
    "# for each key in histrory.histrory we will have a list of length equal to number of epochs\n",
    "\n",
    "vy = history.history['val_loss']\n",
    "ty = history.history['loss']\n",
    "plt_dynamic(x, vy, ty, ax)"
   ]
  },
  {
   "cell_type": "markdown",
   "metadata": {
    "colab_type": "text",
    "id": "bddlgsy4zlCB"
   },
   "source": [
    "### 2.3 With only Batch Normilization "
   ]
  },
  {
   "cell_type": "code",
   "execution_count": 0,
   "metadata": {
    "colab": {
     "base_uri": "https://localhost:8080/",
     "height": 512
    },
    "colab_type": "code",
    "executionInfo": {
     "elapsed": 537,
     "status": "ok",
     "timestamp": 1568657537802,
     "user": {
      "displayName": "Prassena Kannan",
      "photoUrl": "https://lh3.googleusercontent.com/-wdXb0DL2Ohg/AAAAAAAAAAI/AAAAAAAAAtk/gU50EgBa5uo/s64/photo.jpg",
      "userId": "11395127353489346000"
     },
     "user_tz": -330
    },
    "id": "JnjGoWY0zlCC",
    "outputId": "b3067ffe-20c0-493d-a5b8-aa9b75770d70"
   },
   "outputs": [
    {
     "name": "stdout",
     "output_type": "stream",
     "text": [
      "Train on 60000 samples, validate on 10000 samples\n",
      "Epoch 1/12\n",
      "60000/60000 [==============================] - 302s 5ms/step - loss: 0.1018 - acc: 0.9698 - val_loss: 0.0451 - val_acc: 0.9855\n",
      "Epoch 2/12\n",
      "60000/60000 [==============================] - 301s 5ms/step - loss: 0.0338 - acc: 0.9898 - val_loss: 0.0452 - val_acc: 0.9844\n",
      "Epoch 3/12\n",
      "60000/60000 [==============================] - 303s 5ms/step - loss: 0.0229 - acc: 0.9932 - val_loss: 0.0465 - val_acc: 0.9859\n",
      "Epoch 4/12\n",
      "60000/60000 [==============================] - 300s 5ms/step - loss: 0.0176 - acc: 0.9946 - val_loss: 0.0348 - val_acc: 0.9888\n",
      "Epoch 5/12\n",
      "60000/60000 [==============================] - 301s 5ms/step - loss: 0.0135 - acc: 0.9960 - val_loss: 0.0337 - val_acc: 0.9902\n",
      "Epoch 6/12\n",
      "60000/60000 [==============================] - 300s 5ms/step - loss: 0.0136 - acc: 0.9958 - val_loss: 0.0324 - val_acc: 0.9907\n",
      "Epoch 7/12\n",
      "60000/60000 [==============================] - 308s 5ms/step - loss: 0.0089 - acc: 0.9972 - val_loss: 0.0303 - val_acc: 0.9918\n",
      "Epoch 8/12\n",
      "60000/60000 [==============================] - 316s 5ms/step - loss: 0.0071 - acc: 0.9978 - val_loss: 0.0330 - val_acc: 0.9903\n",
      "Epoch 9/12\n",
      "60000/60000 [==============================] - 309s 5ms/step - loss: 0.0090 - acc: 0.9970 - val_loss: 0.0712 - val_acc: 0.9814\n",
      "Epoch 10/12\n",
      "60000/60000 [==============================] - 309s 5ms/step - loss: 0.0084 - acc: 0.9973 - val_loss: 0.0249 - val_acc: 0.9931\n",
      "Epoch 11/12\n",
      "60000/60000 [==============================] - 307s 5ms/step - loss: 0.0042 - acc: 0.9989 - val_loss: 0.0214 - val_acc: 0.9931\n",
      "Epoch 12/12\n",
      "60000/60000 [==============================] - 308s 5ms/step - loss: 0.0045 - acc: 0.9986 - val_loss: 0.0317 - val_acc: 0.9916\n",
      "Test loss: 0.031730699580074\n",
      "Test accuracy: 0.9916\n"
     ]
    }
   ],
   "source": [
    "model3 = Sequential()\n",
    "\n",
    "#conv_layer one\n",
    "model3.add(Conv2D(32, kernel_size=(5,5),activation='relu',input_shape=input_shape,padding ='same'))\n",
    "model3.add(MaxPooling2D(pool_size=(2, 2)))\n",
    "\n",
    "#conv_layer two\n",
    "model3.add(Conv2D(64, (5,5), activation='relu',padding ='same'))\n",
    "model3.add(BatchNormalization())\n",
    "\n",
    "#conv_layer three\n",
    "model3.add(Conv2D(32, (5,5), activation='relu',padding ='same'))\n",
    "model3.add(MaxPooling2D(pool_size=(2, 2)))\n",
    "model3.add(BatchNormalization())\n",
    "\n",
    "#top layer\n",
    "model3.add(Flatten())\n",
    "model3.add(BatchNormalization())\n",
    "\n",
    "model3.add(Dense(128, activation='relu'))\n",
    "model3.add(BatchNormalization())\n",
    "\n",
    "model3.add(Dense(num_classes, activation='softmax'))\n",
    "\n",
    "model3.compile(loss=\"categorical_crossentropy\",\n",
    "              optimizer=\"adam\",\n",
    "              metrics=['accuracy'])\n",
    "\n",
    "history = model3.fit(x_train, y_train,\n",
    "          batch_size=batch_size,\n",
    "          epochs=epochs,\n",
    "          verbose=1,\n",
    "          validation_data=(x_test, y_test))\n",
    "score = model3.evaluate(x_test, y_test, verbose=0)\n",
    "print('Test loss:', score[0])\n",
    "print('Test accuracy:', score[1])"
   ]
  },
  {
   "cell_type": "code",
   "execution_count": 0,
   "metadata": {
    "colab": {
     "base_uri": "https://localhost:8080/",
     "height": 283
    },
    "colab_type": "code",
    "executionInfo": {
     "elapsed": 1634,
     "status": "ok",
     "timestamp": 1568660441249,
     "user": {
      "displayName": "Prassena Kannan",
      "photoUrl": "https://lh3.googleusercontent.com/-wdXb0DL2Ohg/AAAAAAAAAAI/AAAAAAAAAtk/gU50EgBa5uo/s64/photo.jpg",
      "userId": "11395127353489346000"
     },
     "user_tz": -330
    },
    "id": "k4_ftL556Rw3",
    "outputId": "138122b8-630b-4b7e-b300-c4d81be19bab"
   },
   "outputs": [
    {
     "data": {
      "image/png": "[encoded data removed]",
      "text/plain": [
       "<Figure size 432x288 with 1 Axes>"
      ]
     },
     "metadata": {
      "tags": []
     },
     "output_type": "display_data"
    }
   ],
   "source": [
    "fig,ax = plt.subplots(1,1)\n",
    "ax.set_xlabel('epoch') ; ax.set_ylabel('Categorical Crossentropy Loss')\n",
    "\n",
    "# list of epoch numbers\n",
    "x = list(range(1,epochs+1))\n",
    "\n",
    "# print(history.history.keys())\n",
    "# dict_keys(['val_loss', 'val_acc', 'loss', 'acc'])\n",
    "# history = model_drop.fit(X_train, Y_train, batch_size=batch_size, epochs=nb_epoch, verbose=1, validation_data=(X_test, Y_test))\n",
    "\n",
    "# we will get val_loss and val_acc only when you pass the paramter validation_data\n",
    "# val_loss : validation loss\n",
    "# val_acc : validation accuracy\n",
    "\n",
    "# loss : training loss\n",
    "# acc : train accuracy\n",
    "# for each key in histrory.histrory we will have a list of length equal to number of epochs\n",
    "\n",
    "vy = history.history['val_loss']\n",
    "ty = history.history['loss']\n",
    "plt_dynamic(x, vy, ty, ax)"
   ]
  },
  {
   "cell_type": "markdown",
   "metadata": {
    "colab_type": "text",
    "id": "hr3b-VNWiVH9"
   },
   "source": [
    "### 2.4 With Droupout's and Batch Normilization "
   ]
  },
  {
   "cell_type": "code",
   "execution_count": 0,
   "metadata": {
    "colab": {
     "base_uri": "https://localhost:8080/",
     "height": 512
    },
    "colab_type": "code",
    "executionInfo": {
     "elapsed": 2887264,
     "status": "ok",
     "timestamp": 1568660424943,
     "user": {
      "displayName": "Prassena Kannan",
      "photoUrl": "https://lh3.googleusercontent.com/-wdXb0DL2Ohg/AAAAAAAAAAI/AAAAAAAAAtk/gU50EgBa5uo/s64/photo.jpg",
      "userId": "11395127353489346000"
     },
     "user_tz": -330
    },
    "id": "O5dyARnniVIE",
    "outputId": "81649aa2-457e-46a2-b04c-a402f0d84fd5"
   },
   "outputs": [
    {
     "name": "stdout",
     "output_type": "stream",
     "text": [
      "Train on 60000 samples, validate on 10000 samples\n",
      "Epoch 1/12\n",
      "60000/60000 [==============================] - 329s 5ms/step - loss: 0.3620 - acc: 0.8880 - val_loss: 0.0541 - val_acc: 0.9824\n",
      "Epoch 2/12\n",
      "60000/60000 [==============================] - 324s 5ms/step - loss: 0.1053 - acc: 0.9679 - val_loss: 0.0448 - val_acc: 0.9858\n",
      "Epoch 3/12\n",
      "60000/60000 [==============================] - 338s 6ms/step - loss: 0.0788 - acc: 0.9758 - val_loss: 0.0270 - val_acc: 0.9911\n",
      "Epoch 4/12\n",
      "60000/60000 [==============================] - 340s 6ms/step - loss: 0.0643 - acc: 0.9804 - val_loss: 0.0261 - val_acc: 0.9913\n",
      "Epoch 5/12\n",
      "60000/60000 [==============================] - 337s 6ms/step - loss: 0.0562 - acc: 0.9830 - val_loss: 0.0227 - val_acc: 0.9925\n",
      "Epoch 6/12\n",
      "60000/60000 [==============================] - 336s 6ms/step - loss: 0.0507 - acc: 0.9841 - val_loss: 0.0233 - val_acc: 0.9929\n",
      "Epoch 7/12\n",
      "60000/60000 [==============================] - 338s 6ms/step - loss: 0.0462 - acc: 0.9857 - val_loss: 0.0201 - val_acc: 0.9934\n",
      "Epoch 8/12\n",
      "60000/60000 [==============================] - 327s 5ms/step - loss: 0.0444 - acc: 0.9869 - val_loss: 0.0226 - val_acc: 0.9925\n",
      "Epoch 9/12\n",
      "60000/60000 [==============================] - 338s 6ms/step - loss: 0.0429 - acc: 0.9868 - val_loss: 0.0206 - val_acc: 0.9929\n",
      "Epoch 10/12\n",
      "60000/60000 [==============================] - 342s 6ms/step - loss: 0.0393 - acc: 0.9873 - val_loss: 0.0151 - val_acc: 0.9956\n",
      "Epoch 11/12\n",
      "60000/60000 [==============================] - 326s 5ms/step - loss: 0.0380 - acc: 0.9884 - val_loss: 0.0176 - val_acc: 0.9939\n",
      "Epoch 12/12\n",
      "60000/60000 [==============================] - 325s 5ms/step - loss: 0.0337 - acc: 0.9892 - val_loss: 0.0149 - val_acc: 0.9946\n",
      "Test loss: 0.014936857354502717\n",
      "Test accuracy: 0.9946\n"
     ]
    }
   ],
   "source": [
    "model4 = Sequential()\n",
    "\n",
    "#conv_layer one\n",
    "model4.add(Conv2D(32, kernel_size=(5,5),activation='relu',input_shape=input_shape,padding ='same'))\n",
    "model4.add(MaxPooling2D(pool_size=(2, 2)))\n",
    "model4.add(Dropout(0.25))\n",
    "\n",
    "#conv_layer two\n",
    "model4.add(Conv2D(64, (5,5), activation='relu',padding ='same'))\n",
    "model4.add(BatchNormalization())\n",
    "model4.add(Dropout(0.25))\n",
    "\n",
    "#conv_layer three\n",
    "model4.add(Conv2D(32, (5,5), activation='relu',padding ='same'))\n",
    "model4.add(MaxPooling2D(pool_size=(2, 2)))\n",
    "model4.add(BatchNormalization())\n",
    "model4.add(Dropout(0.25))\n",
    "\n",
    "#top layer\n",
    "model4.add(Flatten())\n",
    "model4.add(BatchNormalization())\n",
    "model4.add(Dropout(0.5))\n",
    "\n",
    "model4.add(Dense(128, activation='relu'))\n",
    "model4.add(BatchNormalization())\n",
    "model4.add(Dropout(0.5))\n",
    "\n",
    "model4.add(Dense(num_classes, activation='softmax'))\n",
    "\n",
    "model4.compile(loss=\"categorical_crossentropy\",\n",
    "              optimizer=\"adam\",\n",
    "              metrics=['accuracy'])\n",
    "\n",
    "history = model4.fit(x_train, y_train,\n",
    "          batch_size=batch_size,\n",
    "          epochs=epochs,\n",
    "          verbose=1,\n",
    "          validation_data=(x_test, y_test))\n",
    "score = model4.evaluate(x_test, y_test, verbose=0)\n",
    "print('Test loss:', score[0])\n",
    "print('Test accuracy:', score[1])"
   ]
  },
  {
   "cell_type": "code",
   "execution_count": 0,
   "metadata": {
    "colab": {
     "base_uri": "https://localhost:8080/",
     "height": 283
    },
    "colab_type": "code",
    "executionInfo": {
     "elapsed": 61,
     "status": "ok",
     "timestamp": 1568660424951,
     "user": {
      "displayName": "Prassena Kannan",
      "photoUrl": "https://lh3.googleusercontent.com/-wdXb0DL2Ohg/AAAAAAAAAAI/AAAAAAAAAtk/gU50EgBa5uo/s64/photo.jpg",
      "userId": "11395127353489346000"
     },
     "user_tz": -330
    },
    "id": "OIFEqEYwiVIR",
    "outputId": "f294cca0-7dcc-429c-c227-5d350944b7c1"
   },
   "outputs": [
    {
     "data": {
      "image/png": "[encoded data removed]",
      "text/plain": [
       "<Figure size 432x288 with 1 Axes>"
      ]
     },
     "metadata": {
      "tags": []
     },
     "output_type": "display_data"
    }
   ],
   "source": [
    "fig,ax = plt.subplots(1,1)\n",
    "ax.set_xlabel('epoch') ; ax.set_ylabel('Categorical Crossentropy Loss')\n",
    "\n",
    "# list of epoch numbers\n",
    "x = list(range(1,epochs+1))\n",
    "\n",
    "# print(history.history.keys())\n",
    "# dict_keys(['val_loss', 'val_acc', 'loss', 'acc'])\n",
    "# history = model_drop.fit(X_train, Y_train, batch_size=batch_size, epochs=nb_epoch, verbose=1, validation_data=(X_test, Y_test))\n",
    "\n",
    "# we will get val_loss and val_acc only when you pass the paramter validation_data\n",
    "# val_loss : validation loss\n",
    "# val_acc : validation accuracy\n",
    "\n",
    "# loss : training loss\n",
    "# acc : train accuracy\n",
    "# for each key in histrory.histrory we will have a list of length equal to number of epochs\n",
    "\n",
    "vy = history.history['val_loss']\n",
    "ty = history.history['loss']\n",
    "plt_dynamic(x, vy, ty, ax)"
   ]
  },
  {
   "cell_type": "markdown",
   "metadata": {
    "colab_type": "text",
    "id": "07a55_LdzlCE"
   },
   "source": [
    "### 2.5 With Droupout's and Batch Normilization and with different Kernel size"
   ]
  },
  {
   "cell_type": "code",
   "execution_count": 0,
   "metadata": {
    "colab": {
     "base_uri": "https://localhost:8080/",
     "height": 512
    },
    "colab_type": "code",
    "executionInfo": {
     "elapsed": 1859535,
     "status": "ok",
     "timestamp": 1568662516222,
     "user": {
      "displayName": "Prassena Kannan",
      "photoUrl": "https://lh3.googleusercontent.com/-wdXb0DL2Ohg/AAAAAAAAAAI/AAAAAAAAAtk/gU50EgBa5uo/s64/photo.jpg",
      "userId": "11395127353489346000"
     },
     "user_tz": -330
    },
    "id": "QFVpYOqYzlCF",
    "outputId": "8b7753be-a6f2-4b65-e97b-f6f590317cb6"
   },
   "outputs": [
    {
     "name": "stdout",
     "output_type": "stream",
     "text": [
      "Train on 60000 samples, validate on 10000 samples\n",
      "Epoch 1/12\n",
      "60000/60000 [==============================] - 160s 3ms/step - loss: 0.7066 - acc: 0.7810 - val_loss: 0.0914 - val_acc: 0.9716\n",
      "Epoch 2/12\n",
      "60000/60000 [==============================] - 152s 3ms/step - loss: 0.2034 - acc: 0.9381 - val_loss: 0.0509 - val_acc: 0.9830\n",
      "Epoch 3/12\n",
      "60000/60000 [==============================] - 152s 3ms/step - loss: 0.1447 - acc: 0.9556 - val_loss: 0.0402 - val_acc: 0.9866\n",
      "Epoch 4/12\n",
      "60000/60000 [==============================] - 152s 3ms/step - loss: 0.1224 - acc: 0.9632 - val_loss: 0.0403 - val_acc: 0.9859\n",
      "Epoch 5/12\n",
      "60000/60000 [==============================] - 152s 3ms/step - loss: 0.1044 - acc: 0.9672 - val_loss: 0.0347 - val_acc: 0.9891\n",
      "Epoch 6/12\n",
      "60000/60000 [==============================] - 151s 3ms/step - loss: 0.0980 - acc: 0.9707 - val_loss: 0.0281 - val_acc: 0.9906\n",
      "Epoch 7/12\n",
      "60000/60000 [==============================] - 152s 3ms/step - loss: 0.0870 - acc: 0.9739 - val_loss: 0.0278 - val_acc: 0.9914\n",
      "Epoch 8/12\n",
      "60000/60000 [==============================] - 151s 3ms/step - loss: 0.0836 - acc: 0.9738 - val_loss: 0.0260 - val_acc: 0.9911\n",
      "Epoch 9/12\n",
      "60000/60000 [==============================] - 157s 3ms/step - loss: 0.0779 - acc: 0.9763 - val_loss: 0.0270 - val_acc: 0.9910\n",
      "Epoch 10/12\n",
      "60000/60000 [==============================] - 156s 3ms/step - loss: 0.0746 - acc: 0.9770 - val_loss: 0.0325 - val_acc: 0.9892\n",
      "Epoch 11/12\n",
      "60000/60000 [==============================] - 156s 3ms/step - loss: 0.0707 - acc: 0.9786 - val_loss: 0.0251 - val_acc: 0.9905\n",
      "Epoch 12/12\n",
      "60000/60000 [==============================] - 159s 3ms/step - loss: 0.0671 - acc: 0.9802 - val_loss: 0.0220 - val_acc: 0.9926\n",
      "Test loss: 0.022010538305551747\n",
      "Test accuracy: 0.9926\n"
     ]
    }
   ],
   "source": [
    "model5 = Sequential()\n",
    "#conv_layer one\n",
    "model5.add(Conv2D(32, kernel_size=(3, 3),activation='relu',input_shape=input_shape,padding ='same'))\n",
    "model5.add(MaxPooling2D(pool_size=(2, 2)))\n",
    "model5.add(Dropout(0.25))\n",
    "\n",
    "#conv_layer two\n",
    "model5.add(Conv2D(64, (5, 5), activation='relu',padding ='same'))\n",
    "model5.add(MaxPooling2D(pool_size=(2, 2)))\n",
    "model5.add(BatchNormalization())\n",
    "model5.add(Dropout(0.25))\n",
    "\n",
    "#conv_layer three\n",
    "model5.add(Conv2D(32, (2,2), activation='relu',padding ='same'))\n",
    "model5.add(MaxPooling2D(pool_size=(2, 2)))\n",
    "model5.add(BatchNormalization())\n",
    "model5.add(Dropout(0.25))\n",
    "\n",
    "#top layer\n",
    "model5.add(Flatten())\n",
    "model5.add(BatchNormalization())\n",
    "model5.add(Dropout(0.5))\n",
    "\n",
    "model5.add(Dense(128, activation='relu'))\n",
    "model5.add(BatchNormalization())\n",
    "model5.add(Dropout(0.5))\n",
    "\n",
    "model5.add(Dense(num_classes, activation='softmax'))\n",
    "\n",
    "model5.compile(loss=\"categorical_crossentropy\",\n",
    "              optimizer=\"adam\",\n",
    "              metrics=['accuracy'])\n",
    "\n",
    "history = model5.fit(x_train, y_train,\n",
    "          batch_size=batch_size,\n",
    "          epochs=epochs,\n",
    "          verbose=1,\n",
    "          validation_data=(x_test, y_test))\n",
    "score = model5.evaluate(x_test, y_test, verbose=0)\n",
    "print('Test loss:', score[0])\n",
    "print('Test accuracy:', score[1])"
   ]
  },
  {
   "cell_type": "code",
   "execution_count": 0,
   "metadata": {
    "colab": {
     "base_uri": "https://localhost:8080/",
     "height": 283
    },
    "colab_type": "code",
    "executionInfo": {
     "elapsed": 1859190,
     "status": "ok",
     "timestamp": 1568662516224,
     "user": {
      "displayName": "Prassena Kannan",
      "photoUrl": "https://lh3.googleusercontent.com/-wdXb0DL2Ohg/AAAAAAAAAAI/AAAAAAAAAtk/gU50EgBa5uo/s64/photo.jpg",
      "userId": "11395127353489346000"
     },
     "user_tz": -330
    },
    "id": "0CCMzYC-6Ttv",
    "outputId": "d6b2733a-94cc-40f3-d370-df6fbda40149"
   },
   "outputs": [
    {
     "data": {
      "image/png": "[encoded data removed]",
      "text/plain": [
       "<Figure size 432x288 with 1 Axes>"
      ]
     },
     "metadata": {
      "tags": []
     },
     "output_type": "display_data"
    }
   ],
   "source": [
    "fig,ax = plt.subplots(1,1)\n",
    "ax.set_xlabel('epoch') ; ax.set_ylabel('Categorical Crossentropy Loss')\n",
    "\n",
    "# list of epoch numbers\n",
    "x = list(range(1,epochs+1))\n",
    "\n",
    "# print(history.history.keys())\n",
    "# dict_keys(['val_loss', 'val_acc', 'loss', 'acc'])\n",
    "# history = model_drop.fit(X_train, Y_train, batch_size=batch_size, epochs=nb_epoch, verbose=1, validation_data=(X_test, Y_test))\n",
    "\n",
    "# we will get val_loss and val_acc only when you pass the paramter validation_data\n",
    "# val_loss : validation loss\n",
    "# val_acc : validation accuracy\n",
    "\n",
    "# loss : training loss\n",
    "# acc : train accuracy\n",
    "# for each key in histrory.histrory we will have a list of length equal to number of epochs\n",
    "\n",
    "vy = history.history['val_loss']\n",
    "ty = history.history['loss']\n",
    "plt_dynamic(x, vy, ty, ax)"
   ]
  },
  {
   "cell_type": "markdown",
   "metadata": {
    "colab_type": "text",
    "id": "WEcLi7CxjEjw"
   },
   "source": [
    "### 2.6 With Droupout's and Batch Normilization where activation sigmoid and weight initilized"
   ]
  },
  {
   "cell_type": "code",
   "execution_count": 0,
   "metadata": {
    "colab": {
     "base_uri": "https://localhost:8080/",
     "height": 512
    },
    "colab_type": "code",
    "executionInfo": {
     "elapsed": 3765664,
     "status": "ok",
     "timestamp": 1568664423494,
     "user": {
      "displayName": "Prassena Kannan",
      "photoUrl": "https://lh3.googleusercontent.com/-wdXb0DL2Ohg/AAAAAAAAAAI/AAAAAAAAAtk/gU50EgBa5uo/s64/photo.jpg",
      "userId": "11395127353489346000"
     },
     "user_tz": -330
    },
    "id": "i1nizEfGjKLf",
    "outputId": "48f1eed7-7b62-487b-9ad2-c9abe1a14e59"
   },
   "outputs": [
    {
     "name": "stdout",
     "output_type": "stream",
     "text": [
      "Train on 60000 samples, validate on 10000 samples\n",
      "Epoch 1/12\n",
      "60000/60000 [==============================] - 166s 3ms/step - loss: 1.6869 - acc: 0.4674 - val_loss: 0.4415 - val_acc: 0.8613\n",
      "Epoch 2/12\n",
      "60000/60000 [==============================] - 161s 3ms/step - loss: 0.5876 - acc: 0.8100 - val_loss: 0.2166 - val_acc: 0.9318\n",
      "Epoch 3/12\n",
      "60000/60000 [==============================] - 159s 3ms/step - loss: 0.3856 - acc: 0.8790 - val_loss: 0.1578 - val_acc: 0.9500\n",
      "Epoch 4/12\n",
      "60000/60000 [==============================] - 158s 3ms/step - loss: 0.3048 - acc: 0.9042 - val_loss: 0.1078 - val_acc: 0.9644\n",
      "Epoch 5/12\n",
      "60000/60000 [==============================] - 161s 3ms/step - loss: 0.2632 - acc: 0.9190 - val_loss: 0.0991 - val_acc: 0.9677\n",
      "Epoch 6/12\n",
      "60000/60000 [==============================] - 157s 3ms/step - loss: 0.2314 - acc: 0.9289 - val_loss: 0.0838 - val_acc: 0.9723\n",
      "Epoch 7/12\n",
      "60000/60000 [==============================] - 156s 3ms/step - loss: 0.2077 - acc: 0.9355 - val_loss: 0.0897 - val_acc: 0.9712\n",
      "Epoch 8/12\n",
      "60000/60000 [==============================] - 157s 3ms/step - loss: 0.1959 - acc: 0.9402 - val_loss: 0.0739 - val_acc: 0.9761\n",
      "Epoch 9/12\n",
      "60000/60000 [==============================] - 156s 3ms/step - loss: 0.1793 - acc: 0.9445 - val_loss: 0.0740 - val_acc: 0.9754\n",
      "Epoch 10/12\n",
      "60000/60000 [==============================] - 156s 3ms/step - loss: 0.1652 - acc: 0.9493 - val_loss: 0.0703 - val_acc: 0.9773\n",
      "Epoch 11/12\n",
      "60000/60000 [==============================] - 154s 3ms/step - loss: 0.1572 - acc: 0.9514 - val_loss: 0.0479 - val_acc: 0.9843\n",
      "Epoch 12/12\n",
      "60000/60000 [==============================] - 155s 3ms/step - loss: 0.1471 - acc: 0.9549 - val_loss: 0.0492 - val_acc: 0.9836\n",
      "Test loss: 0.04922700271680951\n",
      "Test accuracy: 0.9836\n"
     ]
    }
   ],
   "source": [
    "model6 = Sequential()\n",
    "#conv_layer one\n",
    "model6.add(Conv2D(32, kernel_size=(3, 3),activation='sigmoid',input_shape=input_shape,padding ='same',kernel_initializer='glorot_normal'))\n",
    "model6.add(MaxPooling2D(pool_size=(2, 2)))\n",
    "model6.add(Dropout(0.25))\n",
    "\n",
    "#conv_layer two\n",
    "model6.add(Conv2D(64, (5, 5), activation='sigmoid',padding ='same',kernel_initializer='glorot_normal'))\n",
    "model6.add(MaxPooling2D(pool_size=(2, 2)))\n",
    "model6.add(BatchNormalization())\n",
    "model6.add(Dropout(0.25))\n",
    "\n",
    "#conv_layer three\n",
    "model6.add(Conv2D(32, (2,2), activation='sigmoid',padding ='same',kernel_initializer='glorot_normal'))\n",
    "model6.add(MaxPooling2D(pool_size=(2, 2)))\n",
    "model6.add(BatchNormalization())\n",
    "model6.add(Dropout(0.25))\n",
    "\n",
    "#top layer\n",
    "model6.add(Flatten())\n",
    "model6.add(BatchNormalization())\n",
    "model6.add(Dropout(0.5))\n",
    "\n",
    "model6.add(Dense(128, activation='sigmoid',kernel_initializer='glorot_normal'))\n",
    "model6.add(BatchNormalization())\n",
    "model6.add(Dropout(0.5))\n",
    "\n",
    "model6.add(Dense(num_classes, activation='softmax',kernel_initializer='glorot_normal'))\n",
    "\n",
    "model6.compile(loss=\"categorical_crossentropy\",\n",
    "              optimizer=\"adam\",\n",
    "              metrics=['accuracy'])\n",
    "\n",
    "history = model6.fit(x_train, y_train,\n",
    "          batch_size=batch_size,\n",
    "          epochs=epochs,\n",
    "          verbose=1,\n",
    "          validation_data=(x_test, y_test))\n",
    "score = model6.evaluate(x_test, y_test, verbose=0)\n",
    "print('Test loss:', score[0])\n",
    "print('Test accuracy:', score[1])"
   ]
  },
  {
   "cell_type": "code",
   "execution_count": 0,
   "metadata": {
    "colab": {
     "base_uri": "https://localhost:8080/",
     "height": 283
    },
    "colab_type": "code",
    "executionInfo": {
     "elapsed": 3765239,
     "status": "ok",
     "timestamp": 1568664423497,
     "user": {
      "displayName": "Prassena Kannan",
      "photoUrl": "https://lh3.googleusercontent.com/-wdXb0DL2Ohg/AAAAAAAAAAI/AAAAAAAAAtk/gU50EgBa5uo/s64/photo.jpg",
      "userId": "11395127353489346000"
     },
     "user_tz": -330
    },
    "id": "ubuLLuu6jKLt",
    "outputId": "5a5bc2e7-1f62-4e42-f0fa-4d291eb010f9"
   },
   "outputs": [
    {
     "data": {
      "image/png": "[encoded data removed]",
      "text/plain": [
       "<Figure size 432x288 with 1 Axes>"
      ]
     },
     "metadata": {
      "tags": []
     },
     "output_type": "display_data"
    }
   ],
   "source": [
    "fig,ax = plt.subplots(1,1)\n",
    "ax.set_xlabel('epoch') ; ax.set_ylabel('Categorical Crossentropy Loss')\n",
    "\n",
    "# list of epoch numbers\n",
    "x = list(range(1,epochs+1))\n",
    "\n",
    "# print(history.history.keys())\n",
    "# dict_keys(['val_loss', 'val_acc', 'loss', 'acc'])\n",
    "# history = model_drop.fit(X_train, Y_train, batch_size=batch_size, epochs=nb_epoch, verbose=1, validation_data=(X_test, Y_test))\n",
    "\n",
    "# we will get val_loss and val_acc only when you pass the paramter validation_data\n",
    "# val_loss : validation loss\n",
    "# val_acc : validation accuracy\n",
    "\n",
    "# loss : training loss\n",
    "# acc : train accuracy\n",
    "# for each key in histrory.histrory we will have a list of length equal to number of epochs\n",
    "\n",
    "vy = history.history['val_loss']\n",
    "ty = history.history['loss']\n",
    "plt_dynamic(x, vy, ty, ax)"
   ]
  },
  {
   "cell_type": "markdown",
   "metadata": {
    "colab_type": "text",
    "id": "UKokewxhk2uz"
   },
   "source": [
    "### 2.7 With Droupout's and Batch Normilization where activation tanh and weight initilized"
   ]
  },
  {
   "cell_type": "code",
   "execution_count": 0,
   "metadata": {
    "colab": {
     "base_uri": "https://localhost:8080/",
     "height": 512
    },
    "colab_type": "code",
    "executionInfo": {
     "elapsed": 2188288,
     "status": "ok",
     "timestamp": 1568895570698,
     "user": {
      "displayName": "Prassena Kannan",
      "photoUrl": "https://lh3.googleusercontent.com/-wdXb0DL2Ohg/AAAAAAAAAAI/AAAAAAAAAtk/gU50EgBa5uo/s64/photo.jpg",
      "userId": "11395127353489346000"
     },
     "user_tz": -330
    },
    "id": "0uPX_bB7kIC4",
    "outputId": "1dd49b78-d697-4fa3-f52c-de25a50847e0"
   },
   "outputs": [
    {
     "name": "stdout",
     "output_type": "stream",
     "text": [
      "Train on 60000 samples, validate on 10000 samples\n",
      "Epoch 1/12\n",
      "60000/60000 [==============================] - 182s 3ms/step - loss: 0.8381 - acc: 0.7397 - val_loss: 0.1820 - val_acc: 0.9484\n",
      "Epoch 2/12\n",
      "60000/60000 [==============================] - 181s 3ms/step - loss: 0.3099 - acc: 0.9061 - val_loss: 0.0999 - val_acc: 0.9712\n",
      "Epoch 3/12\n",
      "60000/60000 [==============================] - 181s 3ms/step - loss: 0.2282 - acc: 0.9310 - val_loss: 0.0823 - val_acc: 0.9752\n",
      "Epoch 4/12\n",
      "60000/60000 [==============================] - 181s 3ms/step - loss: 0.1983 - acc: 0.9408 - val_loss: 0.0688 - val_acc: 0.9797\n",
      "Epoch 5/12\n",
      "60000/60000 [==============================] - 182s 3ms/step - loss: 0.1741 - acc: 0.9477 - val_loss: 0.0665 - val_acc: 0.9791\n",
      "Epoch 6/12\n",
      "60000/60000 [==============================] - 181s 3ms/step - loss: 0.1646 - acc: 0.9514 - val_loss: 0.0668 - val_acc: 0.9794\n",
      "Epoch 7/12\n",
      "60000/60000 [==============================] - 183s 3ms/step - loss: 0.1526 - acc: 0.9550 - val_loss: 0.0816 - val_acc: 0.9747\n",
      "Epoch 8/12\n",
      "60000/60000 [==============================] - 183s 3ms/step - loss: 0.1448 - acc: 0.9566 - val_loss: 0.0587 - val_acc: 0.9819\n",
      "Epoch 9/12\n",
      "60000/60000 [==============================] - 182s 3ms/step - loss: 0.1370 - acc: 0.9606 - val_loss: 0.0494 - val_acc: 0.9856\n",
      "Epoch 10/12\n",
      "60000/60000 [==============================] - 179s 3ms/step - loss: 0.1352 - acc: 0.9603 - val_loss: 0.0651 - val_acc: 0.9801\n",
      "Epoch 11/12\n",
      "60000/60000 [==============================] - 182s 3ms/step - loss: 0.1285 - acc: 0.9614 - val_loss: 0.0650 - val_acc: 0.9815\n",
      "Epoch 12/12\n",
      "60000/60000 [==============================] - 180s 3ms/step - loss: 0.1262 - acc: 0.9636 - val_loss: 0.0623 - val_acc: 0.9812\n",
      "Test loss: 0.06232936157686636\n",
      "Test accuracy: 0.9812\n"
     ]
    }
   ],
   "source": [
    "model7 = Sequential()\n",
    "\n",
    "#conv_layer one\n",
    "model7.add(Conv2D(32, kernel_size=(3, 3),activation='tanh',input_shape=input_shape,padding ='same',kernel_initializer='glorot_normal'))\n",
    "model7.add(MaxPooling2D(pool_size=(2, 2)))\n",
    "model7.add(Dropout(0.25))\n",
    "\n",
    "#conv_layer two\n",
    "model7.add(Conv2D(64, (5,5), activation='tanh',padding ='same',kernel_initializer='glorot_normal'))\n",
    "model7.add(BatchNormalization())\n",
    "model7.add(Dropout(0.25))\n",
    "\n",
    "#conv_layer three\n",
    "model7.add(Conv2D(32, (2,2), activation='tanh',padding ='same',kernel_initializer='glorot_normal'))\n",
    "model7.add(MaxPooling2D(pool_size=(2, 2)))\n",
    "model7.add(BatchNormalization())\n",
    "model7.add(Dropout(0.25))\n",
    "\n",
    "\n",
    "#top layer\n",
    "model7.add(Flatten())\n",
    "model7.add(Dropout(0.5))\n",
    "\n",
    "model7.add(Dense(128, activation='tanh',kernel_initializer='glorot_normal'))\n",
    "model7.add(BatchNormalization())\n",
    "model7.add(Dropout(0.5))\n",
    "\n",
    "model7.add(Dense(128, activation='tanh',kernel_initializer='glorot_normal'))\n",
    "model7.add(BatchNormalization())\n",
    "model7.add(Dropout(0.5))\n",
    "\n",
    "model7.add(Dense(num_classes, activation='softmax'))\n",
    "\n",
    "model7.compile(loss=\"categorical_crossentropy\",\n",
    "              optimizer=\"adam\",\n",
    "              metrics=['accuracy'])\n",
    "\n",
    "history = model7.fit(x_train, y_train,\n",
    "          batch_size=batch_size,\n",
    "          epochs=epochs,\n",
    "          verbose=1,\n",
    "          validation_data=(x_test, y_test))\n",
    "score = model7.evaluate(x_test, y_test, verbose=0)\n",
    "print('Test loss:', score[0])\n",
    "print('Test accuracy:', score[1])"
   ]
  },
  {
   "cell_type": "code",
   "execution_count": 0,
   "metadata": {
    "colab": {
     "base_uri": "https://localhost:8080/",
     "height": 283
    },
    "colab_type": "code",
    "executionInfo": {
     "elapsed": 95,
     "status": "ok",
     "timestamp": 1568705306373,
     "user": {
      "displayName": "Prassena Kannan",
      "photoUrl": "https://lh3.googleusercontent.com/-wdXb0DL2Ohg/AAAAAAAAAAI/AAAAAAAAAtk/gU50EgBa5uo/s64/photo.jpg",
      "userId": "11395127353489346000"
     },
     "user_tz": -330
    },
    "id": "6fYl1nThkIDD",
    "outputId": "dc509db3-bbff-4041-c866-045d4328e44a"
   },
   "outputs": [
    {
     "data": {
      "image/png": "[encoded data removed]",
      "text/plain": [
       "<Figure size 432x288 with 1 Axes>"
      ]
     },
     "metadata": {
      "tags": []
     },
     "output_type": "display_data"
    }
   ],
   "source": [
    "fig,ax = plt.subplots(1,1)\n",
    "ax.set_xlabel('epoch') ; ax.set_ylabel('Categorical Crossentropy Loss')\n",
    "\n",
    "# list of epoch numbers\n",
    "x = list(range(1,epochs+1))\n",
    "\n",
    "# print(history.history.keys())\n",
    "# dict_keys(['val_loss', 'val_acc', 'loss', 'acc'])\n",
    "# history = model_drop.fit(X_train, Y_train, batch_size=batch_size, epochs=nb_epoch, verbose=1, validation_data=(X_test, Y_test))\n",
    "\n",
    "# we will get val_loss and val_acc only when you pass the paramter validation_data\n",
    "# val_loss : validation loss\n",
    "# val_acc : validation accuracy\n",
    "\n",
    "# loss : training loss\n",
    "# acc : train accuracy\n",
    "# for each key in histrory.histrory we will have a list of length equal to number of epochs\n",
    "\n",
    "vy = history.history['val_loss']\n",
    "ty = history.history['loss']\n",
    "plt_dynamic(x, vy, ty, ax)"
   ]
  },
  {
   "cell_type": "markdown",
   "metadata": {
    "colab_type": "text",
    "id": "8ZIkarmEjEj5"
   },
   "source": [
    "### 2.8 With Droupout's and Batch Normilization where optimizer as sdg"
   ]
  },
  {
   "cell_type": "code",
   "execution_count": 0,
   "metadata": {
    "colab": {
     "base_uri": "https://localhost:8080/",
     "height": 512
    },
    "colab_type": "code",
    "executionInfo": {
     "elapsed": 424,
     "status": "ok",
     "timestamp": 1568707688256,
     "user": {
      "displayName": "Prassena Kannan",
      "photoUrl": "https://lh3.googleusercontent.com/-wdXb0DL2Ohg/AAAAAAAAAAI/AAAAAAAAAtk/gU50EgBa5uo/s64/photo.jpg",
      "userId": "11395127353489346000"
     },
     "user_tz": -330
    },
    "id": "ss7MiU9nlFdW",
    "outputId": "08a6cc6b-9f05-40f2-9f56-1ab3d134dff1"
   },
   "outputs": [
    {
     "name": "stdout",
     "output_type": "stream",
     "text": [
      "Train on 60000 samples, validate on 10000 samples\n",
      "Epoch 1/12\n",
      "60000/60000 [==============================] - 151s 3ms/step - loss: 0.6913 - acc: 0.7843 - val_loss: 0.1047 - val_acc: 0.9652\n",
      "Epoch 2/12\n",
      "60000/60000 [==============================] - 149s 2ms/step - loss: 0.2102 - acc: 0.9348 - val_loss: 0.0569 - val_acc: 0.9811\n",
      "Epoch 3/12\n",
      "60000/60000 [==============================] - 150s 3ms/step - loss: 0.1510 - acc: 0.9541 - val_loss: 0.0432 - val_acc: 0.9854\n",
      "Epoch 4/12\n",
      "60000/60000 [==============================] - 150s 2ms/step - loss: 0.1237 - acc: 0.9630 - val_loss: 0.0384 - val_acc: 0.9873\n",
      "Epoch 5/12\n",
      "60000/60000 [==============================] - 148s 2ms/step - loss: 0.1094 - acc: 0.9671 - val_loss: 0.0320 - val_acc: 0.9893\n",
      "Epoch 6/12\n",
      "60000/60000 [==============================] - 148s 2ms/step - loss: 0.0964 - acc: 0.9708 - val_loss: 0.0302 - val_acc: 0.9898\n",
      "Epoch 7/12\n",
      "60000/60000 [==============================] - 147s 2ms/step - loss: 0.0886 - acc: 0.9729 - val_loss: 0.0272 - val_acc: 0.9911\n",
      "Epoch 8/12\n",
      "60000/60000 [==============================] - 147s 2ms/step - loss: 0.0837 - acc: 0.9736 - val_loss: 0.0261 - val_acc: 0.9911\n",
      "Epoch 9/12\n",
      "60000/60000 [==============================] - 147s 2ms/step - loss: 0.0779 - acc: 0.9761 - val_loss: 0.0243 - val_acc: 0.9915\n",
      "Epoch 10/12\n",
      "60000/60000 [==============================] - 147s 2ms/step - loss: 0.0756 - acc: 0.9774 - val_loss: 0.0249 - val_acc: 0.9921\n",
      "Epoch 11/12\n",
      "60000/60000 [==============================] - 147s 2ms/step - loss: 0.0724 - acc: 0.9784 - val_loss: 0.0209 - val_acc: 0.9933\n",
      "Epoch 12/12\n",
      "60000/60000 [==============================] - 147s 2ms/step - loss: 0.0663 - acc: 0.9800 - val_loss: 0.0233 - val_acc: 0.9918\n",
      "Test loss: 0.023303378582611913\n",
      "Test accuracy: 0.9918\n"
     ]
    }
   ],
   "source": [
    "model8 = Sequential()\n",
    "#conv_layer one\n",
    "model8.add(Conv2D(32, kernel_size=(3, 3),activation='relu',input_shape=input_shape,padding ='same',kernel_initializer='he_normal'))\n",
    "model8.add(MaxPooling2D(pool_size=(2, 2)))\n",
    "model8.add(Dropout(0.25))\n",
    "\n",
    "#conv_layer two\n",
    "model8.add(Conv2D(64, (5, 5), activation='relu',padding ='same',kernel_initializer='he_normal'))\n",
    "model8.add(MaxPooling2D(pool_size=(2, 2)))\n",
    "model8.add(BatchNormalization())\n",
    "model8.add(Dropout(0.25))\n",
    "\n",
    "#conv_layer three\n",
    "model8.add(Conv2D(32, (2,2), activation='relu',padding ='same',kernel_initializer='he_normal'))\n",
    "model8.add(MaxPooling2D(pool_size=(2, 2)))\n",
    "model8.add(BatchNormalization())\n",
    "model8.add(Dropout(0.25))\n",
    "\n",
    "#top layer\n",
    "model8.add(Flatten())\n",
    "model8.add(BatchNormalization())\n",
    "model8.add(Dropout(0.5))\n",
    "\n",
    "model8.add(Dense(128, activation='relu',kernel_initializer='he_normal'))\n",
    "model8.add(BatchNormalization())\n",
    "model8.add(Dropout(0.5))\n",
    "\n",
    "model8.add(Dense(num_classes, activation='softmax',kernel_initializer='he_normal'))\n",
    "\n",
    "model8.compile(loss=\"categorical_crossentropy\",\n",
    "              optimizer=\"adam\",\n",
    "              metrics=['accuracy'])\n",
    "\n",
    "history = model8.fit(x_train, y_train,\n",
    "          batch_size=batch_size,\n",
    "          epochs=epochs,\n",
    "          verbose=1,\n",
    "          validation_data=(x_test, y_test))\n",
    "score = model8.evaluate(x_test, y_test, verbose=0)\n",
    "print('Test loss:', score[0])\n",
    "print('Test accuracy:', score[1])"
   ]
  },
  {
   "cell_type": "code",
   "execution_count": 0,
   "metadata": {
    "colab": {
     "base_uri": "https://localhost:8080/",
     "height": 283
    },
    "colab_type": "code",
    "executionInfo": {
     "elapsed": 14,
     "status": "ok",
     "timestamp": 1568707688260,
     "user": {
      "displayName": "Prassena Kannan",
      "photoUrl": "https://lh3.googleusercontent.com/-wdXb0DL2Ohg/AAAAAAAAAAI/AAAAAAAAAtk/gU50EgBa5uo/s64/photo.jpg",
      "userId": "11395127353489346000"
     },
     "user_tz": -330
    },
    "id": "BrzzMuAwlGCb",
    "outputId": "826e9816-5927-4444-bf02-b9a6a2e76721"
   },
   "outputs": [
    {
     "data": {
      "image/png": "[encoded data removed]",
      "text/plain": [
       "<Figure size 432x288 with 1 Axes>"
      ]
     },
     "metadata": {
      "tags": []
     },
     "output_type": "display_data"
    }
   ],
   "source": [
    "fig,ax = plt.subplots(1,1)\n",
    "ax.set_xlabel('epoch') ; ax.set_ylabel('Categorical Crossentropy Loss')\n",
    "\n",
    "# list of epoch numbers\n",
    "x = list(range(1,epochs+1))\n",
    "\n",
    "# print(history.history.keys())\n",
    "# dict_keys(['val_loss', 'val_acc', 'loss', 'acc'])\n",
    "# history = model_drop.fit(X_train, Y_train, batch_size=batch_size, epochs=nb_epoch, verbose=1, validation_data=(X_test, Y_test))\n",
    "\n",
    "# we will get val_loss and val_acc only when you pass the paramter validation_data\n",
    "# val_loss : validation loss\n",
    "# val_acc : validation accuracy\n",
    "\n",
    "# loss : training loss\n",
    "# acc : train accuracy\n",
    "# for each key in histrory.histrory we will have a list of length equal to number of epochs\n",
    "\n",
    "vy = history.history['val_loss']\n",
    "ty = history.history['loss']\n",
    "plt_dynamic(x, vy, ty, ax)"
   ]
  },
  {
   "cell_type": "markdown",
   "metadata": {
    "colab_type": "text",
    "id": "A424m2utzlCH"
   },
   "source": [
    "<h2>3. Number of convolusion Layer 5 </2>"
   ]
  },
  {
   "cell_type": "markdown",
   "metadata": {
    "colab_type": "text",
    "id": "4CZgqeUezlCI"
   },
   "source": [
    "#### 3.1 Without droupout or Batch Normilization"
   ]
  },
  {
   "cell_type": "code",
   "execution_count": 0,
   "metadata": {
    "colab": {
     "base_uri": "https://localhost:8080/",
     "height": 512
    },
    "colab_type": "code",
    "executionInfo": {
     "elapsed": 6132,
     "status": "ok",
     "timestamp": 1568715058480,
     "user": {
      "displayName": "Prassena Kannan",
      "photoUrl": "https://lh3.googleusercontent.com/-wdXb0DL2Ohg/AAAAAAAAAAI/AAAAAAAAAtk/gU50EgBa5uo/s64/photo.jpg",
      "userId": "11395127353489346000"
     },
     "user_tz": -330
    },
    "id": "SAk-BbiszlCJ",
    "outputId": "2b3378e6-74a8-410d-a40f-87e3129220db"
   },
   "outputs": [
    {
     "name": "stdout",
     "output_type": "stream",
     "text": [
      "Train on 60000 samples, validate on 10000 samples\n",
      "Epoch 1/12\n",
      "60000/60000 [==============================] - 203s 3ms/step - loss: 0.2825 - acc: 0.9065 - val_loss: 0.0737 - val_acc: 0.9757\n",
      "Epoch 2/12\n",
      "60000/60000 [==============================] - 201s 3ms/step - loss: 0.0643 - acc: 0.9800 - val_loss: 0.0522 - val_acc: 0.9825\n",
      "Epoch 3/12\n",
      "60000/60000 [==============================] - 203s 3ms/step - loss: 0.0451 - acc: 0.9858 - val_loss: 0.0357 - val_acc: 0.9892\n",
      "Epoch 4/12\n",
      "60000/60000 [==============================] - 203s 3ms/step - loss: 0.0342 - acc: 0.9890 - val_loss: 0.0352 - val_acc: 0.9881\n",
      "Epoch 5/12\n",
      "60000/60000 [==============================] - 203s 3ms/step - loss: 0.0309 - acc: 0.9905 - val_loss: 0.0309 - val_acc: 0.9897\n",
      "Epoch 6/12\n",
      "60000/60000 [==============================] - 203s 3ms/step - loss: 0.0241 - acc: 0.9923 - val_loss: 0.0359 - val_acc: 0.9888\n",
      "Epoch 7/12\n",
      "60000/60000 [==============================] - 203s 3ms/step - loss: 0.0220 - acc: 0.9933 - val_loss: 0.0288 - val_acc: 0.9910\n",
      "Epoch 8/12\n",
      "60000/60000 [==============================] - 203s 3ms/step - loss: 0.0200 - acc: 0.9937 - val_loss: 0.0348 - val_acc: 0.9892\n",
      "Epoch 9/12\n",
      "60000/60000 [==============================] - 203s 3ms/step - loss: 0.0201 - acc: 0.9934 - val_loss: 0.0348 - val_acc: 0.9903\n",
      "Epoch 10/12\n",
      "60000/60000 [==============================] - 203s 3ms/step - loss: 0.0166 - acc: 0.9951 - val_loss: 0.0310 - val_acc: 0.9903\n",
      "Epoch 11/12\n",
      "60000/60000 [==============================] - 203s 3ms/step - loss: 0.0142 - acc: 0.9957 - val_loss: 0.0272 - val_acc: 0.9923\n",
      "Epoch 12/12\n",
      "60000/60000 [==============================] - 203s 3ms/step - loss: 0.0159 - acc: 0.9950 - val_loss: 0.0459 - val_acc: 0.9892\n",
      "Test loss: 0.045902207302180885\n",
      "Test accuracy: 0.9892\n"
     ]
    }
   ],
   "source": [
    "model1 = Sequential()\n",
    "#conv_layer one\n",
    "model1.add(Conv2D(32, kernel_size=(5,5),activation='relu',input_shape=input_shape,padding ='same'))\n",
    "model1.add(MaxPooling2D(pool_size=(2, 2)))   \n",
    "\n",
    "#conv_layer two\n",
    "model1.add(Conv2D(64, (5,5), activation='relu',padding ='same'))\n",
    "model1.add(MaxPooling2D(pool_size=(2, 2)))\n",
    "\n",
    "#conv_layer three\n",
    "model1.add(Conv2D(32, (6,6), activation='relu',padding ='same'))\n",
    "model1.add(MaxPooling2D(pool_size=(2, 2)))\n",
    "\n",
    "#conv_layer four\n",
    "model1.add(Conv2D(128, (3,3), activation='relu',padding ='same'))\n",
    "\n",
    "#conv_layer five\n",
    "model1.add(Conv2D(16, (5,5), activation='relu',padding ='same'))\n",
    "model1.add(MaxPooling2D(pool_size=(2, 2)))\n",
    "\n",
    "#top layer\n",
    "model1.add(Flatten())\n",
    "\n",
    "model1.add(Dense(124, activation='relu'))\n",
    "model1.add(Dense(num_classes, activation='softmax'))\n",
    "\n",
    "model1.compile(loss=\"categorical_crossentropy\",\n",
    "              optimizer=\"adam\",\n",
    "              metrics=['accuracy'])\n",
    "\n",
    "history = model1.fit(x_train, y_train,\n",
    "          batch_size=batch_size,\n",
    "          epochs=epochs,\n",
    "          verbose=1,\n",
    "          validation_data=(x_test, y_test))\n",
    "score = model1.evaluate(x_test, y_test, verbose=0)\n",
    "print('Test loss:', score[0])\n",
    "print('Test accuracy:', score[1])"
   ]
  },
  {
   "cell_type": "code",
   "execution_count": 0,
   "metadata": {
    "colab": {
     "base_uri": "https://localhost:8080/",
     "height": 283
    },
    "colab_type": "code",
    "executionInfo": {
     "elapsed": 699,
     "status": "ok",
     "timestamp": 1568715058488,
     "user": {
      "displayName": "Prassena Kannan",
      "photoUrl": "https://lh3.googleusercontent.com/-wdXb0DL2Ohg/AAAAAAAAAAI/AAAAAAAAAtk/gU50EgBa5uo/s64/photo.jpg",
      "userId": "11395127353489346000"
     },
     "user_tz": -330
    },
    "id": "mE_Kv6Fm6VRy",
    "outputId": "f551c9ab-5c74-424e-96c2-8e20f89c2f35"
   },
   "outputs": [
    {
     "data": {
      "image/png": "[encoded data removed]",
      "text/plain": [
       "<Figure size 432x288 with 1 Axes>"
      ]
     },
     "metadata": {
      "tags": []
     },
     "output_type": "display_data"
    }
   ],
   "source": [
    "fig,ax = plt.subplots(1,1)\n",
    "ax.set_xlabel('epoch') ; ax.set_ylabel('Categorical Crossentropy Loss')\n",
    "\n",
    "# list of epoch numbers\n",
    "x = list(range(1,epochs+1))\n",
    "\n",
    "# print(history.history.keys())\n",
    "# dict_keys(['val_loss', 'val_acc', 'loss', 'acc'])\n",
    "# history = model_drop.fit(X_train, Y_train, batch_size=batch_size, epochs=nb_epoch, verbose=1, validation_data=(X_test, Y_test))\n",
    "\n",
    "# we will get val_loss and val_acc only when you pass the paramter validation_data\n",
    "# val_loss : validation loss\n",
    "# val_acc : validation accuracy\n",
    "\n",
    "# loss : training loss\n",
    "# acc : train accuracy\n",
    "# for each key in histrory.histrory we will have a list of length equal to number of epochs\n",
    "\n",
    "vy = history.history['val_loss']\n",
    "ty = history.history['loss']\n",
    "plt_dynamic(x, vy, ty, ax)"
   ]
  },
  {
   "cell_type": "markdown",
   "metadata": {
    "colab_type": "text",
    "id": "ovWQWr00zlCL"
   },
   "source": [
    "### 3.2 With Droupout's"
   ]
  },
  {
   "cell_type": "code",
   "execution_count": 0,
   "metadata": {
    "colab": {
     "base_uri": "https://localhost:8080/",
     "height": 512
    },
    "colab_type": "code",
    "executionInfo": {
     "elapsed": 683,
     "status": "ok",
     "timestamp": 1568715058489,
     "user": {
      "displayName": "Prassena Kannan",
      "photoUrl": "https://lh3.googleusercontent.com/-wdXb0DL2Ohg/AAAAAAAAAAI/AAAAAAAAAtk/gU50EgBa5uo/s64/photo.jpg",
      "userId": "11395127353489346000"
     },
     "user_tz": -330
    },
    "id": "oj__qvcWzlCM",
    "outputId": "3d81fc17-44a3-480d-935e-3bba977611e6"
   },
   "outputs": [
    {
     "name": "stdout",
     "output_type": "stream",
     "text": [
      "Train on 60000 samples, validate on 10000 samples\n",
      "Epoch 1/12\n",
      "60000/60000 [==============================] - 164s 3ms/step - loss: 1.1238 - acc: 0.5675 - val_loss: 0.2079 - val_acc: 0.9573\n",
      "Epoch 2/12\n",
      "60000/60000 [==============================] - 164s 3ms/step - loss: 0.4904 - acc: 0.8331 - val_loss: 0.0914 - val_acc: 0.9795\n",
      "Epoch 3/12\n",
      "60000/60000 [==============================] - 168s 3ms/step - loss: 0.3619 - acc: 0.8890 - val_loss: 0.0720 - val_acc: 0.9850\n",
      "Epoch 4/12\n",
      "60000/60000 [==============================] - 168s 3ms/step - loss: 0.2996 - acc: 0.9072 - val_loss: 0.0599 - val_acc: 0.9876\n",
      "Epoch 5/12\n",
      "60000/60000 [==============================] - 168s 3ms/step - loss: 0.2526 - acc: 0.9203 - val_loss: 0.0477 - val_acc: 0.9879\n",
      "Epoch 6/12\n",
      "60000/60000 [==============================] - 167s 3ms/step - loss: 0.2302 - acc: 0.9305 - val_loss: 0.0458 - val_acc: 0.9888\n",
      "Epoch 7/12\n",
      "60000/60000 [==============================] - 167s 3ms/step - loss: 0.1864 - acc: 0.9458 - val_loss: 0.0410 - val_acc: 0.9899\n",
      "Epoch 8/12\n",
      "60000/60000 [==============================] - 166s 3ms/step - loss: 0.1675 - acc: 0.9500 - val_loss: 0.0366 - val_acc: 0.9900\n",
      "Epoch 9/12\n",
      "60000/60000 [==============================] - 165s 3ms/step - loss: 0.1520 - acc: 0.9549 - val_loss: 0.0418 - val_acc: 0.9888\n",
      "Epoch 10/12\n",
      "60000/60000 [==============================] - 168s 3ms/step - loss: 0.1398 - acc: 0.9580 - val_loss: 0.0453 - val_acc: 0.9895\n",
      "Epoch 11/12\n",
      "60000/60000 [==============================] - 167s 3ms/step - loss: 0.1399 - acc: 0.9576 - val_loss: 0.0359 - val_acc: 0.9901\n",
      "Epoch 12/12\n",
      "60000/60000 [==============================] - 167s 3ms/step - loss: 0.1310 - acc: 0.9597 - val_loss: 0.0345 - val_acc: 0.9916\n",
      "Test loss: 0.03453645165923517\n",
      "Test accuracy: 0.9916\n"
     ]
    }
   ],
   "source": [
    "model2 = Sequential()\n",
    "\n",
    "#conv_layer one\n",
    "model2.add(Conv2D(32, kernel_size=(5,5),activation='relu',input_shape=input_shape,padding ='same'))\n",
    "model2.add(MaxPooling2D(pool_size=(2, 2)))\n",
    "model2.add(Dropout(0.25))\n",
    "\n",
    "#conv_layer two\n",
    "model2.add(Conv2D(64, (3, 3), activation='relu',padding ='same'))\n",
    "model2.add(MaxPooling2D(pool_size=(2, 2)))\n",
    "model2.add(Dropout(0.25))\n",
    "\n",
    "#conv_layer three\n",
    "model2.add(Conv2D(32, (5,5), activation='relu',padding ='same'))\n",
    "model2.add(MaxPooling2D(pool_size=(2, 2)))\n",
    "model2.add(Dropout(0.25))\n",
    "\n",
    "#conv_layer four\n",
    "model2.add(Conv2D(128, (3,3), activation='relu',padding ='same'))\n",
    "model2.add(Dropout(0.25))\n",
    "\n",
    "#conv_layer five\n",
    "model2.add(Conv2D(16, (8,8), activation='relu',padding ='same'))\n",
    "model2.add(MaxPooling2D(pool_size=(2, 2)))\n",
    "model2.add(Dropout(0.25))\n",
    "\n",
    "#top layer\n",
    "model2.add(Flatten())\n",
    "\n",
    "model2.add(Dense(128, activation='relu'))\n",
    "model2.add(Dropout(0.5))\n",
    "\n",
    "model2.add(Dense(num_classes, activation='softmax'))\n",
    "\n",
    "model2.compile(loss=\"categorical_crossentropy\",\n",
    "              optimizer=\"adam\",\n",
    "              metrics=['accuracy'])\n",
    "\n",
    "history = model2.fit(x_train, y_train,\n",
    "          batch_size=batch_size,\n",
    "          epochs=epochs,\n",
    "          verbose=1,\n",
    "          validation_data=(x_test, y_test))\n",
    "score = model2.evaluate(x_test, y_test, verbose=0)\n",
    "print('Test loss:', score[0])\n",
    "print('Test accuracy:', score[1])"
   ]
  },
  {
   "cell_type": "code",
   "execution_count": 0,
   "metadata": {
    "colab": {
     "base_uri": "https://localhost:8080/",
     "height": 283
    },
    "colab_type": "code",
    "executionInfo": {
     "elapsed": 350,
     "status": "ok",
     "timestamp": 1568715058490,
     "user": {
      "displayName": "Prassena Kannan",
      "photoUrl": "https://lh3.googleusercontent.com/-wdXb0DL2Ohg/AAAAAAAAAAI/AAAAAAAAAtk/gU50EgBa5uo/s64/photo.jpg",
      "userId": "11395127353489346000"
     },
     "user_tz": -330
    },
    "id": "WCrKzxxz6Xdo",
    "outputId": "1d36b118-4e1f-4e6a-d4f6-e475f2f1c834"
   },
   "outputs": [
    {
     "data": {
      "image/png": "[encoded data removed]",
      "text/plain": [
       "<Figure size 432x288 with 1 Axes>"
      ]
     },
     "metadata": {
      "tags": []
     },
     "output_type": "display_data"
    }
   ],
   "source": [
    "fig,ax = plt.subplots(1,1)\n",
    "ax.set_xlabel('epoch') ; ax.set_ylabel('Categorical Crossentropy Loss')\n",
    "\n",
    "# list of epoch numbers\n",
    "x = list(range(1,epochs+1))\n",
    "\n",
    "# print(history.history.keys())\n",
    "# dict_keys(['val_loss', 'val_acc', 'loss', 'acc'])\n",
    "# history = model_drop.fit(X_train, Y_train, batch_size=batch_size, epochs=nb_epoch, verbose=1, validation_data=(X_test, Y_test))\n",
    "\n",
    "# we will get val_loss and val_acc only when you pass the paramter validation_data\n",
    "# val_loss : validation loss\n",
    "# val_acc : validation accuracy\n",
    "\n",
    "# loss : training loss\n",
    "# acc : train accuracy\n",
    "# for each key in histrory.histrory we will have a list of length equal to number of epochs\n",
    "\n",
    "vy = history.history['val_loss']\n",
    "ty = history.history['loss']\n",
    "plt_dynamic(x, vy, ty, ax)"
   ]
  },
  {
   "cell_type": "markdown",
   "metadata": {
    "colab_type": "text",
    "id": "DSfchi24zlCP"
   },
   "source": [
    "### 3.3 With Batch Normilization "
   ]
  },
  {
   "cell_type": "code",
   "execution_count": 0,
   "metadata": {
    "colab": {
     "base_uri": "https://localhost:8080/",
     "height": 512
    },
    "colab_type": "code",
    "executionInfo": {
     "elapsed": 728575,
     "status": "ok",
     "timestamp": 1568715786730,
     "user": {
      "displayName": "Prassena Kannan",
      "photoUrl": "https://lh3.googleusercontent.com/-wdXb0DL2Ohg/AAAAAAAAAAI/AAAAAAAAAtk/gU50EgBa5uo/s64/photo.jpg",
      "userId": "11395127353489346000"
     },
     "user_tz": -330
    },
    "id": "25Oayd2XzlCP",
    "outputId": "c350c9e2-f04b-4338-9582-9997e4e33bf8"
   },
   "outputs": [
    {
     "name": "stdout",
     "output_type": "stream",
     "text": [
      "Train on 60000 samples, validate on 10000 samples\n",
      "Epoch 1/12\n",
      "60000/60000 [==============================] - 288s 5ms/step - loss: 0.1515 - acc: 0.9534 - val_loss: 0.1628 - val_acc: 0.9488\n",
      "Epoch 2/12\n",
      "60000/60000 [==============================] - 285s 5ms/step - loss: 0.0452 - acc: 0.9864 - val_loss: 0.0423 - val_acc: 0.9864\n",
      "Epoch 3/12\n",
      "60000/60000 [==============================] - 285s 5ms/step - loss: 0.0313 - acc: 0.9901 - val_loss: 0.0369 - val_acc: 0.9887\n",
      "Epoch 4/12\n",
      "60000/60000 [==============================] - 286s 5ms/step - loss: 0.0250 - acc: 0.9921 - val_loss: 0.0269 - val_acc: 0.9905\n",
      "Epoch 5/12\n",
      "60000/60000 [==============================] - 286s 5ms/step - loss: 0.0201 - acc: 0.9936 - val_loss: 0.0378 - val_acc: 0.9870\n",
      "Epoch 6/12\n",
      "60000/60000 [==============================] - 284s 5ms/step - loss: 0.0187 - acc: 0.9938 - val_loss: 0.0458 - val_acc: 0.9859\n",
      "Epoch 7/12\n",
      "60000/60000 [==============================] - 284s 5ms/step - loss: 0.0162 - acc: 0.9951 - val_loss: 0.0552 - val_acc: 0.9847\n",
      "Epoch 8/12\n",
      "60000/60000 [==============================] - 284s 5ms/step - loss: 0.0164 - acc: 0.9945 - val_loss: 0.0656 - val_acc: 0.9797\n",
      "Epoch 9/12\n",
      "60000/60000 [==============================] - 284s 5ms/step - loss: 0.0128 - acc: 0.9960 - val_loss: 0.0414 - val_acc: 0.9880\n",
      "Epoch 10/12\n",
      "60000/60000 [==============================] - 287s 5ms/step - loss: 0.0125 - acc: 0.9960 - val_loss: 0.0330 - val_acc: 0.9898\n",
      "Epoch 11/12\n",
      "60000/60000 [==============================] - 284s 5ms/step - loss: 0.0124 - acc: 0.9960 - val_loss: 0.0485 - val_acc: 0.9853\n",
      "Epoch 12/12\n",
      "60000/60000 [==============================] - 283s 5ms/step - loss: 0.0111 - acc: 0.9963 - val_loss: 0.0358 - val_acc: 0.9893\n",
      "Test loss: 0.03583010960441752\n",
      "Test accuracy: 0.9893\n"
     ]
    }
   ],
   "source": [
    "model3 = Sequential()\n",
    "\n",
    "#conv_layer one\n",
    "model3.add(Conv2D(32, kernel_size=(3, 3),activation='relu',input_shape=input_shape,padding ='same'))\n",
    "model3.add(MaxPooling2D(pool_size=(2, 2)))\n",
    "\n",
    "#conv_layer two\n",
    "model3.add(Conv2D(128, (3, 3), activation='relu',padding ='same'))\n",
    "model3.add(BatchNormalization())\n",
    "\n",
    "#conv_layer three\n",
    "model3.add(Conv2D(32, (3, 3), activation='relu',padding ='same'))\n",
    "model3.add(BatchNormalization())\n",
    "\n",
    "\n",
    "#conv_layer four\n",
    "model3.add(Conv2D(40, (3, 3), activation='relu',padding ='same'))\n",
    "model3.add(MaxPooling2D(pool_size=(2, 2)))\n",
    "model3.add(BatchNormalization())\n",
    "\n",
    "\n",
    "#conv_layer five\n",
    "model3.add(Conv2D(8, (3, 3), activation='relu',padding ='same'))\n",
    "model3.add(MaxPooling2D(pool_size=(2, 2)))\n",
    "model3.add(BatchNormalization())\n",
    "\n",
    "\n",
    "#top layer\n",
    "model3.add(Flatten())\n",
    "\n",
    "\n",
    "model3.add(Dense(128, activation='relu'))\n",
    "model3.add(BatchNormalization())\n",
    "\n",
    "\n",
    "model3.add(Dense(128, activation='relu'))\n",
    "model3.add(BatchNormalization())\n",
    "\n",
    "\n",
    "model3.add(Dense(num_classes, activation='softmax'))\n",
    "\n",
    "model3.compile(loss=\"categorical_crossentropy\",\n",
    "              optimizer=\"adam\",\n",
    "              metrics=['accuracy'])\n",
    "\n",
    "history = model3.fit(x_train, y_train,\n",
    "          batch_size=batch_size,\n",
    "          epochs=epochs,\n",
    "          verbose=1,\n",
    "          validation_data=(x_test, y_test))\n",
    "score = model3.evaluate(x_test, y_test, verbose=0)\n",
    "print('Test loss:', score[0])\n",
    "print('Test accuracy:', score[1])"
   ]
  },
  {
   "cell_type": "code",
   "execution_count": 0,
   "metadata": {
    "colab": {
     "base_uri": "https://localhost:8080/",
     "height": 283
    },
    "colab_type": "code",
    "executionInfo": {
     "elapsed": 46,
     "status": "ok",
     "timestamp": 1568715786736,
     "user": {
      "displayName": "Prassena Kannan",
      "photoUrl": "https://lh3.googleusercontent.com/-wdXb0DL2Ohg/AAAAAAAAAAI/AAAAAAAAAtk/gU50EgBa5uo/s64/photo.jpg",
      "userId": "11395127353489346000"
     },
     "user_tz": -330
    },
    "id": "zGzEdkIW6ZJH",
    "outputId": "aa704592-6db6-48ef-8824-1adcaa9ffd46"
   },
   "outputs": [
    {
     "data": {
      "image/png": "[encoded data removed]",
      "text/plain": [
       "<Figure size 432x288 with 1 Axes>"
      ]
     },
     "metadata": {
      "tags": []
     },
     "output_type": "display_data"
    }
   ],
   "source": [
    "fig,ax = plt.subplots(1,1)\n",
    "ax.set_xlabel('epoch') ; ax.set_ylabel('Categorical Crossentropy Loss')\n",
    "\n",
    "# list of epoch numbers\n",
    "x = list(range(1,epochs+1))\n",
    "\n",
    "# print(history.history.keys())\n",
    "# dict_keys(['val_loss', 'val_acc', 'loss', 'acc'])\n",
    "# history = model_drop.fit(X_train, Y_train, batch_size=batch_size, epochs=nb_epoch, verbose=1, validation_data=(X_test, Y_test))\n",
    "\n",
    "# we will get val_loss and val_acc only when you pass the paramter validation_data\n",
    "# val_loss : validation loss\n",
    "# val_acc : validation accuracy\n",
    "\n",
    "# loss : training loss\n",
    "# acc : train accuracy\n",
    "# for each key in histrory.histrory we will have a list of length equal to number of epochs\n",
    "\n",
    "vy = history.history['val_loss']\n",
    "ty = history.history['loss']\n",
    "plt_dynamic(x, vy, ty, ax)"
   ]
  },
  {
   "cell_type": "markdown",
   "metadata": {
    "colab_type": "text",
    "id": "b5Br3ddhmlt2"
   },
   "source": [
    "### 3.4 With Droupout's and Batch Normilization "
   ]
  },
  {
   "cell_type": "code",
   "execution_count": 0,
   "metadata": {
    "colab": {
     "base_uri": "https://localhost:8080/",
     "height": 512
    },
    "colab_type": "code",
    "executionInfo": {
     "elapsed": 3509164,
     "status": "ok",
     "timestamp": 1568901423827,
     "user": {
      "displayName": "Prassena Kannan",
      "photoUrl": "https://lh3.googleusercontent.com/-wdXb0DL2Ohg/AAAAAAAAAAI/AAAAAAAAAtk/gU50EgBa5uo/s64/photo.jpg",
      "userId": "11395127353489346000"
     },
     "user_tz": -330
    },
    "id": "mTGvKNFcmlt7",
    "outputId": "76519026-c01d-4595-d89c-34cb45be21ab"
   },
   "outputs": [
    {
     "name": "stdout",
     "output_type": "stream",
     "text": [
      "Train on 60000 samples, validate on 10000 samples\n",
      "Epoch 1/12\n",
      "60000/60000 [==============================] - 299s 5ms/step - loss: 1.4600 - acc: 0.5301 - val_loss: 0.2496 - val_acc: 0.9220\n",
      "Epoch 2/12\n",
      "60000/60000 [==============================] - 295s 5ms/step - loss: 0.5007 - acc: 0.8400 - val_loss: 0.1035 - val_acc: 0.9680\n",
      "Epoch 3/12\n",
      "60000/60000 [==============================] - 291s 5ms/step - loss: 0.3192 - acc: 0.9031 - val_loss: 0.0753 - val_acc: 0.9757\n",
      "Epoch 4/12\n",
      "60000/60000 [==============================] - 290s 5ms/step - loss: 0.2464 - acc: 0.9269 - val_loss: 0.0532 - val_acc: 0.9825\n",
      "Epoch 5/12\n",
      "60000/60000 [==============================] - 290s 5ms/step - loss: 0.2024 - acc: 0.9406 - val_loss: 0.0497 - val_acc: 0.9853\n",
      "Epoch 6/12\n",
      "60000/60000 [==============================] - 288s 5ms/step - loss: 0.1749 - acc: 0.9490 - val_loss: 0.0378 - val_acc: 0.9871\n",
      "Epoch 7/12\n",
      "60000/60000 [==============================] - 290s 5ms/step - loss: 0.1589 - acc: 0.9530 - val_loss: 0.0371 - val_acc: 0.9882\n",
      "Epoch 8/12\n",
      "60000/60000 [==============================] - 289s 5ms/step - loss: 0.1436 - acc: 0.9591 - val_loss: 0.0349 - val_acc: 0.9884\n",
      "Epoch 9/12\n",
      "60000/60000 [==============================] - 288s 5ms/step - loss: 0.1331 - acc: 0.9617 - val_loss: 0.0326 - val_acc: 0.9902\n",
      "Epoch 10/12\n",
      "60000/60000 [==============================] - 289s 5ms/step - loss: 0.1270 - acc: 0.9638 - val_loss: 0.0332 - val_acc: 0.9908\n",
      "Epoch 11/12\n",
      "60000/60000 [==============================] - 292s 5ms/step - loss: 0.1162 - acc: 0.9672 - val_loss: 0.0261 - val_acc: 0.9916\n",
      "Epoch 12/12\n",
      "60000/60000 [==============================] - 293s 5ms/step - loss: 0.1123 - acc: 0.9681 - val_loss: 0.0262 - val_acc: 0.9920\n",
      "Test loss: 0.0262210591178271\n",
      "Test accuracy: 0.992\n"
     ]
    }
   ],
   "source": [
    "model4 = Sequential()\n",
    "\n",
    "#conv_layer one\n",
    "model4.add(Conv2D(32, kernel_size=(3, 3),activation='relu',input_shape=input_shape,padding ='same'))\n",
    "model4.add(MaxPooling2D(pool_size=(2, 2)))\n",
    "model4.add(Dropout(0.25))\n",
    "\n",
    "#conv_layer two\n",
    "model4.add(Conv2D(128, (3, 3), activation='relu',padding ='same'))\n",
    "model4.add(BatchNormalization())\n",
    "model4.add(Dropout(0.25))\n",
    "\n",
    "#conv_layer three\n",
    "model4.add(Conv2D(32, (3, 3), activation='relu',padding ='same'))\n",
    "model4.add(BatchNormalization())\n",
    "model4.add(Dropout(0.25))\n",
    "\n",
    "#conv_layer four\n",
    "model4.add(Conv2D(40, (3, 3), activation='relu',padding ='same'))\n",
    "model4.add(MaxPooling2D(pool_size=(2, 2)))\n",
    "model4.add(BatchNormalization())\n",
    "model4.add(Dropout(0.25))\n",
    "\n",
    "#conv_layer five\n",
    "model4.add(Conv2D(8, (3, 3), activation='relu',padding ='same'))\n",
    "model4.add(MaxPooling2D(pool_size=(2, 2)))\n",
    "model4.add(BatchNormalization())\n",
    "model4.add(Dropout(0.25))\n",
    "\n",
    "#top layer\n",
    "model4.add(Flatten())\n",
    "model4.add(Dropout(0.5))\n",
    "\n",
    "model4.add(Dense(128, activation='relu'))\n",
    "model4.add(BatchNormalization())\n",
    "model4.add(Dropout(0.5))\n",
    "\n",
    "model4.add(Dense(128, activation='relu'))\n",
    "model4.add(BatchNormalization())\n",
    "model4.add(Dropout(0.5))\n",
    "\n",
    "model4.add(Dense(num_classes, activation='softmax'))\n",
    "\n",
    "model4.compile(loss=\"categorical_crossentropy\",\n",
    "              optimizer=\"adam\",\n",
    "              metrics=['accuracy'])\n",
    "\n",
    "history = model4.fit(x_train, y_train,\n",
    "          batch_size=batch_size,\n",
    "          epochs=epochs,\n",
    "          verbose=1,\n",
    "          validation_data=(x_test, y_test))\n",
    "score = model4.evaluate(x_test, y_test, verbose=0)\n",
    "print('Test loss:', score[0])\n",
    "print('Test accuracy:', score[1])"
   ]
  },
  {
   "cell_type": "code",
   "execution_count": 0,
   "metadata": {
    "colab": {
     "base_uri": "https://localhost:8080/",
     "height": 283
    },
    "colab_type": "code",
    "executionInfo": {
     "elapsed": 1253,
     "status": "ok",
     "timestamp": 1568721288953,
     "user": {
      "displayName": "Prassena Kannan",
      "photoUrl": "https://lh3.googleusercontent.com/-wdXb0DL2Ohg/AAAAAAAAAAI/AAAAAAAAAtk/gU50EgBa5uo/s64/photo.jpg",
      "userId": "11395127353489346000"
     },
     "user_tz": -330
    },
    "id": "rXOy_DCrmluI",
    "outputId": "14419699-cf52-45b4-b9d4-0c099992b8c9"
   },
   "outputs": [
    {
     "data": {
      "image/png": "[encoded data removed]",
      "text/plain": [
       "<Figure size 432x288 with 1 Axes>"
      ]
     },
     "metadata": {
      "tags": []
     },
     "output_type": "display_data"
    }
   ],
   "source": [
    "fig,ax = plt.subplots(1,1)\n",
    "ax.set_xlabel('epoch') ; ax.set_ylabel('Categorical Crossentropy Loss')\n",
    "\n",
    "# list of epoch numbers\n",
    "x = list(range(1,epochs+1))\n",
    "\n",
    "# print(history.history.keys())\n",
    "# dict_keys(['val_loss', 'val_acc', 'loss', 'acc'])\n",
    "# history = model_drop.fit(X_train, Y_train, batch_size=batch_size, epochs=nb_epoch, verbose=1, validation_data=(X_test, Y_test))\n",
    "\n",
    "# we will get val_loss and val_acc only when you pass the paramter validation_data\n",
    "# val_loss : validation loss\n",
    "# val_acc : validation accuracy\n",
    "\n",
    "# loss : training loss\n",
    "# acc : train accuracy\n",
    "# for each key in histrory.histrory we will have a list of length equal to number of epochs\n",
    "\n",
    "vy = history.history['val_loss']\n",
    "ty = history.history['loss']\n",
    "plt_dynamic(x, vy, ty, ax)"
   ]
  },
  {
   "cell_type": "markdown",
   "metadata": {
    "colab_type": "text",
    "id": "w7wy90GpzlCS"
   },
   "source": [
    "### 3.5 With Droupout's and Batch Normilization and with different Kernel size"
   ]
  },
  {
   "cell_type": "code",
   "execution_count": 0,
   "metadata": {
    "colab": {
     "base_uri": "https://localhost:8080/",
     "height": 899
    },
    "colab_type": "code",
    "executionInfo": {
     "elapsed": 4884439,
     "status": "ok",
     "timestamp": 1568745951103,
     "user": {
      "displayName": "Prassena Kannan",
      "photoUrl": "https://lh3.googleusercontent.com/-wdXb0DL2Ohg/AAAAAAAAAAI/AAAAAAAAAtk/gU50EgBa5uo/s64/photo.jpg",
      "userId": "11395127353489346000"
     },
     "user_tz": -330
    },
    "id": "OPtvGUFrzlCS",
    "outputId": "d227bd95-0647-4064-af05-57484655192c"
   },
   "outputs": [
    {
     "name": "stdout",
     "output_type": "stream",
     "text": [
      "WARNING:tensorflow:From /usr/local/lib/python3.6/dist-packages/keras/backend/tensorflow_backend.py:66: The name tf.get_default_graph is deprecated. Please use tf.compat.v1.get_default_graph instead.\n",
      "\n",
      "WARNING:tensorflow:From /usr/local/lib/python3.6/dist-packages/keras/backend/tensorflow_backend.py:541: The name tf.placeholder is deprecated. Please use tf.compat.v1.placeholder instead.\n",
      "\n",
      "WARNING:tensorflow:From /usr/local/lib/python3.6/dist-packages/keras/backend/tensorflow_backend.py:4432: The name tf.random_uniform is deprecated. Please use tf.random.uniform instead.\n",
      "\n",
      "WARNING:tensorflow:From /usr/local/lib/python3.6/dist-packages/keras/backend/tensorflow_backend.py:4267: The name tf.nn.max_pool is deprecated. Please use tf.nn.max_pool2d instead.\n",
      "\n",
      "WARNING:tensorflow:From /usr/local/lib/python3.6/dist-packages/keras/backend/tensorflow_backend.py:148: The name tf.placeholder_with_default is deprecated. Please use tf.compat.v1.placeholder_with_default instead.\n",
      "\n",
      "WARNING:tensorflow:From /usr/local/lib/python3.6/dist-packages/keras/backend/tensorflow_backend.py:3733: calling dropout (from tensorflow.python.ops.nn_ops) with keep_prob is deprecated and will be removed in a future version.\n",
      "Instructions for updating:\n",
      "Please use `rate` instead of `keep_prob`. Rate should be set to `rate = 1 - keep_prob`.\n",
      "WARNING:tensorflow:From /usr/local/lib/python3.6/dist-packages/keras/backend/tensorflow_backend.py:190: The name tf.get_default_session is deprecated. Please use tf.compat.v1.get_default_session instead.\n",
      "\n",
      "WARNING:tensorflow:From /usr/local/lib/python3.6/dist-packages/keras/backend/tensorflow_backend.py:2041: The name tf.nn.fused_batch_norm is deprecated. Please use tf.compat.v1.nn.fused_batch_norm instead.\n",
      "\n",
      "WARNING:tensorflow:From /usr/local/lib/python3.6/dist-packages/keras/optimizers.py:793: The name tf.train.Optimizer is deprecated. Please use tf.compat.v1.train.Optimizer instead.\n",
      "\n",
      "WARNING:tensorflow:From /usr/local/lib/python3.6/dist-packages/tensorflow/python/ops/math_grad.py:1250: add_dispatch_support.<locals>.wrapper (from tensorflow.python.ops.array_ops) is deprecated and will be removed in a future version.\n",
      "Instructions for updating:\n",
      "Use tf.where in 2.0, which has the same broadcast rule as np.where\n",
      "Train on 60000 samples, validate on 10000 samples\n",
      "Epoch 1/12\n",
      "60000/60000 [==============================] - 406s 7ms/step - loss: 1.3075 - acc: 0.5807 - val_loss: 0.1747 - val_acc: 0.9488\n",
      "Epoch 2/12\n",
      "60000/60000 [==============================] - 405s 7ms/step - loss: 0.4209 - acc: 0.8683 - val_loss: 0.0859 - val_acc: 0.9729\n",
      "Epoch 3/12\n",
      "60000/60000 [==============================] - 403s 7ms/step - loss: 0.2584 - acc: 0.9225 - val_loss: 0.0557 - val_acc: 0.9819\n",
      "Epoch 4/12\n",
      "60000/60000 [==============================] - 399s 7ms/step - loss: 0.1946 - acc: 0.9433 - val_loss: 0.0490 - val_acc: 0.9845\n",
      "Epoch 5/12\n",
      "60000/60000 [==============================] - 404s 7ms/step - loss: 0.1622 - acc: 0.9531 - val_loss: 0.0385 - val_acc: 0.9881\n",
      "Epoch 6/12\n",
      "60000/60000 [==============================] - 404s 7ms/step - loss: 0.1417 - acc: 0.9603 - val_loss: 0.0324 - val_acc: 0.9904\n",
      "Epoch 7/12\n",
      "60000/60000 [==============================] - 409s 7ms/step - loss: 0.1266 - acc: 0.9640 - val_loss: 0.0340 - val_acc: 0.9888\n",
      "Epoch 8/12\n",
      "60000/60000 [==============================] - 410s 7ms/step - loss: 0.1132 - acc: 0.9682 - val_loss: 0.0283 - val_acc: 0.9916\n",
      "Epoch 9/12\n",
      "60000/60000 [==============================] - 410s 7ms/step - loss: 0.1029 - acc: 0.9709 - val_loss: 0.0259 - val_acc: 0.9922\n",
      "Epoch 10/12\n",
      "60000/60000 [==============================] - 406s 7ms/step - loss: 0.0964 - acc: 0.9728 - val_loss: 0.0286 - val_acc: 0.9912\n",
      "Epoch 11/12\n",
      "60000/60000 [==============================] - 406s 7ms/step - loss: 0.0929 - acc: 0.9743 - val_loss: 0.0252 - val_acc: 0.9917\n",
      "Epoch 12/12\n",
      "60000/60000 [==============================] - 406s 7ms/step - loss: 0.0872 - acc: 0.9753 - val_loss: 0.0234 - val_acc: 0.9923\n",
      "Test loss: 0.023403005416726227\n",
      "Test accuracy: 0.9923\n"
     ]
    }
   ],
   "source": [
    "model5 = Sequential()\n",
    "\n",
    "#conv_layer one\n",
    "model5.add(Conv2D(32, kernel_size=(3, 3),activation='relu',input_shape=input_shape,padding ='same'))\n",
    "model5.add(MaxPooling2D(pool_size=(2, 2)))\n",
    "model5.add(Dropout(0.25))\n",
    "\n",
    "#conv_layer two\n",
    "model5.add(Conv2D(128, (2,2), activation='relu',padding ='same'))\n",
    "model5.add(BatchNormalization())\n",
    "model5.add(Dropout(0.25))\n",
    "\n",
    "#conv_layer three\n",
    "model5.add(Conv2D(32, (5,5), activation='relu',padding ='same'))\n",
    "model5.add(MaxPooling2D(pool_size=(2, 2)))\n",
    "model5.add(BatchNormalization())\n",
    "model5.add(Dropout(0.25))\n",
    "\n",
    "#conv_layer four\n",
    "model5.add(Conv2D(40, (2,2), activation='relu',padding ='same'))\n",
    "model5.add(BatchNormalization())\n",
    "model5.add(Dropout(0.25))\n",
    "\n",
    "#conv_layer five\n",
    "model5.add(Conv2D(8, (6,6), activation='relu',padding ='same'))\n",
    "model5.add(MaxPooling2D(pool_size=(2, 2)))\n",
    "model5.add(BatchNormalization())\n",
    "model5.add(Dropout(0.25))\n",
    "\n",
    "#top layer\n",
    "model5.add(Flatten())\n",
    "model5.add(Dropout(0.5))\n",
    "\n",
    "model5.add(Dense(128, activation='relu'))\n",
    "model5.add(BatchNormalization())\n",
    "model5.add(Dropout(0.5))\n",
    "\n",
    "model5.add(Dense(128, activation='relu'))\n",
    "model5.add(BatchNormalization())\n",
    "model5.add(Dropout(0.5))\n",
    "\n",
    "model5.add(Dense(num_classes, activation='softmax'))\n",
    "\n",
    "model5.compile(loss=\"categorical_crossentropy\",\n",
    "              optimizer=\"adam\",\n",
    "              metrics=['accuracy'])\n",
    "\n",
    "history = model5.fit(x_train, y_train,\n",
    "          batch_size=batch_size,\n",
    "          epochs=epochs,\n",
    "          verbose=1,\n",
    "          validation_data=(x_test, y_test))\n",
    "score = model5.evaluate(x_test, y_test, verbose=0)\n",
    "print('Test loss:', score[0])\n",
    "print('Test accuracy:', score[1])"
   ]
  },
  {
   "cell_type": "code",
   "execution_count": 0,
   "metadata": {
    "colab": {
     "base_uri": "https://localhost:8080/",
     "height": 283
    },
    "colab_type": "code",
    "executionInfo": {
     "elapsed": 4884095,
     "status": "ok",
     "timestamp": 1568745951122,
     "user": {
      "displayName": "Prassena Kannan",
      "photoUrl": "https://lh3.googleusercontent.com/-wdXb0DL2Ohg/AAAAAAAAAAI/AAAAAAAAAtk/gU50EgBa5uo/s64/photo.jpg",
      "userId": "11395127353489346000"
     },
     "user_tz": -330
    },
    "id": "JsqW24F36ar8",
    "outputId": "50197643-fd4c-424a-86be-6897ae5a087a"
   },
   "outputs": [
    {
     "data": {
      "image/png": "[encoded data removed]",
      "text/plain": [
       "<Figure size 432x288 with 1 Axes>"
      ]
     },
     "metadata": {
      "tags": []
     },
     "output_type": "display_data"
    }
   ],
   "source": [
    "fig,ax = plt.subplots(1,1)\n",
    "ax.set_xlabel('epoch') ; ax.set_ylabel('Categorical Crossentropy Loss')\n",
    "\n",
    "# list of epoch numbers\n",
    "x = list(range(1,epochs+1))\n",
    "\n",
    "# print(history.history.keys())\n",
    "# dict_keys(['val_loss', 'val_acc', 'loss', 'acc'])\n",
    "# history = model_drop.fit(X_train, Y_train, batch_size=batch_size, epochs=nb_epoch, verbose=1, validation_data=(X_test, Y_test))\n",
    "\n",
    "# we will get val_loss and val_acc only when you pass the paramter validation_data\n",
    "# val_loss : validation loss\n",
    "# val_acc : validation accuracy\n",
    "\n",
    "# loss : training loss\n",
    "# acc : train accuracy\n",
    "# for each key in histrory.histrory we will have a list of length equal to number of epochs\n",
    "\n",
    "vy = history.history['val_loss']\n",
    "ty = history.history['loss']\n",
    "plt_dynamic(x, vy, ty, ax)"
   ]
  },
  {
   "cell_type": "markdown",
   "metadata": {
    "colab_type": "text",
    "id": "DEqR3fVDn1Qx"
   },
   "source": [
    "### 3.6 With Droupout's and Batch Normilization where activation sigmoid and weight initilized"
   ]
  },
  {
   "cell_type": "code",
   "execution_count": 0,
   "metadata": {
    "colab": {
     "base_uri": "https://localhost:8080/",
     "height": 899
    },
    "colab_type": "code",
    "executionInfo": {
     "elapsed": 5264733,
     "status": "ok",
     "timestamp": 1568793474494,
     "user": {
      "displayName": "Prassena Kannan",
      "photoUrl": "https://lh3.googleusercontent.com/-wdXb0DL2Ohg/AAAAAAAAAAI/AAAAAAAAAtk/gU50EgBa5uo/s64/photo.jpg",
      "userId": "11395127353489346000"
     },
     "user_tz": -330
    },
    "id": "7U7HlEjxoBfZ",
    "outputId": "73c973cc-976f-4d2d-ad64-a3fd4aa00fe2"
   },
   "outputs": [
    {
     "name": "stdout",
     "output_type": "stream",
     "text": [
      "WARNING:tensorflow:From /usr/local/lib/python3.6/dist-packages/keras/backend/tensorflow_backend.py:66: The name tf.get_default_graph is deprecated. Please use tf.compat.v1.get_default_graph instead.\n",
      "\n",
      "WARNING:tensorflow:From /usr/local/lib/python3.6/dist-packages/keras/backend/tensorflow_backend.py:541: The name tf.placeholder is deprecated. Please use tf.compat.v1.placeholder instead.\n",
      "\n",
      "WARNING:tensorflow:From /usr/local/lib/python3.6/dist-packages/keras/backend/tensorflow_backend.py:4432: The name tf.random_uniform is deprecated. Please use tf.random.uniform instead.\n",
      "\n",
      "WARNING:tensorflow:From /usr/local/lib/python3.6/dist-packages/keras/backend/tensorflow_backend.py:4267: The name tf.nn.max_pool is deprecated. Please use tf.nn.max_pool2d instead.\n",
      "\n",
      "WARNING:tensorflow:From /usr/local/lib/python3.6/dist-packages/keras/backend/tensorflow_backend.py:148: The name tf.placeholder_with_default is deprecated. Please use tf.compat.v1.placeholder_with_default instead.\n",
      "\n",
      "WARNING:tensorflow:From /usr/local/lib/python3.6/dist-packages/keras/backend/tensorflow_backend.py:3733: calling dropout (from tensorflow.python.ops.nn_ops) with keep_prob is deprecated and will be removed in a future version.\n",
      "Instructions for updating:\n",
      "Please use `rate` instead of `keep_prob`. Rate should be set to `rate = 1 - keep_prob`.\n",
      "WARNING:tensorflow:From /usr/local/lib/python3.6/dist-packages/keras/backend/tensorflow_backend.py:190: The name tf.get_default_session is deprecated. Please use tf.compat.v1.get_default_session instead.\n",
      "\n",
      "WARNING:tensorflow:From /usr/local/lib/python3.6/dist-packages/keras/backend/tensorflow_backend.py:2041: The name tf.nn.fused_batch_norm is deprecated. Please use tf.compat.v1.nn.fused_batch_norm instead.\n",
      "\n",
      "WARNING:tensorflow:From /usr/local/lib/python3.6/dist-packages/keras/optimizers.py:793: The name tf.train.Optimizer is deprecated. Please use tf.compat.v1.train.Optimizer instead.\n",
      "\n",
      "WARNING:tensorflow:From /usr/local/lib/python3.6/dist-packages/tensorflow/python/ops/math_grad.py:1250: add_dispatch_support.<locals>.wrapper (from tensorflow.python.ops.array_ops) is deprecated and will be removed in a future version.\n",
      "Instructions for updating:\n",
      "Use tf.where in 2.0, which has the same broadcast rule as np.where\n",
      "Train on 60000 samples, validate on 10000 samples\n",
      "Epoch 1/12\n",
      "60000/60000 [==============================] - 442s 7ms/step - loss: 2.3875 - acc: 0.2048 - val_loss: 1.3163 - val_acc: 0.5565\n",
      "Epoch 2/12\n",
      "60000/60000 [==============================] - 434s 7ms/step - loss: 1.0288 - acc: 0.6501 - val_loss: 0.3935 - val_acc: 0.8761\n",
      "Epoch 3/12\n",
      "60000/60000 [==============================] - 437s 7ms/step - loss: 0.6866 - acc: 0.7777 - val_loss: 0.2428 - val_acc: 0.9275\n",
      "Epoch 4/12\n",
      "60000/60000 [==============================] - 435s 7ms/step - loss: 0.5241 - acc: 0.8352 - val_loss: 0.1962 - val_acc: 0.9396\n",
      "Epoch 5/12\n",
      "60000/60000 [==============================] - 440s 7ms/step - loss: 0.4322 - acc: 0.8685 - val_loss: 0.1826 - val_acc: 0.9430\n",
      "Epoch 6/12\n",
      "60000/60000 [==============================] - 440s 7ms/step - loss: 0.3717 - acc: 0.8884 - val_loss: 0.1375 - val_acc: 0.9593\n",
      "Epoch 7/12\n",
      "60000/60000 [==============================] - 442s 7ms/step - loss: 0.3366 - acc: 0.8977 - val_loss: 0.1147 - val_acc: 0.9653\n",
      "Epoch 8/12\n",
      "60000/60000 [==============================] - 436s 7ms/step - loss: 0.3082 - acc: 0.9077 - val_loss: 0.1387 - val_acc: 0.9575\n",
      "Epoch 9/12\n",
      "60000/60000 [==============================] - 436s 7ms/step - loss: 0.2899 - acc: 0.9143 - val_loss: 0.0907 - val_acc: 0.9730\n",
      "Epoch 10/12\n",
      "60000/60000 [==============================] - 436s 7ms/step - loss: 0.2717 - acc: 0.9202 - val_loss: 0.0909 - val_acc: 0.9726\n",
      "Epoch 11/12\n",
      "60000/60000 [==============================] - 437s 7ms/step - loss: 0.2559 - acc: 0.9256 - val_loss: 0.0934 - val_acc: 0.9726\n",
      "Epoch 12/12\n",
      "60000/60000 [==============================] - 430s 7ms/step - loss: 0.2437 - acc: 0.9295 - val_loss: 0.0884 - val_acc: 0.9746\n",
      "Test loss: 0.08842369659282268\n",
      "Test accuracy: 0.9746\n"
     ]
    }
   ],
   "source": [
    "model6 = Sequential()\n",
    "\n",
    "#conv_layer one\n",
    "model6.add(Conv2D(32, kernel_size=(3, 3),activation='sigmoid',input_shape=input_shape,padding ='same',kernel_initializer='glorot_normal'))\n",
    "model6.add(MaxPooling2D(pool_size=(2, 2)))\n",
    "model6.add(Dropout(0.25))\n",
    "\n",
    "#conv_layer two\n",
    "model6.add(Conv2D(128, (2,2), activation='sigmoid',padding ='same',kernel_initializer='glorot_normal'))\n",
    "model6.add(BatchNormalization())\n",
    "model6.add(Dropout(0.25))\n",
    "\n",
    "#conv_layer three\n",
    "model6.add(Conv2D(32, (5,5), activation='sigmoid',padding ='same',kernel_initializer='glorot_normal'))\n",
    "model6.add(MaxPooling2D(pool_size=(2, 2)))\n",
    "model6.add(BatchNormalization())\n",
    "model6.add(Dropout(0.25))\n",
    "\n",
    "#conv_layer four\n",
    "model6.add(Conv2D(40, (2,2), activation='sigmoid',padding ='same',kernel_initializer='glorot_normal'))\n",
    "model6.add(BatchNormalization())\n",
    "model6.add(Dropout(0.25))\n",
    "\n",
    "#conv_layer five\n",
    "model6.add(Conv2D(8, (6,6), activation='sigmoid',padding ='same',kernel_initializer='glorot_normal'))\n",
    "model6.add(MaxPooling2D(pool_size=(2, 2)))\n",
    "model6.add(BatchNormalization())\n",
    "model6.add(Dropout(0.25))\n",
    "\n",
    "#top layer\n",
    "model6.add(Flatten())\n",
    "model6.add(Dropout(0.5))\n",
    "\n",
    "model6.add(Dense(128, activation='sigmoid'))\n",
    "model6.add(BatchNormalization())\n",
    "model6.add(Dropout(0.5))\n",
    "\n",
    "model6.add(Dense(128, activation='sigmoid'))\n",
    "model6.add(BatchNormalization())\n",
    "model6.add(Dropout(0.5))\n",
    "\n",
    "model6.add(Dense(num_classes, activation='softmax'))\n",
    "\n",
    "model6.compile(loss=\"categorical_crossentropy\",\n",
    "              optimizer=\"adam\",\n",
    "              metrics=['accuracy'])\n",
    "\n",
    "history = model6.fit(x_train, y_train,\n",
    "          batch_size=batch_size,\n",
    "          epochs=epochs,\n",
    "          verbose=1,\n",
    "          validation_data=(x_test, y_test))\n",
    "score = model6.evaluate(x_test, y_test, verbose=0)\n",
    "print('Test loss:', score[0])\n",
    "print('Test accuracy:', score[1])"
   ]
  },
  {
   "cell_type": "code",
   "execution_count": 0,
   "metadata": {
    "colab": {
     "base_uri": "https://localhost:8080/",
     "height": 283
    },
    "colab_type": "code",
    "executionInfo": {
     "elapsed": 5264312,
     "status": "ok",
     "timestamp": 1568793474506,
     "user": {
      "displayName": "Prassena Kannan",
      "photoUrl": "https://lh3.googleusercontent.com/-wdXb0DL2Ohg/AAAAAAAAAAI/AAAAAAAAAtk/gU50EgBa5uo/s64/photo.jpg",
      "userId": "11395127353489346000"
     },
     "user_tz": -330
    },
    "id": "aGQawCcAoDfd",
    "outputId": "6b71ba46-983b-41f2-f3b1-5e6133059476"
   },
   "outputs": [
    {
     "data": {
      "image/png": "[encoded data removed]",
      "text/plain": [
       "<Figure size 432x288 with 1 Axes>"
      ]
     },
     "metadata": {
      "tags": []
     },
     "output_type": "display_data"
    }
   ],
   "source": [
    "fig,ax = plt.subplots(1,1)\n",
    "ax.set_xlabel('epoch') ; ax.set_ylabel('Categorical Crossentropy Loss')\n",
    "\n",
    "# list of epoch numbers\n",
    "x = list(range(1,epochs+1))\n",
    "\n",
    "# print(history.history.keys())\n",
    "# dict_keys(['val_loss', 'val_acc', 'loss', 'acc'])\n",
    "# history = model_drop.fit(X_train, Y_train, batch_size=batch_size, epochs=nb_epoch, verbose=1, validation_data=(X_test, Y_test))\n",
    "\n",
    "# we will get val_loss and val_acc only when you pass the paramter validation_data\n",
    "# val_loss : validation loss\n",
    "# val_acc : validation accuracy\n",
    "\n",
    "# loss : training loss\n",
    "# acc : train accuracy\n",
    "# for each key in histrory.histrory we will have a list of length equal to number of epochs\n",
    "\n",
    "vy = history.history['val_loss']\n",
    "ty = history.history['loss']\n",
    "plt_dynamic(x, vy, ty, ax)"
   ]
  },
  {
   "cell_type": "markdown",
   "metadata": {
    "colab_type": "text",
    "id": "GFcxXcCWn1Q9"
   },
   "source": [
    "### 3.7 With Droupout's and Batch Normilization where activation tanh and weight initilized"
   ]
  },
  {
   "cell_type": "code",
   "execution_count": 0,
   "metadata": {
    "colab": {
     "base_uri": "https://localhost:8080/",
     "height": 512
    },
    "colab_type": "code",
    "executionInfo": {
     "elapsed": 5291647,
     "status": "ok",
     "timestamp": 1568798879249,
     "user": {
      "displayName": "Prassena Kannan",
      "photoUrl": "https://lh3.googleusercontent.com/-wdXb0DL2Ohg/AAAAAAAAAAI/AAAAAAAAAtk/gU50EgBa5uo/s64/photo.jpg",
      "userId": "11395127353489346000"
     },
     "user_tz": -330
    },
    "id": "4yoWb2tN7FlS",
    "outputId": "589ad8cb-287d-4fb0-b775-4e738b0361a3"
   },
   "outputs": [
    {
     "name": "stdout",
     "output_type": "stream",
     "text": [
      "Train on 60000 samples, validate on 10000 samples\n",
      "Epoch 1/12\n",
      "60000/60000 [==============================] - 433s 7ms/step - loss: 1.5087 - acc: 0.5098 - val_loss: 0.2584 - val_acc: 0.9233\n",
      "Epoch 2/12\n",
      "60000/60000 [==============================] - 428s 7ms/step - loss: 0.5794 - acc: 0.8145 - val_loss: 0.1464 - val_acc: 0.9564\n",
      "Epoch 3/12\n",
      "60000/60000 [==============================] - 430s 7ms/step - loss: 0.4049 - acc: 0.8791 - val_loss: 0.1224 - val_acc: 0.9663\n",
      "Epoch 4/12\n",
      "60000/60000 [==============================] - 433s 7ms/step - loss: 0.3470 - acc: 0.8970 - val_loss: 0.2341 - val_acc: 0.9338\n",
      "Epoch 5/12\n",
      "60000/60000 [==============================] - 435s 7ms/step - loss: 0.3069 - acc: 0.9110 - val_loss: 0.1331 - val_acc: 0.9608\n",
      "Epoch 6/12\n",
      "60000/60000 [==============================] - 435s 7ms/step - loss: 0.2907 - acc: 0.9159 - val_loss: 0.1038 - val_acc: 0.9705\n",
      "Epoch 7/12\n",
      "60000/60000 [==============================] - 427s 7ms/step - loss: 0.2649 - acc: 0.9232 - val_loss: 0.1392 - val_acc: 0.9596\n",
      "Epoch 8/12\n",
      "60000/60000 [==============================] - 440s 7ms/step - loss: 0.2588 - acc: 0.9249 - val_loss: 0.1447 - val_acc: 0.9554\n",
      "Epoch 9/12\n",
      "60000/60000 [==============================] - 447s 7ms/step - loss: 0.2519 - acc: 0.9277 - val_loss: 0.0923 - val_acc: 0.9733\n",
      "Epoch 10/12\n",
      "60000/60000 [==============================] - 454s 8ms/step - loss: 0.2373 - acc: 0.9306 - val_loss: 0.0744 - val_acc: 0.9803\n",
      "Epoch 11/12\n",
      "60000/60000 [==============================] - 448s 7ms/step - loss: 0.2353 - acc: 0.9334 - val_loss: 0.0840 - val_acc: 0.9777\n",
      "Epoch 12/12\n",
      "60000/60000 [==============================] - 459s 8ms/step - loss: 0.2244 - acc: 0.9357 - val_loss: 0.0977 - val_acc: 0.9732\n",
      "Test loss: 0.09772934632115066\n",
      "Test accuracy: 0.9732\n"
     ]
    }
   ],
   "source": [
    "model7 = Sequential()\n",
    "\n",
    "#conv_layer one\n",
    "model7.add(Conv2D(32, kernel_size=(3, 3),activation='tanh',input_shape=input_shape,padding ='same',kernel_initializer='glorot_normal'))\n",
    "model7.add(MaxPooling2D(pool_size=(2, 2)))\n",
    "model7.add(Dropout(0.25))\n",
    "\n",
    "#conv_layer two\n",
    "model7.add(Conv2D(128, (2,2), activation='tanh',padding ='same',kernel_initializer='glorot_normal'))\n",
    "model7.add(BatchNormalization())\n",
    "model7.add(Dropout(0.25))\n",
    "\n",
    "#conv_layer three\n",
    "model7.add(Conv2D(32, (5,5), activation='tanh',padding ='same',kernel_initializer='glorot_normal'))\n",
    "model7.add(MaxPooling2D(pool_size=(2, 2)))\n",
    "model7.add(BatchNormalization())\n",
    "model7.add(Dropout(0.25))\n",
    "\n",
    "#conv_layer four\n",
    "model7.add(Conv2D(40, (2,2), activation='tanh',padding ='same',kernel_initializer='glorot_normal'))\n",
    "model7.add(BatchNormalization())\n",
    "model7.add(Dropout(0.25))\n",
    "\n",
    "#conv_layer five\n",
    "model7.add(Conv2D(8, (6,6), activation='tanh',padding ='same',kernel_initializer='glorot_normal'))\n",
    "model7.add(MaxPooling2D(pool_size=(2, 2)))\n",
    "model7.add(BatchNormalization())\n",
    "model7.add(Dropout(0.25))\n",
    "\n",
    "#top layer\n",
    "model7.add(Flatten())\n",
    "model7.add(Dropout(0.5))\n",
    "\n",
    "model7.add(Dense(128, activation='tanh'))\n",
    "model7.add(BatchNormalization())\n",
    "model7.add(Dropout(0.5))\n",
    "\n",
    "model7.add(Dense(128, activation='tanh'))\n",
    "model7.add(BatchNormalization())\n",
    "model7.add(Dropout(0.5))\n",
    "\n",
    "model7.add(Dense(num_classes, activation='softmax'))\n",
    "\n",
    "model7.compile(loss=\"categorical_crossentropy\",\n",
    "              optimizer=\"adam\",\n",
    "              metrics=['accuracy'])\n",
    "\n",
    "history = model7.fit(x_train, y_train,\n",
    "          batch_size=batch_size,\n",
    "          epochs=epochs,\n",
    "          verbose=1,\n",
    "          validation_data=(x_test, y_test))\n",
    "score = model7.evaluate(x_test, y_test, verbose=0)\n",
    "print('Test loss:', score[0])\n",
    "print('Test accuracy:', score[1])"
   ]
  },
  {
   "cell_type": "code",
   "execution_count": 0,
   "metadata": {
    "colab": {
     "base_uri": "https://localhost:8080/",
     "height": 283
    },
    "colab_type": "code",
    "executionInfo": {
     "elapsed": 5285242,
     "status": "ok",
     "timestamp": 1568798879253,
     "user": {
      "displayName": "Prassena Kannan",
      "photoUrl": "https://lh3.googleusercontent.com/-wdXb0DL2Ohg/AAAAAAAAAAI/AAAAAAAAAtk/gU50EgBa5uo/s64/photo.jpg",
      "userId": "11395127353489346000"
     },
     "user_tz": -330
    },
    "id": "rnfywgcE7Fli",
    "outputId": "26b42700-f6ac-4f0c-a28b-0b4659fdf9bc"
   },
   "outputs": [
    {
     "data": {
      "image/png": "[encoded data removed]",
      "text/plain": [
       "<Figure size 432x288 with 1 Axes>"
      ]
     },
     "metadata": {
      "tags": []
     },
     "output_type": "display_data"
    }
   ],
   "source": [
    "fig,ax = plt.subplots(1,1)\n",
    "ax.set_xlabel('epoch') ; ax.set_ylabel('Categorical Crossentropy Loss')\n",
    "\n",
    "# list of epoch numbers\n",
    "x = list(range(1,epochs+1))\n",
    "\n",
    "# print(history.history.keys())\n",
    "# dict_keys(['val_loss', 'val_acc', 'loss', 'acc'])\n",
    "# history = model_drop.fit(X_train, Y_train, batch_size=batch_size, epochs=nb_epoch, verbose=1, validation_data=(X_test, Y_test))\n",
    "\n",
    "# we will get val_loss and val_acc only when you pass the paramter validation_data\n",
    "# val_loss : validation loss\n",
    "# val_acc : validation accuracy\n",
    "\n",
    "# loss : training loss\n",
    "# acc : train accuracy\n",
    "# for each key in histrory.histrory we will have a list of length equal to number of epochs\n",
    "\n",
    "vy = history.history['val_loss']\n",
    "ty = history.history['loss']\n",
    "plt_dynamic(x, vy, ty, ax)"
   ]
  },
  {
   "cell_type": "markdown",
   "metadata": {
    "colab_type": "text",
    "id": "a_i-hWKAn1RA"
   },
   "source": [
    "### 3.8 With Droupout's and Batch Normilization where optimizer as sdg"
   ]
  },
  {
   "cell_type": "code",
   "execution_count": 0,
   "metadata": {
    "colab": {
     "base_uri": "https://localhost:8080/",
     "height": 512
    },
    "colab_type": "code",
    "executionInfo": {
     "elapsed": 5478764,
     "status": "ok",
     "timestamp": 1568808578710,
     "user": {
      "displayName": "Prassena Kannan",
      "photoUrl": "https://lh3.googleusercontent.com/-wdXb0DL2Ohg/AAAAAAAAAAI/AAAAAAAAAtk/gU50EgBa5uo/s64/photo.jpg",
      "userId": "11395127353489346000"
     },
     "user_tz": -330
    },
    "id": "DoHlbcXB762K",
    "outputId": "c21c46d9-1f84-47b3-88e5-c3b1e1aeac14"
   },
   "outputs": [
    {
     "name": "stdout",
     "output_type": "stream",
     "text": [
      "Train on 60000 samples, validate on 10000 samples\n",
      "Epoch 1/12\n",
      "60000/60000 [==============================] - 444s 7ms/step - loss: 1.9506 - acc: 0.3788 - val_loss: 0.5746 - val_acc: 0.8465\n",
      "Epoch 2/12\n",
      "60000/60000 [==============================] - 433s 7ms/step - loss: 0.9691 - acc: 0.6715 - val_loss: 0.3129 - val_acc: 0.9178\n",
      "Epoch 3/12\n",
      "60000/60000 [==============================] - 439s 7ms/step - loss: 0.6835 - acc: 0.7739 - val_loss: 0.2045 - val_acc: 0.9398\n",
      "Epoch 4/12\n",
      "60000/60000 [==============================] - 455s 8ms/step - loss: 0.5424 - acc: 0.8269 - val_loss: 0.1477 - val_acc: 0.9547\n",
      "Epoch 5/12\n",
      "60000/60000 [==============================] - 449s 7ms/step - loss: 0.4624 - acc: 0.8551 - val_loss: 0.1140 - val_acc: 0.9622\n",
      "Epoch 6/12\n",
      "60000/60000 [==============================] - 453s 8ms/step - loss: 0.4052 - acc: 0.8743 - val_loss: 0.0925 - val_acc: 0.9698\n",
      "Epoch 7/12\n",
      "60000/60000 [==============================] - 454s 8ms/step - loss: 0.3604 - acc: 0.8905 - val_loss: 0.0818 - val_acc: 0.9737\n",
      "Epoch 8/12\n",
      "60000/60000 [==============================] - 472s 8ms/step - loss: 0.3291 - acc: 0.9002 - val_loss: 0.0693 - val_acc: 0.9774\n",
      "Epoch 9/12\n",
      "60000/60000 [==============================] - 470s 8ms/step - loss: 0.3076 - acc: 0.9079 - val_loss: 0.0656 - val_acc: 0.9787\n",
      "Epoch 10/12\n",
      "60000/60000 [==============================] - 456s 8ms/step - loss: 0.2853 - acc: 0.9145 - val_loss: 0.0592 - val_acc: 0.9818\n",
      "Epoch 11/12\n",
      "60000/60000 [==============================] - 462s 8ms/step - loss: 0.2667 - acc: 0.9196 - val_loss: 0.0557 - val_acc: 0.9815\n",
      "Epoch 12/12\n",
      "60000/60000 [==============================] - 473s 8ms/step - loss: 0.2509 - acc: 0.9247 - val_loss: 0.0542 - val_acc: 0.9827\n",
      "Test loss: 0.054151018558908255\n",
      "Test accuracy: 0.9827\n"
     ]
    }
   ],
   "source": [
    "model8 = Sequential()\n",
    "\n",
    "#conv_layer one\n",
    "model8.add(Conv2D(32, kernel_size=(3, 3),activation='relu',input_shape=input_shape,padding ='same',kernel_initializer='he_normal'))\n",
    "model8.add(MaxPooling2D(pool_size=(2, 2)))\n",
    "model8.add(Dropout(0.25))\n",
    "\n",
    "#conv_layer two\n",
    "model8.add(Conv2D(128, (2,2), activation='relu',padding ='same',kernel_initializer='he_normal'))\n",
    "model8.add(BatchNormalization())\n",
    "model8.add(Dropout(0.25))\n",
    "\n",
    "#conv_layer three\n",
    "model8.add(Conv2D(32, (5,5), activation='relu',padding ='same',kernel_initializer='he_normal'))\n",
    "model8.add(MaxPooling2D(pool_size=(2, 2)))\n",
    "model8.add(BatchNormalization())\n",
    "model8.add(Dropout(0.25))\n",
    "\n",
    "#conv_layer four\n",
    "model8.add(Conv2D(40, (2,2), activation='relu',padding ='same',kernel_initializer='he_normal'))\n",
    "model8.add(BatchNormalization())\n",
    "model8.add(Dropout(0.25))\n",
    "\n",
    "#conv_layer five\n",
    "model8.add(Conv2D(8, (6,6), activation='relu',padding ='same',kernel_initializer='he_normal'))\n",
    "model8.add(MaxPooling2D(pool_size=(2, 2)))\n",
    "model8.add(BatchNormalization())\n",
    "model8.add(Dropout(0.25))\n",
    "\n",
    "#top layer\n",
    "model8.add(Flatten())\n",
    "model8.add(Dropout(0.5))\n",
    "\n",
    "model8.add(Dense(128, activation='relu'))\n",
    "model8.add(BatchNormalization())\n",
    "model8.add(Dropout(0.5))\n",
    "\n",
    "model8.add(Dense(128, activation='relu'))\n",
    "model8.add(BatchNormalization())\n",
    "model8.add(Dropout(0.5))\n",
    "\n",
    "model8.add(Dense(num_classes, activation='softmax'))\n",
    "\n",
    "model8.compile(loss=\"categorical_crossentropy\",\n",
    "              optimizer=\"sgd\",\n",
    "              metrics=['accuracy'])\n",
    "\n",
    "history = model8.fit(x_train, y_train,\n",
    "          batch_size=batch_size,\n",
    "          epochs=epochs,\n",
    "          verbose=1,\n",
    "          validation_data=(x_test, y_test))\n",
    "score = model8.evaluate(x_test, y_test, verbose=0)\n",
    "print('Test loss:', score[0])\n",
    "print('Test accuracy:', score[1])"
   ]
  },
  {
   "cell_type": "code",
   "execution_count": 0,
   "metadata": {
    "colab": {
     "base_uri": "https://localhost:8080/",
     "height": 283
    },
    "colab_type": "code",
    "executionInfo": {
     "elapsed": 5478357,
     "status": "ok",
     "timestamp": 1568808578726,
     "user": {
      "displayName": "Prassena Kannan",
      "photoUrl": "https://lh3.googleusercontent.com/-wdXb0DL2Ohg/AAAAAAAAAAI/AAAAAAAAAtk/gU50EgBa5uo/s64/photo.jpg",
      "userId": "11395127353489346000"
     },
     "user_tz": -330
    },
    "id": "rggW0GgH762V",
    "outputId": "a5f9ee74-321d-40ba-dcaf-19da41b97c09"
   },
   "outputs": [
    {
     "data": {
      "image/png": "[encoded data removed]",
      "text/plain": [
       "<Figure size 432x288 with 1 Axes>"
      ]
     },
     "metadata": {
      "tags": []
     },
     "output_type": "display_data"
    }
   ],
   "source": [
    "fig,ax = plt.subplots(1,1)\n",
    "ax.set_xlabel('epoch') ; ax.set_ylabel('Categorical Crossentropy Loss')\n",
    "\n",
    "# list of epoch numbers\n",
    "x = list(range(1,epochs+1))\n",
    "\n",
    "# print(history.history.keys())\n",
    "# dict_keys(['val_loss', 'val_acc', 'loss', 'acc'])\n",
    "# history = model_drop.fit(X_train, Y_train, batch_size=batch_size, epochs=nb_epoch, verbose=1, validation_data=(X_test, Y_test))\n",
    "\n",
    "# we will get val_loss and val_acc only when you pass the paramter validation_data\n",
    "# val_loss : validation loss\n",
    "# val_acc : validation accuracy\n",
    "\n",
    "# loss : training loss\n",
    "# acc : train accuracy\n",
    "# for each key in histrory.histrory we will have a list of length equal to number of epochs\n",
    "\n",
    "vy = history.history['val_loss']\n",
    "ty = history.history['loss']\n",
    "plt_dynamic(x, vy, ty, ax)"
   ]
  },
  {
   "cell_type": "markdown",
   "metadata": {
    "colab_type": "text",
    "id": "ITfM-szSNlUv"
   },
   "source": [
    "<h2>Result's</h2>"
   ]
  },
  {
   "cell_type": "code",
   "execution_count": 0,
   "metadata": {
    "colab": {},
    "colab_type": "code",
    "id": "GItAksOoNlUw"
   },
   "outputs": [],
   "source": [
    "#for ploting\n",
    "import matplotlib.pyplot as plt\n",
    "def plot_gr(X_axis,LP_loss,LP_acc,layers):\n",
    "    fig = plt.figure(figsize = (12,5))\n",
    "    plt.subplot(1,2,1)\n",
    "    plt.plot(X_axis,LP_loss)\n",
    "    plt.legend(\"loss\")\n",
    "    plt.xlabel (\"Model\")\n",
    "    plt.ylabel(\"loss\")\n",
    "    plt.title(str(layers) +\"layer CNN\")\n",
    "    plt.subplot(1,2,2)\n",
    "    plt.plot(X_axis,LP_acc)\n",
    "    plt.xlabel (\"Model\")\n",
    "    plt.ylabel(\"Accuracy\")\n",
    "    plt.legend(\"Acc\")\n",
    "    plt.title(str(layers) +\"layer CNN\")\n",
    "    plt.tight_layout(pad=0.4, w_pad=0.5, h_pad=1.0)"
   ]
  },
  {
   "cell_type": "code",
   "execution_count": 0,
   "metadata": {
    "colab": {},
    "colab_type": "code",
    "id": "nrGF7B7INlUx"
   },
   "outputs": [],
   "source": [
    "#BN refers to Batch Normilization layer\n",
    "#DO refers to Drop Out layer\n",
    "#Batchsize = 128\n",
    "#Activation = Relu,sigmoid,tanh\n",
    "#Optimizer = Adam,sgd"
   ]
  },
  {
   "cell_type": "markdown",
   "metadata": {
    "colab_type": "text",
    "id": "clnZzBoHNlUy"
   },
   "source": [
    "<h2> 2 Layer CNN </h2>"
   ]
  },
  {
   "cell_type": "code",
   "execution_count": 31,
   "metadata": {
    "colab": {
     "base_uri": "https://localhost:8080/",
     "height": 228
    },
    "colab_type": "code",
    "executionInfo": {
     "elapsed": 1308,
     "status": "ok",
     "timestamp": 1568914009427,
     "user": {
      "displayName": "Prassena Kannan",
      "photoUrl": "https://lh3.googleusercontent.com/-wdXb0DL2Ohg/AAAAAAAAAAI/AAAAAAAAAtk/gU50EgBa5uo/s64/photo.jpg",
      "userId": "11395127353489346000"
     },
     "user_tz": -330
    },
    "id": "btI3R3M-NlU0",
    "outputId": "435abc71-ad12-42e5-8f69-ed05e1587be3"
   },
   "outputs": [
    {
     "name": "stdout",
     "output_type": "stream",
     "text": [
      "+--------------------+------------------+------------------+-----------+----------+\n",
      "| Model Description  | 1St layer Filter | 2nd layer Filter | Test Loss | Test Acc |\n",
      "+--------------------+------------------+------------------+-----------+----------+\n",
      "|  without BN & DO   |     32 (3X3)     |     64 (3X3)     |   0.0546  |  0.9876  |\n",
      "|      Only Do       |     32 (3X3)     |     64 (3X3)     |   0.0259  |  0.9926  |\n",
      "|      Only BN       |     32 (3X3)     |     64 (3X3)     |   0.0577  |  0.9836  |\n",
      "|    With BN & DO    |     32 (3X3)     |     64 (5X5)     |   0.0229  |  0.9915  |\n",
      "|  Diff kernel size  |     32 (3X3)     |     64 (5X5)     |   0.0195  |  0.993   |\n",
      "| Activation Sigmoid |     32 (3X3)     |     64 (5X5)     |   0.0572  |  0.9807  |\n",
      "|  Activation Tanh   |     32 (3X3)     |     64 (5X5)     |   0.0546  |  0.982   |\n",
      "|   Optimizer SGD    |     32 (3X3)     |     64 (5X5)     |   0.0538  |  0.9815  |\n",
      "+--------------------+------------------+------------------+-----------+----------+\n"
     ]
    }
   ],
   "source": [
    "from prettytable import PrettyTable\n",
    "x = PrettyTable()\n",
    "x.field_names = [\"Model Description\",\"1St layer Filter\",\"2nd layer Filter\",\"Test Loss\",\"Test Acc\"]\n",
    "x.add_row([\"without BN & DO\" ,\"32 (3X3)\" ,\"64 (3X3)\" ,0.0546 ,0.9876])\n",
    "x.add_row([\"Only Do\" ,\"32 (3X3)\" ,\"64 (3X3)\" ,0.0259 ,0.9926])\n",
    "x.add_row([\"Only BN \" ,\"32 (3X3)\" ,\"64 (3X3)\" ,0.0577 ,0.9836])\n",
    "x.add_row([\"With BN & DO\" ,\"32 (3X3)\" ,\"64 (5X5)\" ,0.0229 ,0.9915])\n",
    "x.add_row([\"Diff kernel size\" ,\"32 (3X3)\" ,\"64 (5X5)\" ,0.0195 ,0.993])\n",
    "x.add_row([\"Activation Sigmoid\" ,\"32 (3X3)\" ,\"64 (5X5)\" ,0.0572 ,0.9807])\n",
    "x.add_row([\"Activation Tanh\" ,\"32 (3X3)\" ,\"64 (5X5)\" ,0.0546,0.982])\n",
    "x.add_row([\"Optimizer SGD\" ,\"32 (3X3)\" ,\"64 (5X5)\" ,0.0538 ,0.9815])\n",
    "\n",
    "print(x)"
   ]
  },
  {
   "cell_type": "code",
   "execution_count": 0,
   "metadata": {
    "colab": {},
    "colab_type": "code",
    "id": "Igacr1Z2NlU1"
   },
   "outputs": [],
   "source": [
    "X_axis = [\"simple\",\"DO\",\"BN\",\"BN & DO\",\"diff size\",\"sigmoid\",\"tanh\",\"SGD\"]\n",
    "two_L_loss = [0.0546 ,0.0259 ,0.0577 ,0.0229 ,0.0195 ,0.0572 ,0.0546 ,0.0538]\n",
    "two_L_acc = [0.9876,0.9926,0.9836,0.9915,0.993,0.9807,0.982,0.9815 ]"
   ]
  },
  {
   "cell_type": "code",
   "execution_count": 33,
   "metadata": {
    "colab": {
     "base_uri": "https://localhost:8080/",
     "height": 383
    },
    "colab_type": "code",
    "executionInfo": {
     "elapsed": 2383,
     "status": "ok",
     "timestamp": 1568914010914,
     "user": {
      "displayName": "Prassena Kannan",
      "photoUrl": "https://lh3.googleusercontent.com/-wdXb0DL2Ohg/AAAAAAAAAAI/AAAAAAAAAtk/gU50EgBa5uo/s64/photo.jpg",
      "userId": "11395127353489346000"
     },
     "user_tz": -330
    },
    "id": "wWGtRGv0NlU2",
    "outputId": "ed35988d-4df8-4a88-ead0-172740806ff9"
   },
   "outputs": [
    {
     "data": {
      "image/png": "[encoded data removed]",
      "text/plain": [
       "<Figure size 864x360 with 2 Axes>"
      ]
     },
     "metadata": {
      "tags": []
     },
     "output_type": "display_data"
    }
   ],
   "source": [
    "plot_gr(X_axis,two_L_loss,two_L_acc,2)"
   ]
  },
  {
   "cell_type": "markdown",
   "metadata": {
    "colab_type": "text",
    "id": "0OWMZNrmNlU4"
   },
   "source": [
    "### Observation:\n",
    "we can see that the loss got decreased when we use BN and DO with Relu activation and Adam optimizer.when the activation is sigmoid or tanh we can see that the loss increased ,it might be because it would have encountered vanishing gradient .\n",
    "in case of optimizer as SGD the loss is high because it converges to actual minima is low rate"
   ]
  },
  {
   "cell_type": "markdown",
   "metadata": {
    "colab_type": "text",
    "id": "RoYTmT3sNlU4"
   },
   "source": [
    "<h2> 3 Layer CNN <h/2>"
   ]
  },
  {
   "cell_type": "code",
   "execution_count": 34,
   "metadata": {
    "colab": {
     "base_uri": "https://localhost:8080/",
     "height": 228
    },
    "colab_type": "code",
    "executionInfo": {
     "elapsed": 1760,
     "status": "ok",
     "timestamp": 1568914010916,
     "user": {
      "displayName": "Prassena Kannan",
      "photoUrl": "https://lh3.googleusercontent.com/-wdXb0DL2Ohg/AAAAAAAAAAI/AAAAAAAAAtk/gU50EgBa5uo/s64/photo.jpg",
      "userId": "11395127353489346000"
     },
     "user_tz": -330
    },
    "id": "mL7asS2ONlU7",
    "outputId": "949c6343-8444-4c6c-bca0-10d76900a503"
   },
   "outputs": [
    {
     "name": "stdout",
     "output_type": "stream",
     "text": [
      "+--------------------+------------------+------------------+------------------+-----------+----------+\n",
      "| Model Description  | 1St layer Filter | 2nd layer Filter | 3rd layer Filter | Test Loss | Test Acc |\n",
      "+--------------------+------------------+------------------+------------------+-----------+----------+\n",
      "|  without BN & DO   |     32 (5X5)     |     64 (5X5)     |     32 (5X5)     |   0.0339  |  0.9916  |\n",
      "|      Only Do       |     32 (5X5)     |     64 (3X3)     |     32 (5X5)     |   0.0169  |  0.9941  |\n",
      "|      Only BN       |     32 (5X5)     |     64 (3X3)     |     32 (5X5)     |   0.0317  |  0.9916  |\n",
      "|    With BN & DO    |     32 (5X5)     |     64 (3X3)     |     32 (5X5)     |   0.0149  |  0.9946  |\n",
      "|  Diff kernel size  |     32 (3X3)     |    64 (5, 5)     |     32 (2X2)     |   0.022   |  0.9926  |\n",
      "| Activation Sigmoid |     32 (3X3)     |    64 (5, 5)     |     32 (2X2)     |   0.0492  |  0.9836  |\n",
      "|  Activation Tanh   |     32 (3X3)     |    64 (5, 5)     |     32 (2X2)     |   0.0623  |  0.9812  |\n",
      "|   Optimizer SGD    |     32 (3X3)     |    64 (5, 5)     |     32 (2X2)     |   0.0233  |  0.9918  |\n",
      "+--------------------+------------------+------------------+------------------+-----------+----------+\n"
     ]
    }
   ],
   "source": [
    "x = PrettyTable()\n",
    "x.field_names = [\"Model Description\",\"1St layer Filter\",\"2nd layer Filter\",\"3rd layer Filter\",\"Test Loss\",\"Test Acc\"]\n",
    "x.add_row([\"without BN & DO\"\t,\"32 (5X5)\" , \"64 (5X5)\" , \"32 (5X5)\",\t0.0339,\t0.9916])\n",
    "x.add_row([\"Only Do\"\t,\"32 (5X5)\" , \"64 (3X3)\" , \"32 (5X5)\",\t0.0169\t,0.9941])\n",
    "x.add_row([\"Only BN\"\t,\"32 (5X5)\" , \"64 (3X3)\" , \"32 (5X5)\",\t0.0317,\t0.9916])\n",
    "x.add_row([\"With BN & DO\"\t,\"32 (5X5)\" , \"64 (3X3)\" , \"32 (5X5)\",\t0.0149,\t0.9946])\n",
    "x.add_row([\"Diff kernel size\"\t,\"32 (3X3)\" , \"64 (5, 5)\" , \"32 (2X2)\",\t0.022,\t0.9926])\n",
    "x.add_row([\"Activation Sigmoid\"\t,\"32 (3X3)\" , \"64 (5, 5)\" , \"32 (2X2)\",\t0.0492\t,0.9836])\n",
    "x.add_row([\"Activation Tanh\"\t,\"32 (3X3)\" , \"64 (5, 5)\" , \"32 (2X2)\",\t0.0623\t,0.9812])\n",
    "x.add_row([\"Optimizer SGD\"\t,\"32 (3X3)\" , \"64 (5, 5)\" , \"32 (2X2)\",\t0.0233\t,0.9918])\n",
    "\n",
    "print(x)"
   ]
  },
  {
   "cell_type": "code",
   "execution_count": 0,
   "metadata": {
    "colab": {},
    "colab_type": "code",
    "id": "9Gyrpt6TNlU9"
   },
   "outputs": [],
   "source": [
    "X_axis = [\"simple\",\"DO\",\"BN\",\"BN & DO\",\"diff size\",\"sigmoid\",\"tanh\",\"SGD\"]\n",
    "three_L_loss = [0.0339,0.0169,0.0317,0.0149,0.022,0.0492,0.0623,0.0233  ]\n",
    "three_L_acc = [0.9916,0.9941,0.9916,0.9946,0.9926,0.9836,0.9812,0.9918  ]"
   ]
  },
  {
   "cell_type": "code",
   "execution_count": 36,
   "metadata": {
    "colab": {
     "base_uri": "https://localhost:8080/",
     "height": 383
    },
    "colab_type": "code",
    "executionInfo": {
     "elapsed": 2390,
     "status": "ok",
     "timestamp": 1568914011884,
     "user": {
      "displayName": "Prassena Kannan",
      "photoUrl": "https://lh3.googleusercontent.com/-wdXb0DL2Ohg/AAAAAAAAAAI/AAAAAAAAAtk/gU50EgBa5uo/s64/photo.jpg",
      "userId": "11395127353489346000"
     },
     "user_tz": -330
    },
    "id": "1i3iSvZBNlU_",
    "outputId": "b3f624ad-4367-474c-f5c4-eb0bfc295fea"
   },
   "outputs": [
    {
     "data": {
      "image/png": "[encoded data removed]",
      "text/plain": [
       "<Figure size 864x360 with 2 Axes>"
      ]
     },
     "metadata": {
      "tags": []
     },
     "output_type": "display_data"
    }
   ],
   "source": [
    "plot_gr(X_axis,three_L_loss,three_L_acc,3)"
   ]
  },
  {
   "cell_type": "markdown",
   "metadata": {
    "colab_type": "text",
    "id": "2Oklx87NNlVA"
   },
   "source": [
    "### Observation:\n",
    "we can see the same pattern which is there in 2layer CNN,t the loss got decreased when we use BN and DO with Relu activation and Adam optimizer.when the activation is sigmoid or tanh we can see that the loss increased ,it might be because it would have encountered vanishing gradient .\n",
    "in case of optimizer as SGD the loss is high because it converges to actual minima is low rate"
   ]
  },
  {
   "cell_type": "markdown",
   "metadata": {
    "colab_type": "text",
    "id": "6T9Zm0M0NlVB"
   },
   "source": [
    "<h2> 5 Layer CNN </h2>"
   ]
  },
  {
   "cell_type": "code",
   "execution_count": 37,
   "metadata": {
    "colab": {
     "base_uri": "https://localhost:8080/",
     "height": 248
    },
    "colab_type": "code",
    "executionInfo": {
     "elapsed": 1625,
     "status": "ok",
     "timestamp": 1568914011891,
     "user": {
      "displayName": "Prassena Kannan",
      "photoUrl": "https://lh3.googleusercontent.com/-wdXb0DL2Ohg/AAAAAAAAAAI/AAAAAAAAAtk/gU50EgBa5uo/s64/photo.jpg",
      "userId": "11395127353489346000"
     },
     "user_tz": -330
    },
    "id": "k_nPMG91jdGa",
    "outputId": "7f113f69-d15b-4b10-e94c-ce54438d4301"
   },
   "outputs": [
    {
     "name": "stdout",
     "output_type": "stream",
     "text": [
      "+--------------------+------------------+------------------+------------------+------------------+------------------+-----------+----------+\n",
      "| Model Description  | 1St layer Filter | 2nd layer Filter | 3rd layer Filter | 4th layer Filter | 5th layer Filter | Test Loss | Test Acc |\n",
      "+--------------------+------------------+------------------+------------------+------------------+------------------+-----------+----------+\n",
      "|  without BN & DO   |     32 (5X5)     |     64 (5X5)     |     32 (6X6)     |    128 (3X3)     |     16 (5X5)     |   0.0459  |  0.9892  |\n",
      "|      Only Do       |     32 (5X5)     |     64 (3X3)     |     32 (5X5)     |    128 (3X3)     |     16 (8X8)     |   0.0345  |  0.9916  |\n",
      "|      Only BN       |     32 (3X3)     |    128 (3X3)     |     32 (3X3)     |     40 (3X3)     |     8 (3X3)      |   0.0358  |  0.9893  |\n",
      "|    With BN & DO    |     32 (3X3)     |    128 (3X3)     |     32 (3X3)     |     40 (3X3)     |     8 (3X3)      |   0.0307  |  0.9901  |\n",
      "|  Diff kernel size  |     32 (3X3)     |    128 (2X2)     |     32 (5X5)     |     40 (2X2)     |     8 (6X6)      |   0.0234  |  0.9923  |\n",
      "| Activation Sigmoid |     32 (3X3)     |    128 (2X2)     |     32 (5X5)     |     40 (2X2)     |     8 (6X6)      |   0.0884  |  0.9746  |\n",
      "|  Activation Tanh   |     32 (3X3)     |    128 (2X2)     |     32 (5X5)     |     40 (2X2)     |     8 (6X6)      |   0.0977  |  0.9732  |\n",
      "|   Optimizer SGD    |     32 (3X3)     |    128 (2X2)     |     32 (5X5)     |     40 (2X2)     |     8 (6X6)      |   0.0541  |  0.9827  |\n",
      "+--------------------+------------------+------------------+------------------+------------------+------------------+-----------+----------+\n"
     ]
    }
   ],
   "source": [
    "from prettytable import PrettyTable\n",
    "x = PrettyTable()\n",
    "x.field_names = [\"Model Description\",\"1St layer Filter\",\"2nd layer Filter\",\"3rd layer Filter\",\"4th layer Filter\",\"5th layer Filter\",\"Test Loss\",\"Test Acc\"]\n",
    "x.add_row([\"without BN & DO\"\t,\"32 (5X5)\" , \"64 (5X5)\" , \"32 (6X6)\" , \"128 (3X3)\" , \"16 (5X5)\",\t0.0459\t,0.9892])\n",
    "x.add_row([\"Only Do\"\t,\"32 (5X5)\" , \"64 (3X3)\"\t,\"32 (5X5)\" , \"128 (3X3)\" , \"16 (8X8)\",\t0.0345\t,0.9916])\n",
    "x.add_row([\"Only BN\"\t,\"32 (3X3)\" , \"128 (3X3)\" , \"32 (3X3)\" , \"40 (3X3)\",\t\"8 (3X3)\" ,\t0.0358,\t0.9893])\n",
    "x.add_row([\"With BN & DO\"\t,\"32 (3X3)\" , \"128 (3X3)\" , \"32 (3X3)\" , \"40 (3X3)\",\t\"8 (3X3)\"\t,0.0307\t,0.9901])\n",
    "x.add_row([\"Diff kernel size\"\t,\"32 (3X3)\" , \"128 (2X2)\" , \"32 (5X5)\" , \"40 (2X2)\" , \"8 (6X6)\",\t0.0234,\t0.9923])\n",
    "x.add_row([\"Activation Sigmoid\"\t,\"32 (3X3)\" , \"128 (2X2)\" , \"32 (5X5)\" , \"40 (2X2)\" , \"8 (6X6)\",\t0.0884,\t0.9746])\n",
    "x.add_row([\"Activation Tanh\"\t,\"32 (3X3)\" , \"128 (2X2)\" , \"32 (5X5)\" , \"40 (2X2)\" , \"8 (6X6)\",\t0.0977\t,0.9732])\n",
    "x.add_row([\"Optimizer SGD\"\t,\"32 (3X3)\" , \"128 (2X2)\" , \"32 (5X5)\" , \"40 (2X2)\" , \"8 (6X6)\",\t0.0541,\t0.9827])\n",
    "print(x)"
   ]
  },
  {
   "cell_type": "code",
   "execution_count": 0,
   "metadata": {
    "colab": {},
    "colab_type": "code",
    "id": "f68KFL7djdGr"
   },
   "outputs": [],
   "source": [
    "X_axis = [\"simple\",\"DO\",\"BN\",\"BN & DO\",\"diff size\",\"sigmoid\",\"tanh\",\"SGD\"]\n",
    "five_L_loss = [0.0459,0.0345,0.0358,0.0307,0.0234,0.0884,0.0977,0.0541  ]\n",
    "five_L_acc = [0.9892,0.9916,0.9893,0.9901,0.9923,0.9746,0.9732,0.9827  ]"
   ]
  },
  {
   "cell_type": "code",
   "execution_count": 39,
   "metadata": {
    "colab": {
     "base_uri": "https://localhost:8080/",
     "height": 383
    },
    "colab_type": "code",
    "executionInfo": {
     "elapsed": 2769,
     "status": "ok",
     "timestamp": 1568914013833,
     "user": {
      "displayName": "Prassena Kannan",
      "photoUrl": "https://lh3.googleusercontent.com/-wdXb0DL2Ohg/AAAAAAAAAAI/AAAAAAAAAtk/gU50EgBa5uo/s64/photo.jpg",
      "userId": "11395127353489346000"
     },
     "user_tz": -330
    },
    "id": "ORuxnkQDNlVF",
    "outputId": "cd8e1d14-35b4-42e8-bf85-e026e638b3d0"
   },
   "outputs": [
    {
     "data": {
      "image/png": "[encoded data removed]",
      "text/plain": [
       "<Figure size 864x360 with 2 Axes>"
      ]
     },
     "metadata": {
      "tags": []
     },
     "output_type": "display_data"
    }
   ],
   "source": [
    "plot_gr(X_axis,five_L_loss,five_L_acc,5)"
   ]
  },
  {
   "cell_type": "markdown",
   "metadata": {
    "colab_type": "text",
    "id": "FkSGGZU2jRHJ"
   },
   "source": [
    "### Observation:\n",
    "we can see that the loss got decreased when we use BN and DO with Relu activation and Adam optimizer.when the activation is sigmoid or tanh we can see that the loss increased ,it might be because it would have encountered vanishing gradient .\n",
    "in case of optimizer as SGD the loss is high because it converges to actual minima is low rate"
   ]
  },
  {
   "cell_type": "code",
   "execution_count": 40,
   "metadata": {
    "colab": {
     "base_uri": "https://localhost:8080/",
     "height": 387
    },
    "colab_type": "code",
    "executionInfo": {
     "elapsed": 2085,
     "status": "ok",
     "timestamp": 1568914014881,
     "user": {
      "displayName": "Prassena Kannan",
      "photoUrl": "https://lh3.googleusercontent.com/-wdXb0DL2Ohg/AAAAAAAAAAI/AAAAAAAAAtk/gU50EgBa5uo/s64/photo.jpg",
      "userId": "11395127353489346000"
     },
     "user_tz": -330
    },
    "id": "mGGo5ZTGpE_z",
    "outputId": "30621e66-eb91-4b4e-d8e9-7cd41267d8d1"
   },
   "outputs": [
    {
     "data": {
      "text/plain": [
       "Text(0.5, 1.0, 'Model vs Accuracy')"
      ]
     },
     "execution_count": 40,
     "metadata": {
      "tags": []
     },
     "output_type": "execute_result"
    },
    {
     "data": {
      "image/png": "[encoded data removed]",
      "text/plain": [
       "<Figure size 1080x360 with 2 Axes>"
      ]
     },
     "metadata": {
      "tags": []
     },
     "output_type": "display_data"
    }
   ],
   "source": [
    "import matplotlib.pyplot as plt\n",
    "plt.figure(figsize=(15,5))\n",
    "plt.subplot(1,2,1)\n",
    "plt.plot(X_axis,two_L_loss,label = 2)\n",
    "plt.plot(X_axis,three_L_loss,label = 3)\n",
    "plt.plot(X_axis,five_L_loss,label = 5)\n",
    "plt.legend()\n",
    "plt.xlabel(\"Models\")\n",
    "plt.ylabel(\"Loss\")\n",
    "plt.title(\"Model vs loss\")\n",
    "plt.subplot(1,2,2)\n",
    "plt.plot(X_axis,two_L_acc,label = 2)\n",
    "plt.plot(X_axis,three_L_acc,label = 3)\n",
    "plt.plot(X_axis,five_L_acc,label = 5)\n",
    "plt.legend()\n",
    "plt.xlabel(\"Models\")\n",
    "plt.ylabel(\"Accuracy\")\n",
    "plt.title(\"Model vs Accuracy\")"
   ]
  },
  {
   "cell_type": "markdown",
   "metadata": {
    "colab_type": "text",
    "id": "P0hVUG-ENlVH"
   },
   "source": [
    "### Observation:\n",
    "From the above graph we can see that the loss curve of 5 layered CNN is always below loss curve of 3 layered and CNN and 3 layerd CNN curve is below 2layered CNN.so we can witness increase in number of layers results in decrease in loss.same way the accuracy curve of deep layered CNN is always above less deep layered CNN."
   ]
  }
 ],
 "metadata": {
  "colab": {
   "collapsed_sections": [],
   "name": "prassena.kannan@gmail.com_13.ipynb",
   "provenance": []
  },
  "kernelspec": {
   "display_name": "Python 3",
   "language": "python",
   "name": "python3"
  },
  "language_info": {
   "codemirror_mode": {
    "name": "ipython",
    "version": 3
   },
   "file_extension": ".py",
   "mimetype": "text/x-python",
   "name": "python",
   "nbconvert_exporter": "python",
   "pygments_lexer": "ipython3",
   "version": "3.7.3"
  }
 },
 "nbformat": 4,
 "nbformat_minor": 1
}
